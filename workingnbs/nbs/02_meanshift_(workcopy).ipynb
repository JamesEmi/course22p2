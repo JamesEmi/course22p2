{
 "cells": [
  {
   "cell_type": "markdown",
   "metadata": {},
   "source": [
    "# Clustering"
   ]
  },
  {
   "cell_type": "markdown",
   "metadata": {},
   "source": [
    "Clustering techniques are unsupervised learning algorithms that try to group unlabelled data into \"clusters\", using the (typically spatial) structure of the data itself. It has many [applications](https://en.wikipedia.org/wiki/Cluster_analysis#Applications).\n",
    "\n",
    "The easiest way to demonstrate how clustering works is to simply generate some data and show them in action. We'll start off by importing the libraries we'll be using today."
   ]
  },
  {
   "cell_type": "markdown",
   "metadata": {},
   "source": [
    "*15 May 2023 - \"This nb will be a good way for us to exercise our tensor manipulation muscles\" - Jeremy*"
   ]
  },
  {
   "cell_type": "code",
   "execution_count": 1,
   "metadata": {},
   "outputs": [],
   "source": [
    "import math, matplotlib.pyplot as plt, operator, torch\n",
    "from functools import partial"
   ]
  },
  {
   "cell_type": "code",
   "execution_count": 2,
   "metadata": {},
   "outputs": [],
   "source": [
    "torch.manual_seed(42)\n",
    "torch.set_printoptions(precision=3, linewidth=140, sci_mode=False)"
   ]
  },
  {
   "cell_type": "markdown",
   "metadata": {},
   "source": [
    "## Create data"
   ]
  },
  {
   "cell_type": "markdown",
   "metadata": {},
   "source": [
    "A good way to test an algorithm is by creating synthetic data, where we know how it behaves!!"
   ]
  },
  {
   "cell_type": "code",
   "execution_count": 3,
   "metadata": {},
   "outputs": [
    {
     "data": {
      "text/plain": [
       "250"
      ]
     },
     "execution_count": 3,
     "metadata": {},
     "output_type": "execute_result"
    }
   ],
   "source": [
    "n_clusters = 6\n",
    "n_samples = 250\n",
    "n_samples"
   ]
  },
  {
   "cell_type": "markdown",
   "metadata": {},
   "source": [
    "To generate our data, we're going to pick 6 random points, which we'll call centroids, and for each point we're going to generate 250 random points about it."
   ]
  },
  {
   "cell_type": "markdown",
   "metadata": {},
   "source": [
    "First, create 6 random centroids:"
   ]
  },
  {
   "cell_type": "code",
   "execution_count": 4,
   "metadata": {},
   "outputs": [
    {
     "data": {
      "text/plain": [
       "tensor([[0.882, 0.915],\n",
       "        [0.383, 0.959],\n",
       "        [0.390, 0.601],\n",
       "        [0.257, 0.794],\n",
       "        [0.941, 0.133],\n",
       "        [0.935, 0.594]])"
      ]
     },
     "execution_count": 4,
     "metadata": {},
     "output_type": "execute_result"
    }
   ],
   "source": [
    "trial = torch.rand(n_clusters,2)\n",
    "trial"
   ]
  },
  {
   "cell_type": "markdown",
   "metadata": {},
   "source": [
    "I find it interesting how `torch.rand` creates values between 0 and 1. Why the `(n_clusters,2)`?? Because we ned the points in 2D no?"
   ]
  },
  {
   "cell_type": "code",
   "execution_count": 5,
   "metadata": {},
   "outputs": [
    {
     "data": {
      "text/plain": [
       "tensor([[61.759, 64.050],\n",
       "        [26.800, 67.151],\n",
       "        [27.331, 42.063],\n",
       "        [17.960, 55.555],\n",
       "        [65.854,  9.323],\n",
       "        [65.422, 41.551]])"
      ]
     },
     "execution_count": 5,
     "metadata": {},
     "output_type": "execute_result"
    }
   ],
   "source": [
    "trial*70"
   ]
  },
  {
   "cell_type": "code",
   "execution_count": 6,
   "metadata": {},
   "outputs": [
    {
     "data": {
      "text/plain": [
       "tensor([[ 26.759,  29.050],\n",
       "        [ -8.200,  32.151],\n",
       "        [ -7.669,   7.063],\n",
       "        [-17.040,  20.555],\n",
       "        [ 30.854, -25.677],\n",
       "        [ 30.422,   6.551]])"
      ]
     },
     "execution_count": 6,
     "metadata": {},
     "output_type": "execute_result"
    }
   ],
   "source": [
    "trial*70 - 35"
   ]
  },
  {
   "cell_type": "markdown",
   "metadata": {},
   "source": [
    "What do the `*70` and `-35` do?? I suppose it the former scales the values out of the `[0,1]` range to the `[0,70]` range, and the latter moves the points leftward - i.e, to the `[-35,35]` range."
   ]
  },
  {
   "cell_type": "code",
   "execution_count": 7,
   "metadata": {},
   "outputs": [],
   "source": [
    "centroids = torch.rand(n_clusters, 2)*70-35"
   ]
  },
  {
   "cell_type": "markdown",
   "metadata": {},
   "source": [
    "Then we need to randomly generate data around these 6 centroids. For this, we've written a function `sample()`:"
   ]
  },
  {
   "cell_type": "code",
   "execution_count": 8,
   "metadata": {},
   "outputs": [],
   "source": [
    "from torch.distributions.multivariate_normal import MultivariateNormal\n",
    "from torch import tensor"
   ]
  },
  {
   "cell_type": "code",
   "execution_count": 9,
   "metadata": {},
   "outputs": [],
   "source": [
    "def sample(m):\n",
    "    return MultivariateNormal(m, torch.diag(tensor([5.,5.]))).sample((n_samples,))\n",
    "# Yet to understand this code!!"
   ]
  },
  {
   "cell_type": "markdown",
   "metadata": {},
   "source": [
    "`m` denotes the mean values around which random normally distributed values are generated. Here that is a 2-D point. Then `torch.diag(tensor([5.,5.]))` denotes the covariance matrix. "
   ]
  },
  {
   "cell_type": "code",
   "execution_count": 10,
   "metadata": {},
   "outputs": [
    {
     "data": {
      "text/plain": [
       "torch.Size([1500, 2])"
      ]
     },
     "execution_count": 10,
     "metadata": {},
     "output_type": "execute_result"
    }
   ],
   "source": [
    "slices = [sample(c) for c in centroids]\n",
    "data = torch.cat(slices)\n",
    "data.shape"
   ]
  },
  {
   "cell_type": "markdown",
   "metadata": {},
   "source": [
    "Below we can see each centroid marked w/ X, and the coloring associated to each respective cluster."
   ]
  },
  {
   "cell_type": "code",
   "execution_count": 11,
   "metadata": {},
   "outputs": [],
   "source": [
    "def plot_data(centroids, data, n_samples, ax=None):\n",
    "    if ax is None: _,ax = plt.subplots()\n",
    "    for i, centroid in enumerate(centroids):\n",
    "        samples = data[i*n_samples:(i+1)*n_samples]\n",
    "        ax.scatter(samples[:,0], samples[:,1], s=1)\n",
    "        ax.plot(*centroid, markersize=10, marker=\"x\", color='k', mew=5)\n",
    "        ax.plot(*centroid, markersize=5, marker=\"x\", color='m', mew=2)"
   ]
  },
  {
   "cell_type": "code",
   "execution_count": 12,
   "metadata": {},
   "outputs": [
    {
     "data": {
      "image/png": "[encoded data removed]",
      "text/plain": [
       "<Figure size 640x480 with 1 Axes>"
      ]
     },
     "metadata": {},
     "output_type": "display_data"
    }
   ],
   "source": [
    "plot_data(centroids, data, n_samples)"
   ]
  },
  {
   "cell_type": "markdown",
   "metadata": {},
   "source": [
    "Now, how do we build something that takes wheere all these points are, and returns where all the X's are??"
   ]
  },
  {
   "cell_type": "markdown",
   "metadata": {},
   "source": [
    "## Mean shift"
   ]
  },
  {
   "cell_type": "markdown",
   "metadata": {},
   "source": [
    "Most people that have come across clustering algorithms have learnt about **k-means**. Mean shift clustering is a newer and less well-known approach, but it has some important advantages:\n",
    "* It doesn't require selecting the number of clusters in advance, but instead just requires a **bandwidth** to be specified, which can be easily chosen automatically\n",
    "* It can handle clusters of any shape, whereas k-means (without using special extensions) requires that clusters be roughly ball shaped."
   ]
  },
  {
   "cell_type": "markdown",
   "metadata": {},
   "source": [
    "The algorithm is as follows:\n",
    "* For each data point x in the sample X, find the distance between that point x and every other point in X\n",
    "* Create weights for each point in X by using the **Gaussian kernel** of that point's distance to x\n",
    "    * This weighting approach penalizes points further away from x\n",
    "    * The rate at which the weights fall to zero is determined by the **bandwidth**, which is the standard deviation of the Gaussian\n",
    "* Update x as the weighted average of all other points in X, weighted based on the previous step\n",
    "\n",
    "This will iteratively push points that are close together even closer until they are next to each other."
   ]
  },
  {
   "cell_type": "code",
   "execution_count": 13,
   "metadata": {},
   "outputs": [
    {
     "data": {
      "text/plain": [
       "tensor([3.877, 5.521])"
      ]
     },
     "execution_count": 13,
     "metadata": {},
     "output_type": "execute_result"
    }
   ],
   "source": [
    "midp = data.mean(0)\n",
    "midp"
   ]
  },
  {
   "cell_type": "code",
   "execution_count": 14,
   "metadata": {},
   "outputs": [
    {
     "data": {
      "image/png": "[encoded data removed]",
      "text/plain": [
       "<Figure size 640x480 with 1 Axes>"
      ]
     },
     "metadata": {},
     "output_type": "display_data"
    }
   ],
   "source": [
    "plot_data([midp]*6, data, n_samples)\n",
    "# Why multiply by 6? It is already a mean value right??"
   ]
  },
  {
   "cell_type": "markdown",
   "metadata": {},
   "source": [
    "So here's the definition of the gaussian kernel, which you may remember from high school...\n",
    " This person at the science march certainly remembered!\n",
    "\n",
    "<img src=\"http://i.imgur.com/nijQLHw.jpg\" width=400>\n",
    "\n",
    "*\"This is not NORMAL!!\"*"
   ]
  },
  {
   "cell_type": "markdown",
   "metadata": {},
   "source": [
    "Let's define the expression for the gaussian kernel:"
   ]
  },
  {
   "cell_type": "code",
   "execution_count": 15,
   "metadata": {},
   "outputs": [],
   "source": [
    "def gaussian(d, bw): return torch.exp(-0.5*((d/bw))**2) / (bw*math.sqrt(2*math.pi))"
   ]
  },
  {
   "cell_type": "markdown",
   "metadata": {},
   "source": [
    "It's also useful to have a function to quickly plot and visualise such expressions. `matplotlib` lacks such a function so we'll write on ourselves."
   ]
  },
  {
   "cell_type": "code",
   "execution_count": 16,
   "metadata": {},
   "outputs": [],
   "source": [
    "def plot_func(f):\n",
    "    x = torch.linspace(0,10,100)\n",
    "    plt.plot(x, f(x))"
   ]
  },
  {
   "cell_type": "code",
   "execution_count": 17,
   "metadata": {},
   "outputs": [
    {
     "data": {
      "image/png": "[encoded data removed]",
      "text/plain": [
       "<Figure size 640x480 with 1 Axes>"
      ]
     },
     "metadata": {},
     "output_type": "display_data"
    }
   ],
   "source": [
    "plot_func(partial(gaussian, bw=2.5))"
   ]
  },
  {
   "cell_type": "markdown",
   "metadata": {},
   "source": [
    "See the function? If very close to the point of interest, you get a high weight. If very far from the point of interest, the weight also becomes low."
   ]
  },
  {
   "cell_type": "markdown",
   "metadata": {},
   "source": [
    "Also notice how we managed to plot the gaussian function for a bandwidth of 2.5? We used a special thing from `functools` called `partial`."
   ]
  },
  {
   "cell_type": "code",
   "execution_count": 18,
   "metadata": {},
   "outputs": [
    {
     "data": {
      "text/plain": [
       "functools.partial"
      ]
     },
     "execution_count": 18,
     "metadata": {},
     "output_type": "execute_result"
    }
   ],
   "source": [
    "partial"
   ]
  },
  {
   "cell_type": "markdown",
   "metadata": {},
   "source": [
    "*Note: See how we found out where the `partial` comes from? The dumb way to do it is to scroll up all thee way and look at imports. The smart way to do it is to just type it in a cell, run it, and see where it comes from. And if you want more details, run a cell with `partial??`*:"
   ]
  },
  {
   "cell_type": "code",
   "execution_count": 19,
   "metadata": {},
   "outputs": [
    {
     "data": {
      "text/plain": [
       "\u001b[0;31mInit signature:\u001b[0m \u001b[0mpartial\u001b[0m\u001b[0;34m(\u001b[0m\u001b[0mself\u001b[0m\u001b[0;34m,\u001b[0m \u001b[0;34m/\u001b[0m\u001b[0;34m,\u001b[0m \u001b[0;34m*\u001b[0m\u001b[0margs\u001b[0m\u001b[0;34m,\u001b[0m \u001b[0;34m**\u001b[0m\u001b[0mkwargs\u001b[0m\u001b[0;34m)\u001b[0m\u001b[0;34m\u001b[0m\u001b[0;34m\u001b[0m\u001b[0m\n",
       "\u001b[0;31mDocstring:\u001b[0m     \n",
       "partial(func, *args, **keywords) - new function with partial application\n",
       "of the given arguments and keywords.\n",
       "\u001b[0;31mFile:\u001b[0m           ~/mambaforge/lib/python3.9/functools.py\n",
       "\u001b[0;31mType:\u001b[0m           type\n",
       "\u001b[0;31mSubclasses:\u001b[0m     \n"
      ]
     },
     "metadata": {},
     "output_type": "display_data"
    }
   ],
   "source": [
    "partial?"
   ]
  },
  {
   "cell_type": "code",
   "execution_count": 20,
   "metadata": {},
   "outputs": [
    {
     "data": {
      "text/plain": [
       "\u001b[0;31mInit signature:\u001b[0m \u001b[0mpartial\u001b[0m\u001b[0;34m(\u001b[0m\u001b[0mself\u001b[0m\u001b[0;34m,\u001b[0m \u001b[0;34m/\u001b[0m\u001b[0;34m,\u001b[0m \u001b[0;34m*\u001b[0m\u001b[0margs\u001b[0m\u001b[0;34m,\u001b[0m \u001b[0;34m**\u001b[0m\u001b[0mkwargs\u001b[0m\u001b[0;34m)\u001b[0m\u001b[0;34m\u001b[0m\u001b[0;34m\u001b[0m\u001b[0m\n",
       "\u001b[0;31mDocstring:\u001b[0m     \n",
       "partial(func, *args, **keywords) - new function with partial application\n",
       "of the given arguments and keywords.\n",
       "\u001b[0;31mSource:\u001b[0m        \n",
       "\u001b[0;32mclass\u001b[0m \u001b[0mpartial\u001b[0m\u001b[0;34m:\u001b[0m\u001b[0;34m\u001b[0m\n",
       "\u001b[0;34m\u001b[0m    \u001b[0;34m\"\"\"New function with partial application of the given arguments\u001b[0m\n",
       "\u001b[0;34m    and keywords.\u001b[0m\n",
       "\u001b[0;34m    \"\"\"\u001b[0m\u001b[0;34m\u001b[0m\n",
       "\u001b[0;34m\u001b[0m\u001b[0;34m\u001b[0m\n",
       "\u001b[0;34m\u001b[0m    \u001b[0m__slots__\u001b[0m \u001b[0;34m=\u001b[0m \u001b[0;34m\"func\"\u001b[0m\u001b[0;34m,\u001b[0m \u001b[0;34m\"args\"\u001b[0m\u001b[0;34m,\u001b[0m \u001b[0;34m\"keywords\"\u001b[0m\u001b[0;34m,\u001b[0m \u001b[0;34m\"__dict__\"\u001b[0m\u001b[0;34m,\u001b[0m \u001b[0;34m\"__weakref__\"\u001b[0m\u001b[0;34m\u001b[0m\n",
       "\u001b[0;34m\u001b[0m\u001b[0;34m\u001b[0m\n",
       "\u001b[0;34m\u001b[0m    \u001b[0;32mdef\u001b[0m \u001b[0m__new__\u001b[0m\u001b[0;34m(\u001b[0m\u001b[0mcls\u001b[0m\u001b[0;34m,\u001b[0m \u001b[0mfunc\u001b[0m\u001b[0;34m,\u001b[0m \u001b[0;34m/\u001b[0m\u001b[0;34m,\u001b[0m \u001b[0;34m*\u001b[0m\u001b[0margs\u001b[0m\u001b[0;34m,\u001b[0m \u001b[0;34m**\u001b[0m\u001b[0mkeywords\u001b[0m\u001b[0;34m)\u001b[0m\u001b[0;34m:\u001b[0m\u001b[0;34m\u001b[0m\n",
       "\u001b[0;34m\u001b[0m        \u001b[0;32mif\u001b[0m \u001b[0;32mnot\u001b[0m \u001b[0mcallable\u001b[0m\u001b[0;34m(\u001b[0m\u001b[0mfunc\u001b[0m\u001b[0;34m)\u001b[0m\u001b[0;34m:\u001b[0m\u001b[0;34m\u001b[0m\n",
       "\u001b[0;34m\u001b[0m            \u001b[0;32mraise\u001b[0m \u001b[0mTypeError\u001b[0m\u001b[0;34m(\u001b[0m\u001b[0;34m\"the first argument must be callable\"\u001b[0m\u001b[0;34m)\u001b[0m\u001b[0;34m\u001b[0m\n",
       "\u001b[0;34m\u001b[0m\u001b[0;34m\u001b[0m\n",
       "\u001b[0;34m\u001b[0m        \u001b[0;32mif\u001b[0m \u001b[0mhasattr\u001b[0m\u001b[0;34m(\u001b[0m\u001b[0mfunc\u001b[0m\u001b[0;34m,\u001b[0m \u001b[0;34m\"func\"\u001b[0m\u001b[0;34m)\u001b[0m\u001b[0;34m:\u001b[0m\u001b[0;34m\u001b[0m\n",
       "\u001b[0;34m\u001b[0m            \u001b[0margs\u001b[0m \u001b[0;34m=\u001b[0m \u001b[0mfunc\u001b[0m\u001b[0;34m.\u001b[0m\u001b[0margs\u001b[0m \u001b[0;34m+\u001b[0m \u001b[0margs\u001b[0m\u001b[0;34m\u001b[0m\n",
       "\u001b[0;34m\u001b[0m            \u001b[0mkeywords\u001b[0m \u001b[0;34m=\u001b[0m \u001b[0;34m{\u001b[0m\u001b[0;34m**\u001b[0m\u001b[0mfunc\u001b[0m\u001b[0;34m.\u001b[0m\u001b[0mkeywords\u001b[0m\u001b[0;34m,\u001b[0m \u001b[0;34m**\u001b[0m\u001b[0mkeywords\u001b[0m\u001b[0;34m}\u001b[0m\u001b[0;34m\u001b[0m\n",
       "\u001b[0;34m\u001b[0m            \u001b[0mfunc\u001b[0m \u001b[0;34m=\u001b[0m \u001b[0mfunc\u001b[0m\u001b[0;34m.\u001b[0m\u001b[0mfunc\u001b[0m\u001b[0;34m\u001b[0m\n",
       "\u001b[0;34m\u001b[0m\u001b[0;34m\u001b[0m\n",
       "\u001b[0;34m\u001b[0m        \u001b[0mself\u001b[0m \u001b[0;34m=\u001b[0m \u001b[0msuper\u001b[0m\u001b[0;34m(\u001b[0m\u001b[0mpartial\u001b[0m\u001b[0;34m,\u001b[0m \u001b[0mcls\u001b[0m\u001b[0;34m)\u001b[0m\u001b[0;34m.\u001b[0m\u001b[0m__new__\u001b[0m\u001b[0;34m(\u001b[0m\u001b[0mcls\u001b[0m\u001b[0;34m)\u001b[0m\u001b[0;34m\u001b[0m\n",
       "\u001b[0;34m\u001b[0m\u001b[0;34m\u001b[0m\n",
       "\u001b[0;34m\u001b[0m        \u001b[0mself\u001b[0m\u001b[0;34m.\u001b[0m\u001b[0mfunc\u001b[0m \u001b[0;34m=\u001b[0m \u001b[0mfunc\u001b[0m\u001b[0;34m\u001b[0m\n",
       "\u001b[0;34m\u001b[0m        \u001b[0mself\u001b[0m\u001b[0;34m.\u001b[0m\u001b[0margs\u001b[0m \u001b[0;34m=\u001b[0m \u001b[0margs\u001b[0m\u001b[0;34m\u001b[0m\n",
       "\u001b[0;34m\u001b[0m        \u001b[0mself\u001b[0m\u001b[0;34m.\u001b[0m\u001b[0mkeywords\u001b[0m \u001b[0;34m=\u001b[0m \u001b[0mkeywords\u001b[0m\u001b[0;34m\u001b[0m\n",
       "\u001b[0;34m\u001b[0m        \u001b[0;32mreturn\u001b[0m \u001b[0mself\u001b[0m\u001b[0;34m\u001b[0m\n",
       "\u001b[0;34m\u001b[0m\u001b[0;34m\u001b[0m\n",
       "\u001b[0;34m\u001b[0m    \u001b[0;32mdef\u001b[0m \u001b[0m__call__\u001b[0m\u001b[0;34m(\u001b[0m\u001b[0mself\u001b[0m\u001b[0;34m,\u001b[0m \u001b[0;34m/\u001b[0m\u001b[0;34m,\u001b[0m \u001b[0;34m*\u001b[0m\u001b[0margs\u001b[0m\u001b[0;34m,\u001b[0m \u001b[0;34m**\u001b[0m\u001b[0mkeywords\u001b[0m\u001b[0;34m)\u001b[0m\u001b[0;34m:\u001b[0m\u001b[0;34m\u001b[0m\n",
       "\u001b[0;34m\u001b[0m        \u001b[0mkeywords\u001b[0m \u001b[0;34m=\u001b[0m \u001b[0;34m{\u001b[0m\u001b[0;34m**\u001b[0m\u001b[0mself\u001b[0m\u001b[0;34m.\u001b[0m\u001b[0mkeywords\u001b[0m\u001b[0;34m,\u001b[0m \u001b[0;34m**\u001b[0m\u001b[0mkeywords\u001b[0m\u001b[0;34m}\u001b[0m\u001b[0;34m\u001b[0m\n",
       "\u001b[0;34m\u001b[0m        \u001b[0;32mreturn\u001b[0m \u001b[0mself\u001b[0m\u001b[0;34m.\u001b[0m\u001b[0mfunc\u001b[0m\u001b[0;34m(\u001b[0m\u001b[0;34m*\u001b[0m\u001b[0mself\u001b[0m\u001b[0;34m.\u001b[0m\u001b[0margs\u001b[0m\u001b[0;34m,\u001b[0m \u001b[0;34m*\u001b[0m\u001b[0margs\u001b[0m\u001b[0;34m,\u001b[0m \u001b[0;34m**\u001b[0m\u001b[0mkeywords\u001b[0m\u001b[0;34m)\u001b[0m\u001b[0;34m\u001b[0m\n",
       "\u001b[0;34m\u001b[0m\u001b[0;34m\u001b[0m\n",
       "\u001b[0;34m\u001b[0m    \u001b[0;34m@\u001b[0m\u001b[0mrecursive_repr\u001b[0m\u001b[0;34m(\u001b[0m\u001b[0;34m)\u001b[0m\u001b[0;34m\u001b[0m\n",
       "\u001b[0;34m\u001b[0m    \u001b[0;32mdef\u001b[0m \u001b[0m__repr__\u001b[0m\u001b[0;34m(\u001b[0m\u001b[0mself\u001b[0m\u001b[0;34m)\u001b[0m\u001b[0;34m:\u001b[0m\u001b[0;34m\u001b[0m\n",
       "\u001b[0;34m\u001b[0m        \u001b[0mqualname\u001b[0m \u001b[0;34m=\u001b[0m \u001b[0mtype\u001b[0m\u001b[0;34m(\u001b[0m\u001b[0mself\u001b[0m\u001b[0;34m)\u001b[0m\u001b[0;34m.\u001b[0m\u001b[0m__qualname__\u001b[0m\u001b[0;34m\u001b[0m\n",
       "\u001b[0;34m\u001b[0m        \u001b[0margs\u001b[0m \u001b[0;34m=\u001b[0m \u001b[0;34m[\u001b[0m\u001b[0mrepr\u001b[0m\u001b[0;34m(\u001b[0m\u001b[0mself\u001b[0m\u001b[0;34m.\u001b[0m\u001b[0mfunc\u001b[0m\u001b[0;34m)\u001b[0m\u001b[0;34m]\u001b[0m\u001b[0;34m\u001b[0m\n",
       "\u001b[0;34m\u001b[0m        \u001b[0margs\u001b[0m\u001b[0;34m.\u001b[0m\u001b[0mextend\u001b[0m\u001b[0;34m(\u001b[0m\u001b[0mrepr\u001b[0m\u001b[0;34m(\u001b[0m\u001b[0mx\u001b[0m\u001b[0;34m)\u001b[0m \u001b[0;32mfor\u001b[0m \u001b[0mx\u001b[0m \u001b[0;32min\u001b[0m \u001b[0mself\u001b[0m\u001b[0;34m.\u001b[0m\u001b[0margs\u001b[0m\u001b[0;34m)\u001b[0m\u001b[0;34m\u001b[0m\n",
       "\u001b[0;34m\u001b[0m        \u001b[0margs\u001b[0m\u001b[0;34m.\u001b[0m\u001b[0mextend\u001b[0m\u001b[0;34m(\u001b[0m\u001b[0;34mf\"{k}={v!r}\"\u001b[0m \u001b[0;32mfor\u001b[0m \u001b[0;34m(\u001b[0m\u001b[0mk\u001b[0m\u001b[0;34m,\u001b[0m \u001b[0mv\u001b[0m\u001b[0;34m)\u001b[0m \u001b[0;32min\u001b[0m \u001b[0mself\u001b[0m\u001b[0;34m.\u001b[0m\u001b[0mkeywords\u001b[0m\u001b[0;34m.\u001b[0m\u001b[0mitems\u001b[0m\u001b[0;34m(\u001b[0m\u001b[0;34m)\u001b[0m\u001b[0;34m)\u001b[0m\u001b[0;34m\u001b[0m\n",
       "\u001b[0;34m\u001b[0m        \u001b[0;32mif\u001b[0m \u001b[0mtype\u001b[0m\u001b[0;34m(\u001b[0m\u001b[0mself\u001b[0m\u001b[0;34m)\u001b[0m\u001b[0;34m.\u001b[0m\u001b[0m__module__\u001b[0m \u001b[0;34m==\u001b[0m \u001b[0;34m\"functools\"\u001b[0m\u001b[0;34m:\u001b[0m\u001b[0;34m\u001b[0m\n",
       "\u001b[0;34m\u001b[0m            \u001b[0;32mreturn\u001b[0m \u001b[0;34mf\"functools.{qualname}({', '.join(args)})\"\u001b[0m\u001b[0;34m\u001b[0m\n",
       "\u001b[0;34m\u001b[0m        \u001b[0;32mreturn\u001b[0m \u001b[0;34mf\"{qualname}({', '.join(args)})\"\u001b[0m\u001b[0;34m\u001b[0m\n",
       "\u001b[0;34m\u001b[0m\u001b[0;34m\u001b[0m\n",
       "\u001b[0;34m\u001b[0m    \u001b[0;32mdef\u001b[0m \u001b[0m__reduce__\u001b[0m\u001b[0;34m(\u001b[0m\u001b[0mself\u001b[0m\u001b[0;34m)\u001b[0m\u001b[0;34m:\u001b[0m\u001b[0;34m\u001b[0m\n",
       "\u001b[0;34m\u001b[0m        \u001b[0;32mreturn\u001b[0m \u001b[0mtype\u001b[0m\u001b[0;34m(\u001b[0m\u001b[0mself\u001b[0m\u001b[0;34m)\u001b[0m\u001b[0;34m,\u001b[0m \u001b[0;34m(\u001b[0m\u001b[0mself\u001b[0m\u001b[0;34m.\u001b[0m\u001b[0mfunc\u001b[0m\u001b[0;34m,\u001b[0m\u001b[0;34m)\u001b[0m\u001b[0;34m,\u001b[0m \u001b[0;34m(\u001b[0m\u001b[0mself\u001b[0m\u001b[0;34m.\u001b[0m\u001b[0mfunc\u001b[0m\u001b[0;34m,\u001b[0m \u001b[0mself\u001b[0m\u001b[0;34m.\u001b[0m\u001b[0margs\u001b[0m\u001b[0;34m,\u001b[0m\u001b[0;34m\u001b[0m\n",
       "\u001b[0;34m\u001b[0m               \u001b[0mself\u001b[0m\u001b[0;34m.\u001b[0m\u001b[0mkeywords\u001b[0m \u001b[0;32mor\u001b[0m \u001b[0;32mNone\u001b[0m\u001b[0;34m,\u001b[0m \u001b[0mself\u001b[0m\u001b[0;34m.\u001b[0m\u001b[0m__dict__\u001b[0m \u001b[0;32mor\u001b[0m \u001b[0;32mNone\u001b[0m\u001b[0;34m)\u001b[0m\u001b[0;34m\u001b[0m\n",
       "\u001b[0;34m\u001b[0m\u001b[0;34m\u001b[0m\n",
       "\u001b[0;34m\u001b[0m    \u001b[0;32mdef\u001b[0m \u001b[0m__setstate__\u001b[0m\u001b[0;34m(\u001b[0m\u001b[0mself\u001b[0m\u001b[0;34m,\u001b[0m \u001b[0mstate\u001b[0m\u001b[0;34m)\u001b[0m\u001b[0;34m:\u001b[0m\u001b[0;34m\u001b[0m\n",
       "\u001b[0;34m\u001b[0m        \u001b[0;32mif\u001b[0m \u001b[0;32mnot\u001b[0m \u001b[0misinstance\u001b[0m\u001b[0;34m(\u001b[0m\u001b[0mstate\u001b[0m\u001b[0;34m,\u001b[0m \u001b[0mtuple\u001b[0m\u001b[0;34m)\u001b[0m\u001b[0;34m:\u001b[0m\u001b[0;34m\u001b[0m\n",
       "\u001b[0;34m\u001b[0m            \u001b[0;32mraise\u001b[0m \u001b[0mTypeError\u001b[0m\u001b[0;34m(\u001b[0m\u001b[0;34m\"argument to __setstate__ must be a tuple\"\u001b[0m\u001b[0;34m)\u001b[0m\u001b[0;34m\u001b[0m\n",
       "\u001b[0;34m\u001b[0m        \u001b[0;32mif\u001b[0m \u001b[0mlen\u001b[0m\u001b[0;34m(\u001b[0m\u001b[0mstate\u001b[0m\u001b[0;34m)\u001b[0m \u001b[0;34m!=\u001b[0m \u001b[0;36m4\u001b[0m\u001b[0;34m:\u001b[0m\u001b[0;34m\u001b[0m\n",
       "\u001b[0;34m\u001b[0m            \u001b[0;32mraise\u001b[0m \u001b[0mTypeError\u001b[0m\u001b[0;34m(\u001b[0m\u001b[0;34mf\"expected 4 items in state, got {len(state)}\"\u001b[0m\u001b[0;34m)\u001b[0m\u001b[0;34m\u001b[0m\n",
       "\u001b[0;34m\u001b[0m        \u001b[0mfunc\u001b[0m\u001b[0;34m,\u001b[0m \u001b[0margs\u001b[0m\u001b[0;34m,\u001b[0m \u001b[0mkwds\u001b[0m\u001b[0;34m,\u001b[0m \u001b[0mnamespace\u001b[0m \u001b[0;34m=\u001b[0m \u001b[0mstate\u001b[0m\u001b[0;34m\u001b[0m\n",
       "\u001b[0;34m\u001b[0m        \u001b[0;32mif\u001b[0m \u001b[0;34m(\u001b[0m\u001b[0;32mnot\u001b[0m \u001b[0mcallable\u001b[0m\u001b[0;34m(\u001b[0m\u001b[0mfunc\u001b[0m\u001b[0;34m)\u001b[0m \u001b[0;32mor\u001b[0m \u001b[0;32mnot\u001b[0m \u001b[0misinstance\u001b[0m\u001b[0;34m(\u001b[0m\u001b[0margs\u001b[0m\u001b[0;34m,\u001b[0m \u001b[0mtuple\u001b[0m\u001b[0;34m)\u001b[0m \u001b[0;32mor\u001b[0m\u001b[0;34m\u001b[0m\n",
       "\u001b[0;34m\u001b[0m           \u001b[0;34m(\u001b[0m\u001b[0mkwds\u001b[0m \u001b[0;32mis\u001b[0m \u001b[0;32mnot\u001b[0m \u001b[0;32mNone\u001b[0m \u001b[0;32mand\u001b[0m \u001b[0;32mnot\u001b[0m \u001b[0misinstance\u001b[0m\u001b[0;34m(\u001b[0m\u001b[0mkwds\u001b[0m\u001b[0;34m,\u001b[0m \u001b[0mdict\u001b[0m\u001b[0;34m)\u001b[0m\u001b[0;34m)\u001b[0m \u001b[0;32mor\u001b[0m\u001b[0;34m\u001b[0m\n",
       "\u001b[0;34m\u001b[0m           \u001b[0;34m(\u001b[0m\u001b[0mnamespace\u001b[0m \u001b[0;32mis\u001b[0m \u001b[0;32mnot\u001b[0m \u001b[0;32mNone\u001b[0m \u001b[0;32mand\u001b[0m \u001b[0;32mnot\u001b[0m \u001b[0misinstance\u001b[0m\u001b[0;34m(\u001b[0m\u001b[0mnamespace\u001b[0m\u001b[0;34m,\u001b[0m \u001b[0mdict\u001b[0m\u001b[0;34m)\u001b[0m\u001b[0;34m)\u001b[0m\u001b[0;34m)\u001b[0m\u001b[0;34m:\u001b[0m\u001b[0;34m\u001b[0m\n",
       "\u001b[0;34m\u001b[0m            \u001b[0;32mraise\u001b[0m \u001b[0mTypeError\u001b[0m\u001b[0;34m(\u001b[0m\u001b[0;34m\"invalid partial state\"\u001b[0m\u001b[0;34m)\u001b[0m\u001b[0;34m\u001b[0m\n",
       "\u001b[0;34m\u001b[0m\u001b[0;34m\u001b[0m\n",
       "\u001b[0;34m\u001b[0m        \u001b[0margs\u001b[0m \u001b[0;34m=\u001b[0m \u001b[0mtuple\u001b[0m\u001b[0;34m(\u001b[0m\u001b[0margs\u001b[0m\u001b[0;34m)\u001b[0m \u001b[0;31m# just in case it's a subclass\u001b[0m\u001b[0;34m\u001b[0m\n",
       "\u001b[0;34m\u001b[0m        \u001b[0;32mif\u001b[0m \u001b[0mkwds\u001b[0m \u001b[0;32mis\u001b[0m \u001b[0;32mNone\u001b[0m\u001b[0;34m:\u001b[0m\u001b[0;34m\u001b[0m\n",
       "\u001b[0;34m\u001b[0m            \u001b[0mkwds\u001b[0m \u001b[0;34m=\u001b[0m \u001b[0;34m{\u001b[0m\u001b[0;34m}\u001b[0m\u001b[0;34m\u001b[0m\n",
       "\u001b[0;34m\u001b[0m        \u001b[0;32melif\u001b[0m \u001b[0mtype\u001b[0m\u001b[0;34m(\u001b[0m\u001b[0mkwds\u001b[0m\u001b[0;34m)\u001b[0m \u001b[0;32mis\u001b[0m \u001b[0;32mnot\u001b[0m \u001b[0mdict\u001b[0m\u001b[0;34m:\u001b[0m \u001b[0;31m# XXX does it need to be *exactly* dict?\u001b[0m\u001b[0;34m\u001b[0m\n",
       "\u001b[0;34m\u001b[0m            \u001b[0mkwds\u001b[0m \u001b[0;34m=\u001b[0m \u001b[0mdict\u001b[0m\u001b[0;34m(\u001b[0m\u001b[0mkwds\u001b[0m\u001b[0;34m)\u001b[0m\u001b[0;34m\u001b[0m\n",
       "\u001b[0;34m\u001b[0m        \u001b[0;32mif\u001b[0m \u001b[0mnamespace\u001b[0m \u001b[0;32mis\u001b[0m \u001b[0;32mNone\u001b[0m\u001b[0;34m:\u001b[0m\u001b[0;34m\u001b[0m\n",
       "\u001b[0;34m\u001b[0m            \u001b[0mnamespace\u001b[0m \u001b[0;34m=\u001b[0m \u001b[0;34m{\u001b[0m\u001b[0;34m}\u001b[0m\u001b[0;34m\u001b[0m\n",
       "\u001b[0;34m\u001b[0m\u001b[0;34m\u001b[0m\n",
       "\u001b[0;34m\u001b[0m        \u001b[0mself\u001b[0m\u001b[0;34m.\u001b[0m\u001b[0m__dict__\u001b[0m \u001b[0;34m=\u001b[0m \u001b[0mnamespace\u001b[0m\u001b[0;34m\u001b[0m\n",
       "\u001b[0;34m\u001b[0m        \u001b[0mself\u001b[0m\u001b[0;34m.\u001b[0m\u001b[0mfunc\u001b[0m \u001b[0;34m=\u001b[0m \u001b[0mfunc\u001b[0m\u001b[0;34m\u001b[0m\n",
       "\u001b[0;34m\u001b[0m        \u001b[0mself\u001b[0m\u001b[0;34m.\u001b[0m\u001b[0margs\u001b[0m \u001b[0;34m=\u001b[0m \u001b[0margs\u001b[0m\u001b[0;34m\u001b[0m\n",
       "\u001b[0;34m\u001b[0m        \u001b[0mself\u001b[0m\u001b[0;34m.\u001b[0m\u001b[0mkeywords\u001b[0m \u001b[0;34m=\u001b[0m \u001b[0mkwds\u001b[0m\u001b[0;34m\u001b[0m\u001b[0;34m\u001b[0m\u001b[0m\n",
       "\u001b[0;31mFile:\u001b[0m           ~/mambaforge/lib/python3.9/functools.py\n",
       "\u001b[0;31mType:\u001b[0m           type\n",
       "\u001b[0;31mSubclasses:\u001b[0m     \n"
      ]
     },
     "metadata": {},
     "output_type": "display_data"
    }
   ],
   "source": [
    "partial??"
   ]
  },
  {
   "cell_type": "code",
   "execution_count": 21,
   "metadata": {},
   "outputs": [],
   "source": [
    "f_try = partial(gaussian, bw=2.5)"
   ]
  },
  {
   "cell_type": "code",
   "execution_count": 22,
   "metadata": {},
   "outputs": [
    {
     "data": {
      "text/plain": [
       "tensor(0.044)"
      ]
     },
     "execution_count": 22,
     "metadata": {},
     "output_type": "execute_result"
    }
   ],
   "source": [
    "f_try(tensor(4.))"
   ]
  },
  {
   "cell_type": "markdown",
   "metadata": {},
   "source": [
    "`partial` is a super useful function! Without it, plotting the Gaussian kernel would've been more complicated. One alternative is to do this:"
   ]
  },
  {
   "cell_type": "code",
   "execution_count": 23,
   "metadata": {},
   "outputs": [
    {
     "data": {
      "image/png": "[encoded data removed]",
      "text/plain": [
       "<Figure size 640x480 with 1 Axes>"
      ]
     },
     "metadata": {},
     "output_type": "display_data"
    }
   ],
   "source": [
    "plot_func(lambda x: gaussian(x,bw=2.5))"
   ]
  },
  {
   "cell_type": "markdown",
   "metadata": {},
   "source": [
    "That works too, but usually `partial` is a bit neater, produces clearer code."
   ]
  },
  {
   "cell_type": "markdown",
   "metadata": {},
   "source": [
    "In our implementation, we choose the bandwidth to be 2.5. \n",
    "\n",
    "One easy way to choose bandwidth is to find which bandwidth covers one third of the data."
   ]
  },
  {
   "cell_type": "code",
   "execution_count": 24,
   "metadata": {},
   "outputs": [],
   "source": [
    "def tri(d, i): return (-d+i).clamp_min(0)/i\n",
    "#understand this code also. Done"
   ]
  },
  {
   "cell_type": "code",
   "execution_count": 25,
   "metadata": {},
   "outputs": [
    {
     "data": {
      "image/png": "[encoded data removed]",
      "text/plain": [
       "<Figure size 640x480 with 1 Axes>"
      ]
     },
     "metadata": {},
     "output_type": "display_data"
    }
   ],
   "source": [
    "plot_func(partial(tri, i=8))"
   ]
  },
  {
   "cell_type": "markdown",
   "metadata": {},
   "source": [
    "Notice how the function plotted above is fairly similar to the Gaussian kernel we plan to us for weighting? Just a triangular weeighting function - a linear function clamped at 0 for values `>8`. Could use it too. For now we'll stick to the Gaussian kernel."
   ]
  },
  {
   "cell_type": "markdown",
   "metadata": {},
   "source": [
    "Since the algorithm will literally move all the points to their \"center of gravity\", let's clone the data to maintain the original copy."
   ]
  },
  {
   "cell_type": "code",
   "execution_count": 26,
   "metadata": {},
   "outputs": [],
   "source": [
    "X = data.clone()\n",
    "x = data[0]"
   ]
  },
  {
   "cell_type": "markdown",
   "metadata": {},
   "source": [
    "`X` is a copy of the original data matrix (of all points), and `x` is the first point:"
   ]
  },
  {
   "cell_type": "code",
   "execution_count": 27,
   "metadata": {},
   "outputs": [
    {
     "data": {
      "text/plain": [
       "tensor([26.654,  3.205])"
      ]
     },
     "execution_count": 27,
     "metadata": {},
     "output_type": "execute_result"
    }
   ],
   "source": [
    "x"
   ]
  },
  {
   "cell_type": "code",
   "execution_count": 28,
   "metadata": {},
   "outputs": [
    {
     "data": {
      "text/plain": [
       "(torch.Size([2]), torch.Size([1500, 2]), torch.Size([1, 2]))"
      ]
     },
     "execution_count": 28,
     "metadata": {},
     "output_type": "execute_result"
    }
   ],
   "source": [
    "x.shape, X.shape, x[None].shape"
   ]
  },
  {
   "cell_type": "markdown",
   "metadata": {},
   "source": [
    "Now we are going to find the distance between `x` and every point in `X`."
   ]
  },
  {
   "cell_type": "code",
   "execution_count": 29,
   "metadata": {},
   "outputs": [
    {
     "data": {
      "text/plain": [
       "tensor([[ 0.000,  0.000],\n",
       "        [ 1.899, -2.075],\n",
       "        [ 3.280, -1.740],\n",
       "        [ 5.977, -1.051],\n",
       "        [ 1.488, -0.650],\n",
       "        [-1.001, -0.145],\n",
       "        [ 2.119, -1.394],\n",
       "        [ 2.648, -2.275]])"
      ]
     },
     "execution_count": 29,
     "metadata": {},
     "output_type": "execute_result"
    }
   ],
   "source": [
    "(x[None]-X)[:8]"
   ]
  },
  {
   "cell_type": "markdown",
   "metadata": {},
   "source": [
    "Why use `x[None]`? Because remember the `numpy` rules - the axes have to match up for the subtraction to work. X.shape is `[1500,2]`, and `x[None].shape` is `[1,2]`."
   ]
  },
  {
   "cell_type": "markdown",
   "metadata": {},
   "source": [
    "Do we get the same answer with `x-X`?? "
   ]
  },
  {
   "cell_type": "code",
   "execution_count": 30,
   "metadata": {},
   "outputs": [
    {
     "data": {
      "text/plain": [
       "tensor([[ 0.000,  0.000],\n",
       "        [ 1.899, -2.075],\n",
       "        [ 3.280, -1.740],\n",
       "        [ 5.977, -1.051],\n",
       "        [ 1.488, -0.650],\n",
       "        [-1.001, -0.145],\n",
       "        [ 2.119, -1.394],\n",
       "        [ 2.648, -2.275]])"
      ]
     },
     "execution_count": 30,
     "metadata": {},
     "output_type": "execute_result"
    }
   ],
   "source": [
    "(x-X)[:8]"
   ]
  },
  {
   "cell_type": "markdown",
   "metadata": {},
   "source": [
    "Yep...and that's interesting. It works because, when the matrices involved have shapes if different lengths, a unit axis is added to the missing dimension!"
   ]
  },
  {
   "cell_type": "code",
   "execution_count": 31,
   "metadata": {},
   "outputs": [
    {
     "data": {
      "text/plain": [
       "tensor([0.000, 2.813, 3.713, 6.068, 1.624, 1.011, 2.537, 3.492])"
      ]
     },
     "execution_count": 31,
     "metadata": {},
     "output_type": "execute_result"
    }
   ],
   "source": [
    "dist = ((x-X)**2).sum(1).sqrt()\n",
    "dist[:8]\n",
    "# can rewrite using torch.einsum to get rid of the multiply and sum"
   ]
  },
  {
   "cell_type": "code",
   "execution_count": 32,
   "metadata": {},
   "outputs": [
    {
     "data": {
      "text/plain": [
       "tensor([0.160, 0.085, 0.053,  ..., 0.000, 0.000, 0.000])"
      ]
     },
     "execution_count": 32,
     "metadata": {},
     "output_type": "execute_result"
    }
   ],
   "source": [
    "weight = gaussian(dist, 2.5)\n",
    "weight"
   ]
  },
  {
   "cell_type": "markdown",
   "metadata": {},
   "source": [
    "The closest point to `x`, i.e, `x` itself, gets a weight of `0.160`. Farther points get a weight small enough that they appear to be zero at 3 decimals - `0.000`"
   ]
  },
  {
   "cell_type": "code",
   "execution_count": 33,
   "metadata": {},
   "outputs": [
    {
     "data": {
      "text/plain": [
       "(torch.Size([1500]), torch.Size([1500, 2]))"
      ]
     },
     "execution_count": 33,
     "metadata": {},
     "output_type": "execute_result"
    }
   ],
   "source": [
    "weight.shape, X.shape"
   ]
  },
  {
   "cell_type": "markdown",
   "metadata": {},
   "source": [
    "Now we want a weighted average - average of the data `X`, weighted by the `weight` tensor."
   ]
  },
  {
   "cell_type": "markdown",
   "metadata": {},
   "source": [
    "Now, will `weight*X` work?"
   ]
  },
  {
   "cell_type": "code",
   "execution_count": 34,
   "metadata": {},
   "outputs": [
    {
     "ename": "RuntimeError",
     "evalue": "The size of tensor a (1500) must match the size of tensor b (2) at non-singleton dimension 1",
     "output_type": "error",
     "traceback": [
      "\u001b[0;31m---------------------------------------------------------------------------\u001b[0m",
      "\u001b[0;31mRuntimeError\u001b[0m                              Traceback (most recent call last)",
      "Cell \u001b[0;32mIn [34], line 1\u001b[0m\n\u001b[0;32m----> 1\u001b[0m weight \u001b[38;5;241m*\u001b[39m X\n",
      "\u001b[0;31mRuntimeError\u001b[0m: The size of tensor a (1500) must match the size of tensor b (2) at non-singleton dimension 1"
     ]
    }
   ],
   "source": [
    "weight * X"
   ]
  },
  {
   "cell_type": "markdown",
   "metadata": {},
   "source": [
    "Nope, it doesn't. The axes have to match (but wait, doesn't a unit axis get created for the missing dimension? Anyway, looks like it doesn't, here. We'll make it manually)."
   ]
  },
  {
   "cell_type": "code",
   "execution_count": 35,
   "metadata": {},
   "outputs": [
    {
     "data": {
      "text/plain": [
       "torch.Size([1500, 1])"
      ]
     },
     "execution_count": 35,
     "metadata": {},
     "output_type": "execute_result"
    }
   ],
   "source": [
    "weight[:,None].shape"
   ]
  },
  {
   "cell_type": "code",
   "execution_count": 36,
   "metadata": {},
   "outputs": [
    {
     "data": {
      "text/plain": [
       "tensor([[4.253, 0.511],\n",
       "        [2.098, 0.447],\n",
       "        [1.238, 0.262],\n",
       "        ...,\n",
       "        [-0.000, 0.000],\n",
       "        [-0.000, 0.000],\n",
       "        [-0.000, 0.000]])"
      ]
     },
     "execution_count": 36,
     "metadata": {},
     "output_type": "execute_result"
    }
   ],
   "source": [
    "weight[:, None]*X"
   ]
  },
  {
   "cell_type": "markdown",
   "metadata": {},
   "source": [
    "Now let's write a function to put all that together:\n"
   ]
  },
  {
   "cell_type": "code",
   "execution_count": 37,
   "metadata": {},
   "outputs": [],
   "source": [
    "def one_update(X):\n",
    "    for i, x in enumerate(X):\n",
    "        dist = torch.sqrt(((x-X)**2).sum(1))\n",
    "        weight = gaussian(dist, 2.5)\n",
    "        # weight = tri(dist, 8)\n",
    "        X[i] = (weight[:,None]*X).sum(0)/weight.sum()"
   ]
  },
  {
   "cell_type": "markdown",
   "metadata": {},
   "source": [
    "The above function does a *single* step of the weight update. The iterations must continue until the solution converges."
   ]
  },
  {
   "cell_type": "code",
   "execution_count": 38,
   "metadata": {},
   "outputs": [],
   "source": [
    "def meanshift(data):\n",
    "    X = data.clone()\n",
    "    for it in range(1): one_update(X)\n",
    "    return X"
   ]
  },
  {
   "cell_type": "code",
   "execution_count": 39,
   "metadata": {},
   "outputs": [
    {
     "name": "stdout",
     "output_type": "stream",
     "text": [
      "CPU times: user 525 ms, sys: 0 ns, total: 525 ms\n",
      "Wall time: 522 ms\n"
     ]
    }
   ],
   "source": [
    "%time X=meanshift(data)"
   ]
  },
  {
   "cell_type": "code",
   "execution_count": 40,
   "metadata": {},
   "outputs": [
    {
     "data": {
      "image/png": "[encoded data removed]",
      "text/plain": [
       "<Figure size 640x480 with 1 Axes>"
      ]
     },
     "metadata": {},
     "output_type": "display_data"
    }
   ],
   "source": [
    "plot_data(centroids+2, X, n_samples)"
   ]
  },
  {
   "cell_type": "markdown",
   "metadata": {},
   "source": [
    "Interesting to me how such convergence occurs in just ONE update step! What happens with 5?"
   ]
  },
  {
   "cell_type": "code",
   "execution_count": 41,
   "metadata": {},
   "outputs": [],
   "source": [
    "def meanshift(data):\n",
    "    X = data.clone()\n",
    "    for it in range(5): one_update(X)\n",
    "    return X"
   ]
  },
  {
   "cell_type": "code",
   "execution_count": 42,
   "metadata": {},
   "outputs": [
    {
     "name": "stdout",
     "output_type": "stream",
     "text": [
      "CPU times: user 2.22 s, sys: 0 ns, total: 2.22 s\n",
      "Wall time: 2.22 s\n"
     ]
    }
   ],
   "source": [
    "%time X=meanshift(data)"
   ]
  },
  {
   "cell_type": "code",
   "execution_count": 43,
   "metadata": {},
   "outputs": [
    {
     "data": {
      "image/png": "[encoded data removed]",
      "text/plain": [
       "<Figure size 640x480 with 1 Axes>"
      ]
     },
     "metadata": {},
     "output_type": "display_data"
    }
   ],
   "source": [
    "plot_data(centroids+2, X, n_samples)"
   ]
  },
  {
   "cell_type": "markdown",
   "metadata": {},
   "source": [
    "We've moved the centroids by 2 units just to differentiate them from the formed clusters!! Also you can try the triangular weighting kernel and see how things change."
   ]
  },
  {
   "cell_type": "code",
   "execution_count": 44,
   "metadata": {},
   "outputs": [],
   "source": [
    "def one_update(X):\n",
    "    for i, x in enumerate(X):\n",
    "        dist = torch.sqrt(((x-X)**2).sum(1))\n",
    "        # weight = gaussian(dist, 2.5)\n",
    "        weight = tri(dist, 8)\n",
    "        X[i] = (weight[:,None]*X).sum(0)/weight.sum()"
   ]
  },
  {
   "cell_type": "code",
   "execution_count": 45,
   "metadata": {},
   "outputs": [],
   "source": [
    "def meanshift(data):\n",
    "    X = data.clone()\n",
    "    for it in range(5): one_update(X)\n",
    "    return X"
   ]
  },
  {
   "cell_type": "code",
   "execution_count": 46,
   "metadata": {},
   "outputs": [
    {
     "name": "stdout",
     "output_type": "stream",
     "text": [
      "CPU times: user 1.76 s, sys: 8.92 ms, total: 1.77 s\n",
      "Wall time: 1.76 s\n"
     ]
    }
   ],
   "source": [
    "%time X=meanshift(data)"
   ]
  },
  {
   "cell_type": "code",
   "execution_count": 47,
   "metadata": {},
   "outputs": [
    {
     "data": {
      "image/png": "[encoded data removed]",
      "text/plain": [
       "<Figure size 640x480 with 1 Axes>"
      ]
     },
     "metadata": {},
     "output_type": "display_data"
    }
   ],
   "source": [
    "plot_data(centroids+2, X, n_samples)"
   ]
  },
  {
   "cell_type": "markdown",
   "metadata": {},
   "source": [
    "Not so great? Jeremy seems to get good results in the [video](https://www.youtube.com/watch?v=_xIzPbCgutY)!! *(1:10:20)*"
   ]
  },
  {
   "cell_type": "markdown",
   "metadata": {},
   "source": [
    "## Animation"
   ]
  },
  {
   "cell_type": "markdown",
   "metadata": {},
   "source": [
    "Wouldn't it be cool to see things happen one at a time? It isn't just fun - but also important to see things happen one step at a time. So it's important to learn how to do animations!"
   ]
  },
  {
   "cell_type": "markdown",
   "metadata": {},
   "source": [
    "*I found the documentation unnecessarily complicated.. so here's a simple way to do animations without any trouble - Jeremy*"
   ]
  },
  {
   "cell_type": "code",
   "execution_count": 48,
   "metadata": {},
   "outputs": [],
   "source": [
    "from matplotlib.animation import FuncAnimation\n",
    "from IPython.display import HTML"
   ]
  },
  {
   "cell_type": "markdown",
   "metadata": {},
   "source": [
    "We'll be using `FuncAnimation` from `matplotlib`."
   ]
  },
  {
   "cell_type": "markdown",
   "metadata": {},
   "source": [
    "Look at the `ani = FuncAnimation(fig, do_one, frames=5, interval=500, repeat=False)` line. To create an animation, you create a function, and into `FuncAnimation`, pass in the name of the function (`do_one`) and how many times to run it (`frames=5`)."
   ]
  },
  {
   "cell_type": "markdown",
   "metadata": {},
   "source": [
    "Now, write a function `do_one()` that creates one frame of animation:"
   ]
  },
  {
   "cell_type": "code",
   "execution_count": 49,
   "metadata": {},
   "outputs": [],
   "source": [
    "def do_one(d):\n",
    "    if d: one_update(X)\n",
    "    ax.clear()\n",
    "    plot_data(centroids+2, X, n_samples, ax=ax)"
   ]
  },
  {
   "cell_type": "code",
   "execution_count": 50,
   "metadata": {},
   "outputs": [],
   "source": [
    "#version of func in video\n",
    "def do_one(d):\n",
    "    if not d: return plot_data(centroids+2, X, n_samples, ax=ax)\n",
    "    one_update(X)\n",
    "    ax.clear()\n",
    "    plot_data(centroids+2, X, n_samples, ax=ax)"
   ]
  },
  {
   "cell_type": "code",
   "execution_count": 51,
   "metadata": {},
   "outputs": [
    {
     "data": {
      "text/html": [
       "\n",
       "<link rel=\"stylesheet\"\n",
       "href=\"https://maxcdn.bootstrapcdn.com/font-awesome/4.4.0/css/font-awesome.min.css\">\n",
       "<script language=\"javascript\">\n",
       "  function isInternetExplorer() {\n",
       "    ua = navigator.userAgent;\n",
       "    /* MSIE used to detect old browsers and Trident used to newer ones*/\n",
       "    return ua.indexOf(\"MSIE \") > -1 || ua.indexOf(\"Trident/\") > -1;\n",
       "  }\n",
       "\n",
       "  /* Define the Animation class */\n",
       "  function Animation(frames, img_id, slider_id, interval, loop_select_id){\n",
       "    this.img_id = img_id;\n",
       "    this.slider_id = slider_id;\n",
       "    this.loop_select_id = loop_select_id;\n",
       "    this.interval = interval;\n",
       "    this.current_frame = 0;\n",
       "    this.direction = 0;\n",
       "    this.timer = null;\n",
       "    this.frames = new Array(frames.length);\n",
       "\n",
       "    for (var i=0; i<frames.length; i++)\n",
       "    {\n",
       "     this.frames[i] = new Image();\n",
       "     this.frames[i].src = frames[i];\n",
       "    }\n",
       "    var slider = document.getElementById(this.slider_id);\n",
       "    slider.max = this.frames.length - 1;\n",
       "    if (isInternetExplorer()) {\n",
       "        // switch from oninput to onchange because IE <= 11 does not conform\n",
       "        // with W3C specification. It ignores oninput and onchange behaves\n",
       "        // like oninput. In contrast, Microsoft Edge behaves correctly.\n",
       "        slider.setAttribute('onchange', slider.getAttribute('oninput'));\n",
       "        slider.setAttribute('oninput', null);\n",
       "    }\n",
       "    this.set_frame(this.current_frame);\n",
       "  }\n",
       "\n",
       "  Animation.prototype.get_loop_state = function(){\n",
       "    var button_group = document[this.loop_select_id].state;\n",
       "    for (var i = 0; i < button_group.length; i++) {\n",
       "        var button = button_group[i];\n",
       "        if (button.checked) {\n",
       "            return button.value;\n",
       "        }\n",
       "    }\n",
       "    return undefined;\n",
       "  }\n",
       "\n",
       "  Animation.prototype.set_frame = function(frame){\n",
       "    this.current_frame = frame;\n",
       "    document.getElementById(this.img_id).src =\n",
       "            this.frames[this.current_frame].src;\n",
       "    document.getElementById(this.slider_id).value = this.current_frame;\n",
       "  }\n",
       "\n",
       "  Animation.prototype.next_frame = function()\n",
       "  {\n",
       "    this.set_frame(Math.min(this.frames.length - 1, this.current_frame + 1));\n",
       "  }\n",
       "\n",
       "  Animation.prototype.previous_frame = function()\n",
       "  {\n",
       "    this.set_frame(Math.max(0, this.current_frame - 1));\n",
       "  }\n",
       "\n",
       "  Animation.prototype.first_frame = function()\n",
       "  {\n",
       "    this.set_frame(0);\n",
       "  }\n",
       "\n",
       "  Animation.prototype.last_frame = function()\n",
       "  {\n",
       "    this.set_frame(this.frames.length - 1);\n",
       "  }\n",
       "\n",
       "  Animation.prototype.slower = function()\n",
       "  {\n",
       "    this.interval /= 0.7;\n",
       "    if(this.direction > 0){this.play_animation();}\n",
       "    else if(this.direction < 0){this.reverse_animation();}\n",
       "  }\n",
       "\n",
       "  Animation.prototype.faster = function()\n",
       "  {\n",
       "    this.interval *= 0.7;\n",
       "    if(this.direction > 0){this.play_animation();}\n",
       "    else if(this.direction < 0){this.reverse_animation();}\n",
       "  }\n",
       "\n",
       "  Animation.prototype.anim_step_forward = function()\n",
       "  {\n",
       "    this.current_frame += 1;\n",
       "    if(this.current_frame < this.frames.length){\n",
       "      this.set_frame(this.current_frame);\n",
       "    }else{\n",
       "      var loop_state = this.get_loop_state();\n",
       "      if(loop_state == \"loop\"){\n",
       "        this.first_frame();\n",
       "      }else if(loop_state == \"reflect\"){\n",
       "        this.last_frame();\n",
       "        this.reverse_animation();\n",
       "      }else{\n",
       "        this.pause_animation();\n",
       "        this.last_frame();\n",
       "      }\n",
       "    }\n",
       "  }\n",
       "\n",
       "  Animation.prototype.anim_step_reverse = function()\n",
       "  {\n",
       "    this.current_frame -= 1;\n",
       "    if(this.current_frame >= 0){\n",
       "      this.set_frame(this.current_frame);\n",
       "    }else{\n",
       "      var loop_state = this.get_loop_state();\n",
       "      if(loop_state == \"loop\"){\n",
       "        this.last_frame();\n",
       "      }else if(loop_state == \"reflect\"){\n",
       "        this.first_frame();\n",
       "        this.play_animation();\n",
       "      }else{\n",
       "        this.pause_animation();\n",
       "        this.first_frame();\n",
       "      }\n",
       "    }\n",
       "  }\n",
       "\n",
       "  Animation.prototype.pause_animation = function()\n",
       "  {\n",
       "    this.direction = 0;\n",
       "    if (this.timer){\n",
       "      clearInterval(this.timer);\n",
       "      this.timer = null;\n",
       "    }\n",
       "  }\n",
       "\n",
       "  Animation.prototype.play_animation = function()\n",
       "  {\n",
       "    this.pause_animation();\n",
       "    this.direction = 1;\n",
       "    var t = this;\n",
       "    if (!this.timer) this.timer = setInterval(function() {\n",
       "        t.anim_step_forward();\n",
       "    }, this.interval);\n",
       "  }\n",
       "\n",
       "  Animation.prototype.reverse_animation = function()\n",
       "  {\n",
       "    this.pause_animation();\n",
       "    this.direction = -1;\n",
       "    var t = this;\n",
       "    if (!this.timer) this.timer = setInterval(function() {\n",
       "        t.anim_step_reverse();\n",
       "    }, this.interval);\n",
       "  }\n",
       "</script>\n",
       "\n",
       "<style>\n",
       ".animation {\n",
       "    display: inline-block;\n",
       "    text-align: center;\n",
       "}\n",
       "input[type=range].anim-slider {\n",
       "    width: 374px;\n",
       "    margin-left: auto;\n",
       "    margin-right: auto;\n",
       "}\n",
       ".anim-buttons {\n",
       "    margin: 8px 0px;\n",
       "}\n",
       ".anim-buttons button {\n",
       "    padding: 0;\n",
       "    width: 36px;\n",
       "}\n",
       ".anim-state label {\n",
       "    margin-right: 8px;\n",
       "}\n",
       ".anim-state input {\n",
       "    margin: 0;\n",
       "    vertical-align: middle;\n",
       "}\n",
       "</style>\n",
       "\n",
       "<div class=\"animation\">\n",
       "  <img id=\"_anim_img1963989bdce249f3ac80f3d4a0a08ecc\">\n",
       "  <div class=\"anim-controls\">\n",
       "    <input id=\"_anim_slider1963989bdce249f3ac80f3d4a0a08ecc\" type=\"range\" class=\"anim-slider\"\n",
       "           name=\"points\" min=\"0\" max=\"1\" step=\"1\" value=\"0\"\n",
       "           oninput=\"anim1963989bdce249f3ac80f3d4a0a08ecc.set_frame(parseInt(this.value));\">\n",
       "    <div class=\"anim-buttons\">\n",
       "      <button title=\"Decrease speed\" aria-label=\"Decrease speed\" onclick=\"anim1963989bdce249f3ac80f3d4a0a08ecc.slower()\">\n",
       "          <i class=\"fa fa-minus\"></i></button>\n",
       "      <button title=\"First frame\" aria-label=\"First frame\" onclick=\"anim1963989bdce249f3ac80f3d4a0a08ecc.first_frame()\">\n",
       "        <i class=\"fa fa-fast-backward\"></i></button>\n",
       "      <button title=\"Previous frame\" aria-label=\"Previous frame\" onclick=\"anim1963989bdce249f3ac80f3d4a0a08ecc.previous_frame()\">\n",
       "          <i class=\"fa fa-step-backward\"></i></button>\n",
       "      <button title=\"Play backwards\" aria-label=\"Play backwards\" onclick=\"anim1963989bdce249f3ac80f3d4a0a08ecc.reverse_animation()\">\n",
       "          <i class=\"fa fa-play fa-flip-horizontal\"></i></button>\n",
       "      <button title=\"Pause\" aria-label=\"Pause\" onclick=\"anim1963989bdce249f3ac80f3d4a0a08ecc.pause_animation()\">\n",
       "          <i class=\"fa fa-pause\"></i></button>\n",
       "      <button title=\"Play\" aria-label=\"Play\" onclick=\"anim1963989bdce249f3ac80f3d4a0a08ecc.play_animation()\">\n",
       "          <i class=\"fa fa-play\"></i></button>\n",
       "      <button title=\"Next frame\" aria-label=\"Next frame\" onclick=\"anim1963989bdce249f3ac80f3d4a0a08ecc.next_frame()\">\n",
       "          <i class=\"fa fa-step-forward\"></i></button>\n",
       "      <button title=\"Last frame\" aria-label=\"Last frame\" onclick=\"anim1963989bdce249f3ac80f3d4a0a08ecc.last_frame()\">\n",
       "          <i class=\"fa fa-fast-forward\"></i></button>\n",
       "      <button title=\"Increase speed\" aria-label=\"Increase speed\" onclick=\"anim1963989bdce249f3ac80f3d4a0a08ecc.faster()\">\n",
       "          <i class=\"fa fa-plus\"></i></button>\n",
       "    </div>\n",
       "    <form title=\"Repetition mode\" aria-label=\"Repetition mode\" action=\"#n\" name=\"_anim_loop_select1963989bdce249f3ac80f3d4a0a08ecc\"\n",
       "          class=\"anim-state\">\n",
       "      <input type=\"radio\" name=\"state\" value=\"once\" id=\"_anim_radio1_1963989bdce249f3ac80f3d4a0a08ecc\"\n",
       "             checked>\n",
       "      <label for=\"_anim_radio1_1963989bdce249f3ac80f3d4a0a08ecc\">Once</label>\n",
       "      <input type=\"radio\" name=\"state\" value=\"loop\" id=\"_anim_radio2_1963989bdce249f3ac80f3d4a0a08ecc\"\n",
       "             >\n",
       "      <label for=\"_anim_radio2_1963989bdce249f3ac80f3d4a0a08ecc\">Loop</label>\n",
       "      <input type=\"radio\" name=\"state\" value=\"reflect\" id=\"_anim_radio3_1963989bdce249f3ac80f3d4a0a08ecc\"\n",
       "             >\n",
       "      <label for=\"_anim_radio3_1963989bdce249f3ac80f3d4a0a08ecc\">Reflect</label>\n",
       "    </form>\n",
       "  </div>\n",
       "</div>\n",
       "\n",
       "\n",
       "<script language=\"javascript\">\n",
       "  /* Instantiate the Animation class. */\n",
       "  /* The IDs given should match those used in the template above. */\n",
       "  (function() {\n",
       "    var img_id = \"_anim_img1963989bdce249f3ac80f3d4a0a08ecc\";\n",
       "    var slider_id = \"_anim_slider1963989bdce249f3ac80f3d4a0a08ecc\";\n",
       "    var loop_select_id = \"_anim_loop_select1963989bdce249f3ac80f3d4a0a08ecc\";\n",
       "    var frames = new Array(5);\n",
       "    \n",
       "  frames[0] = \"data:image/png;base64,iVBORw0KGgoAAAANSUhEUgAAAoAAAAHgCAYAAAA10dzkAAAAOXRFWHRTb2Z0d2FyZQBNYXRwbG90\\\n",
       "bGliIHZlcnNpb24zLjYuMSwgaHR0cHM6Ly9tYXRwbG90bGliLm9yZy/av/WaAAAACXBIWXMAAA9h\\\n",
       "AAAPYQGoP6dpAAByXUlEQVR4nO3de3xU9Z0//teZmUzuGZJwCyQqFcRKFEGpi0UJWPCCPoJWKLZf\\\n",
       "hdrdL9JqFayK9WvFugrqCmvxxu5WEdaKYIWsl1KxSJBV+0O5aKAiIrdAEEjC5J7JzHx+f0w+J2fO\\\n",
       "nLllJpnMnNezDx6QmTPnnJllnTfv9+f9/ihCCAEiIiIiMg1Lom+AiIiIiHoXA0AiIiIik2EASERE\\\n",
       "RGQyDACJiIiITIYBIBEREZHJMAAkIiIiMhkGgEREREQmwwCQiIiIyGQYABIRERGZDANAIiIiIpNh\\\n",
       "AEhERERkMgwAiYiIiEyGASARERGRyTAAJCIiIjIZBoBEREREJsMAkIiIiMhkGAASERERmQwDQCIi\\\n",
       "IiKTYQBIREREZDIMAImIiIhMhgEgERERkckwACQiIiIyGQaARERERCbDAJCIiIjIZBgAEhEREZkM\\\n",
       "A0AiIiIik2EASERERGQyDACJiIiITIYBIBEREZHJMAAkIiIiMhkGgEREREQmwwCQiIiIyGQYABIR\\\n",
       "ERGZDANAIiIiIpNhAEhERERkMgwAiYiIiEyGASARERGRyTAAJCIiIjIZBoBEREREJsMAkIiIiMhk\\\n",
       "GAASERERmQwDQCIiIiKTYQBIREREZDIMAImIiIhMhgEgERERkckwACQiIiIyGQaARERERCbDAJCI\\\n",
       "iIjIZBgAEhEREZkMA0AiIiIik2EASERERGQyDACJiIiITIYBIBEREZHJMAAkIiIiMhkGgEREREQm\\\n",
       "wwCQiIiIyGRsib6BZOb1enH8+HHk5uZCUZRE3w4RERFFQAiBxsZGDBkyBBaLOXNhDABjcPz4cZSU\\\n",
       "lCT6NoiIiKgbjh49iuLi4kTfRkIwAIxBbm4uAN9foLy8vATfDREREUWioaEBJSUl6ve4GTEAjIEs\\\n",
       "++bl5TEAJCIiSjJmXr5lzsI3ERERkYkxACQiIiIyGQaARERERCbDAJCIiIjIZBgAEhEREZkMA0Ai\\\n",
       "IiIik2EASERERGQyKRsAvvjii7jooovUGX3jx4/HX/7yF/V5IQQWLVqEIUOGIDMzE2VlZdizZ08C\\\n",
       "75iIiIiod6RsAFhcXIwlS5bgs88+w2effYbJkyejvLxcDfKeeuopLF26FM899xy2b9+OwYMHY8qU\\\n",
       "KWhsbEzwnRMRERH1LEUIIRJ9E72loKAATz/9NG6//XYMGTIE99xzDx544AEAQHt7OwYNGoQnn3wS\\\n",
       "c+fOjeh8DQ0NcDgccDqd3AmEiIgoSfD7O4UzgFoejwdr1qxBc3Mzxo8fj4MHD+LEiROYOnWqekx6\\\n",
       "ejomTpyIjz/+OOh52tvb0dDQ4PeLiIiIKNmkdAD45ZdfIicnB+np6bjjjjuwfv16XHDBBThx4gQA\\\n",
       "YNCgQX7HDxo0SH3OyOLFi+FwONRfJSUlPXr/RERERD0hpQPAkSNHYteuXfj0008xb948zJ49G3v3\\\n",
       "7lWf128CLYQIuTH0gw8+CKfTqf46evRoj907hVa9aj4aHy5C9ar5ib4VIiKipGNL9A30JLvdjuHD\\\n",
       "hwMALr30Umzfvh3PPvusuu7vxIkTKCoqUo8/efJkQFZQKz09Henp6T170xQRx/41yLW2APvXAFiW\\\n",
       "6NshIiJKKimdAdQTQqC9vR3Dhg3D4MGDsWnTJvU5l8uFyspKXH755Qm8Q4qUc8QsNHqy4BwxK9G3\\\n",
       "QkRElHRSNgP429/+Ftdeey1KSkrQ2NiINWvWYMuWLdi4cSMURcE999yDJ554AiNGjMCIESPwxBNP\\\n",
       "ICsrCz/96U8TfesUgeLblgFYhtxE3wgREVESStkA8LvvvsOtt96KmpoaOBwOXHTRRdi4cSOmTJkC\\\n",
       "ALj//vvR2tqKX/7yl6ivr8dll12G999/H7m5DCmIiIgotZlqDmC8cY5Q31S9aj4c+9fAOWJWZ6aQ\\\n",
       "iIioC7+/TbYGkMxBNog49q9J9K0QERH1SQwAqc+JdcQLG0SIiIhCYwk4Bkwh94zGh4uQa21BoycL\\\n",
       "uY/VJPp2iIgoxfD7mxlA6qaeHMRslMHj4GciIqL4YQYwBmb+F0RvZ+mYFSQiongx8/e3xAwgdUtv\\\n",
       "r7Pjuj4iIqL4YQYwBvwXBBERUfLh9zczgNQHcb0fERFRz2IASH0O5/gRERH1LAaA1Odo1/sxG0hE\\\n",
       "RBR/DACpzym+bZna6TvkwMvdzgYyeCQiIjLGAJB6VTRBmWP/GlgUwCvQre5flpKJiIiMMQCkXhVN\\\n",
       "UCZLwcfPvR3Fty0LeD5cMMnRMURERMY4BiYGqdRGXr1qPhz718A5YpZhsNUXrxPNcOjeen9ERNT3\\\n",
       "pdL3d3cxA0gA4lsuDZWZk+v74hGERZPhYzmYiIioCwNAAhDfcmlvBVvRBJMsBxMREXVhCTgGTCEb\\\n",
       "Y7mViIj6Mn5/MwNIPSCSzFysI1qieX1vjIPhyBkiIkomDAApIWItE2tfHy746o2SNNcYEhFRMmEA\\\n",
       "SAnRnTV52kBP+3qj4CvYsT2FawyJiCiZcA1gDFJ9DUE81vL1xtgX/TWqV83HkAMvw6IgohExRERk\\\n",
       "Lqn+/R0JW6JvgPoumVnD/jUAuhe8hTqHNnADgML9q6BAwekRtxoGi84Rs4DO43M1j/uOXaY+5ti/\\\n",
       "BhYrIATQkHGO37FERETEAJBCCBZwxesc/sEhkGl1q48bBZz6QM9I9ar56I8OeAVgUYC8tkPdvHMi\\\n",
       "IqLUxTWAFFQ8hjYX37ZMXaenb9LQrptzjpiFVo8NbZ60mNbROfavwTWr6zFzXVvINXkzZ85EWVlZ\\\n",
       "t69DRESUzLgGMAZcQxDZGj+5dq/VY4MbdsNj9eVgoz9HEoiOP78Yn+47BgCYMWMG1q5dG3DMzJkz\\\n",
       "sW7dOgDAxIkTsWXLlojfrxHOPSQiSi78/mYGkHSinWcXyTgWmemzKl7kWlsw8JuVAcf1378audYW\\\n",
       "9N+/2u+c4caraK9ZVlamBn8AsG7dOsycOdPveG3wBwCVlZUxZwI5AoaIiJINA0DyE20wE24cC9BV\\\n",
       "SvYKKwAgrTMQ1B4nINTf9aXhUKVcec1ZDz+PysrKgOe1QaA++JNiDQI5AoaIiJINm0DIT7SNH9rG\\\n",
       "jOpVCPna0yNuVcezeAX8jqsdcZuujKpt9gje+OEcMQvXPvw8/vdIR9B7XLduHdLT0+FyuYIeI4PA\\\n",
       "7pSDI2lOISIi6kuYASQ/3W38iGQdXPFty1AnCiEEUCcK/Y6L9rqy9AsAQy6bHvS4UpQCgBr8yZ+N\\\n",
       "DBw4MKJrExERJTsGgBSgO/vaRro1W4FSC0Xx/R4L7fXWrl2LGTNmBBwzG7OxHMsxC77S7CzMwnIs\\\n",
       "x2zMDjg2WMMIERFRKmIASAG609QQyVpAAKixXwBvZwYw2iAz2PUABASBpSjFHMwBAMzFXGzABszF\\\n",
       "XADAHMzxywSGC/66ExATERH1ZQwAKUB3mhq08/4aMs4J+vqhD30Cy6NOpIvWmDpnjUrG2iCwClVY\\\n",
       "gRXqcw441D+vwApUoQpAZJk/dvkSEVGq4RzAGHCOkL9ge/XqVa+aH3bbt1hoGz42YINf8OeEE9Mx\\\n",
       "HQBgt9vR3t4e9nyc80dElFr4/c0MIMVRqMyhtozq2L8GmVY3OpAWt4BKnv+Gy85Tg79ZmOUX/AG+\\\n",
       "TKBcE+hyuQLmBBqJx44oREREfQkzgDHgvyAip80OylJxPDNqjQ8X4Rdvnca6vb79hEtRiuVYrj7v\\\n",
       "hNMvGLwLd6ll4Ot/MAJ/mtrIDB8RkUnw+5sZQOol2uxgT2TUfvp+rhr8Ab41gCuxEoBvzd90TFfX\\\n",
       "BK7ESjX4A4B3/r/9+MVbp7nGj4iITIMZwBjwXxCB4rlernrVfPTfvxoCArUjbjM8X/Wq+fj1khex\\\n",
       "/h/Ga/lKUeoX7Ol/1rr+ByPw9t+/jumeiYio7+P3NzOAFAf69X3x6JitXjUfQw68jAxrBzKtbhTu\\\n",
       "X2U4isWxfw3qWoLvAiKDPbvd7vezkcbMIYb3wREwRESUahgAkp9Yh0BHM0JGf61jj4+H9xEHjj0+\\\n",
       "Ho79a9Qt41o9NihQkGttQf/9q9H4cBGOPT4ejQ8XoSHjHLx960BMOMsa9DozZsxAe3s7bvx+etBj\\\n",
       "Jk6caLgNHEfAEBFRKmIASH5iHQIdyfo+Gfj1378audYWDDnwMqpXzUeRay8sClDk2que8/i5tyPz\\\n",
       "sVqcHnErGj1ZEBC+17j2Itfaoh77+mN34cqzAv86z5gxA0uvH4rGh4uw/GdjMOOCwO2v/2nk0KB7\\\n",
       "AHdnJiIREVFfxzWAMUjFNQTxWsMnz9OQcQ7y2g75nU92BLu8FqQpXigK0OjJQkPGOShy7UWN/QKI\\\n",
       "kn8yfL0sDVsUQAhAUXwZQjfsaMg4Bz/5j8/xv0d8JWE55FnfgaxdMxgs80dERKkrFb+/oxWYDiHT\\\n",
       "imcDh8wkZrv2wmIFsH8NAN85nSNmAfvXwAYX7BYvhAAaMs7B0Ic+AQAMRVeQqH+9LwgE+u9fDYvi\\\n",
       "gcdrUcvDaDuEbYddKCsrw8CBA9UdPuT15Pt667ZlmDlzJk6ePMngj4iITIklYBOIdF1fPNe7ydJp\\\n",
       "jf2CgBKqLBPXjrgN3s4sXl7boYDXt3nS4BYWtHps6uvlLiJ2SwfsFi/csOP0iFvR6rEhDR2oXjUf\\\n",
       "W7ZsUcu+cj2hPqhdu3Ytgz8iIjItBoAmEGlgF8/1bjLIG/rQJ0HXBBbftgw19gvg7cwAAl3BKgB0\\\n",
       "IE0N8uTr5S4iskFEBnZu2JFh7VDfo3zPRZ1rBePVxMGuYCIiSgUMAE0g0sAuEVue5bUdgkWTAQzW\\\n",
       "USwDr4aMc9DqsaHNk4bj596urgu0wYU2T5r6HkNlIIOJJLhjVzAREaUCrgE0AV9Atwy5PXydY4+P\\\n",
       "V5s45Hq+UKpXzUd/dKgl3lz4MoHZrr3IUNrQcPRT9VgZeKHtEDIfqwUAFGuey7S60ejJCgheRck/\\\n",
       "Ife2TyJ67+o1NOsV9bTrCXv68yQiIuopDAApJtrGkSGaMS6RcOxfgwxrh1/gltd2CBYrYFG8vrEw\\\n",
       "nQ0gRoGXttMYnZ3CuZpzhwvm9CIJ7normCYiIupJLAFTUNGWROV6vhr7BRGdtyHjnIASb7uSCa8A\\\n",
       "OryWsOVbee3Ctv2wwYX++1er9yqbSGxwqUOjw63bS0QJnIiIKBEYAFJQMsCSg5qNaNfpDX3oE1ge\\\n",
       "dYYs/8o5frnWFhS0de27qwZzSi0sCuAWFr/5f/q1d9Wr5iOts3wsIJBpdSPD2qHuFAL4mkgyre64\\\n",
       "NoKwCYSIiFIBA0AKyjliFrwCsCgIGjzJrBmAiEfNyA5eOb9PlpDlSBj9c/JetNlAWT5WOv/n8lrQ\\\n",
       "5kmDRfGoW8bpG0EaMs6JOXhjEwgREaUCBoAUVPFty3D83Nsj6qKNdtTM8XNvR23GCHUEjPZax8+9\\\n",
       "Xd36TV5XX56V5xEQyLB2oF1kIOOx0/AI319pu8W3G4h2FE1e26GYgzduDUdERKmAW8HFIFm2konn\\\n",
       "Dh/xuIY81gaX2r0rs4jR0ncea7eKa/OkIeOx0xHdY298RkRE1Dcky/d3T2IG0AR6umwZbfAk78em\\\n",
       "eP2GQBudV+7mEax0W9i2HxbF9zvgyxS2e33N7QL+/7YJ1eTB0i4REZkJA0AT6OmyZbTBk7wft7D4\\\n",
       "DYHW679/ddjdPGSQJ3+vXjVfDSybFUfEa/60XcPBjmcDCBERpQoGgCbQ0+NNog0wtXsBa/fw1bMo\\\n",
       "HvXPXgFkKG0Bx9WOuA2NnizUjrgNgC8YTbN4YVGAAqU2qsDUbulAptWNwv2rDAM9ZgmJiChVcA1g\\\n",
       "DFJxDUFPrIULdc7Gh4uQa20JWAeoXcvnd3yY9YLVq+Zj0DcrYVW8qBOFSBetfp3Dwf6chg5kWDvg\\\n",
       "FYDLm6YOqNbfE9cJEhElv1T8/o4WdwIhP93ZQSOWcwbbfcOxfw0sVkAIwCMUeKHAK6xBd+mQwRlG\\\n",
       "zEKbyECupQXpXl/wp204QWf2LtfaguwDL6Pda0Om1Y1Wjy1gzIz+WtwFhIiIUgUDQPLTE3vdhtrG\\\n",
       "DSNmIfexmoBrOUfMQnZnBrDVm4mGjHNQ5NoLpXN/YH02rv/+1ciwdiBt/2qcHnGrej0ZfLZ50vwC\\\n",
       "PHluBYr6ePFt2uDO92dm/YiIKBWxBByDZEsh96VgJljpV0s74qWoc59hrwAsjzrR9nB/ZFg71FEv\\\n",
       "rQ8Xqpm8zMdq1XMEe8+RfhbyPts8aehAWp/47IiIKDbJ9v3dE9gEYiLBmhj03a3d7XaN5jyRNI7k\\\n",
       "tR2CRQGKXHshhG8xoBz0rO/+1TeDyOsHC/IibYzRDpxmAwgREaUKBoAmEizo0geG3e12DXaewv2r\\\n",
       "0PpwIdoe7q8Gg0YB2LHHx8P7iAPHHh+v3q/ciq5D+NbofTd8DgDjgE9Lu+dwsK7eSGg7lrkDCBER\\\n",
       "pQquATSRYE0M+jV63V0HGOw8ssMWkHsK+4I+fYZOlnmLXHvV+61eBb9j5P1on5O/y8YO+bPF6r+v\\\n",
       "cCyNLWwAISKiVMI1gDHgGoLIVK+aj8L9q6BAwekRt3YGb11jXuS6Pf22buFo1xE6R8xSzyd/Nhr7\\\n",
       "wvV7RETE729mAKkXyOwZABR3PiYzdIAvQwdADfqGRnhebcbRKFuozdhps4UMAomIyOyYAYwB/wXR\\\n",
       "fdWr5qP//tUQEKjLOA95bYd6NEMXSddxOH2pi5qIiLqP399sAqEoxWs/3OLbliHjsdPIfKwWeW2H\\\n",
       "gnYn65tHukvfANOd98Gt4IiIKFUwAKSodCcICjceJlR3cqbVjQxrR9DrRRrIFd+2TF0XKDN50b6P\\\n",
       "aPc8JiIi6qu4BpCi0p0OYf1WcPJn2/5VaHw49G4gts7mEeeIWXB2Bm4NGeeoJWP9uUOVabXHdud9\\\n",
       "sBOYiIhSBQNAikp3gqBQ42FCjWfRN4/IdXzZrr2+BhKDQK5w/ypkWt2w7V8VcM6GjHOQ7dqLdiWT\\\n",
       "a/mIiMjUGABSUPFqetAHjfJn7fnDBZTVq+ajPzrQ6rEZNI10nVt2FMvftfLaDsFiBQpQC4sFMc0F\\\n",
       "JCIiSmYpuwZw8eLFGDduHHJzczFw4EBMnz4d+/bt8ztGCIFFixZhyJAhyMzMRFlZGfbs2ZOgO+57\\\n",
       "eqLpQa7ZO/b4+KiCS8f+NciwdiDd4oYo+aeg27idHnErGj1ZOD3i1oDn5Bq+GvsFXMtHRESmlrJj\\\n",
       "YK655hrMmjUL48aNg9vtxkMPPYQvv/wSe/fuRXZ2NgDgySefxOOPP46VK1fivPPOw7/+679i69at\\\n",
       "2LdvH3Jzwxc5U72NvCfGnsgyrtziLdKxLNrB0bGMciEiIkr17+9IpGwAqHfq1CkMHDgQlZWVuPLK\\\n",
       "KyGEwJAhQ3DPPffggQceAAC0t7dj0KBBePLJJzF37tyw5+RfoPD0QWS1QSOH9vFQwaZ2dmDtiNu4\\\n",
       "fo+IiLqF398pXALWczqdAICCggIAwMGDB3HixAlMnTpVPSY9PR0TJ07Exx9/bHiO9vZ2NDQ0+P2i\\\n",
       "0PRl5OLbliH3sRoMfegTvzJuJOXm4tuWoQNpyLS6e2UWX7xmHhIREfU1pggAhRBYsGABJkyYgNLS\\\n",
       "UgDAiRMnAACDBg3yO3bQoEHqc3qLFy+Gw+FQf5WUlPTsjaeASGfnNWScA6/w/R5M9ar5SFfawh4X\\\n",
       "Lxz8TEREqcoUXcB33nknvvjiC2zbti3gOUXx7xYVQgQ8Jj344INYsGCB+nNDQwODwDDCjY2Rpd9C\\\n",
       "dMBi9XXqBuPYvwZ2qxdA6OPipTuzAomIiJJBygeAd911F/7nf/4HW7duRXFxsfr44MGDAfgygUVF\\\n",
       "RerjJ0+eDMgKSunp6UhPT+/ZG06ARO5xK7NsXgG0edJCBlv6wdDhgkqZdezue+PgZyIiSlUpGwAK\\\n",
       "IXDXXXdh/fr12LJlC4YNG+b3/LBhwzB48GBs2rQJY8aMAQC4XC5UVlbiySefTMQtJ4x+N43eImf7\\\n",
       "yY7gDqSFDNL0g6GD8X8/SMh7IyIi6stSdg3gr371K/z3f/83/vSnPyE3NxcnTpzAiRMn0NraCsBX\\\n",
       "+r3nnnvwxBNPYP369aiqqsKcOXOQlZWFn/70pwm++96VqD1u5Ww/lzct4PqxNGBo3w/37yUiIgqU\\\n",
       "smNggq3je+WVVzBnzhwAvizho48+ihUrVqC+vh6XXXYZnn/+ebVRJBy2kccmVOlZzguM18y/RJa5\\\n",
       "iYiob+H3dwoHgL2Bf4F6TqQBW6THxTugJCKi5MXv7xQuAVNyk/MCw2XrIh3V0p1SMOcAEhFRqkrZ\\\n",
       "JhAyh0hHtXSnozdRzTFEREQ9jQEgJbWeHNXCOYBERJSquAYwBlxDEBs2ZhARUSLw+5trACmBwq3f\\\n",
       "i8cavOpV89H2cH+0PlzItXxERESdGABSwoRrzIjHXrxy1mCm1c09fYmIiDoxAEwSqdiRGq7TNx5D\\\n",
       "nJ0jZqHNk4ZWj43DoImIiDpxDWAMenMNAefYERERxQfXADIDmDS4pVnvScVsKxERkRYzgDHgvyBS\\\n",
       "E7OtRESpjd/fzAASBWC2lYiIUh0zgDHgvyCIiIiSD7+/mQEkIiIiMh0GgEREREQmwwCQiIiIyGQY\\\n",
       "ABJ14vgXIiIyCwaARJ3isfUcERFRMmAASNSJ41+IiMgsOAYmBmwjJyIiSj78/mYGkIiIiMh0GAAS\\\n",
       "ERERmQwDQCIiIiKTYQBIREREZDIMAImIiIhMhgEgERERkckwACQiIiIyGQaARERERCbDAJCIiIjI\\\n",
       "ZBgAEhEREZkMA0BKWi9WbMTo9ZvxYsXGRN8KERFRUmEASEnrJa8d3/UrwEtee6JvhYiIKKkwAKSk\\\n",
       "dYfFhUFn6nCHxZXoWyEiIkoqihBCJPomklVDQwMcDgecTify8vISfTtEREQUAX5/MwNIREREZDoM\\\n",
       "AImIiIhMhgEgERERkckwACQiIiIyGQaARERERCbDAJCIiIjIZBgAUp/DHT6IiIh6FgNA6nO4wwcR\\\n",
       "EVHPYgBIfU5v7fDBTCMREZmVLdE3QKQ3r/wazOuF66iZxjN1vXI9IiKivoIZQDIt7iVMRERmxb2A\\\n",
       "Y8C9BBPnxYqNeMlrxx0WF+aVX5Po2yEioiTC729mAClJsVGEiIio+xgAUlz0dkMFy7dERETdxyYQ\\\n",
       "UsVSVo2moSIe5dveahQhIiJKRcwAkqq7ZdUXKzaiJc2O3JamiDJyLN8SERElFgNAUkVaVtWXe1/y\\\n",
       "2tGYnYMsV2QZPZZviYiIEoslYFJFWlbVl3vvsLjwUhQBHcu3RESRq9hxLzy178BaeD3Kxz6T6Nuh\\\n",
       "FMEAkKKmD/i6G9BxlAsRUXie2nfgsLrhrH0HAANAig8GgBS1eGXwQjWOMDgkIvKxFl4PZ2cGkChe\\\n",
       "GABSwoQqHXc3OGTgSESpxlf2ZeaP4otNICbW27P79OaVX4PdN042DNRCNYqE6iJmhzEREVF4zACa\\\n",
       "WDSz+3qSUdYuVJk5VOYw2oYUIiIiM2IAaGKhgqVwpdR4lVpfrNiIx7IHwGu1RhyIhgoO2WFMREQU\\\n",
       "HkvAJhaqBBuulKp9PppSstEMQa/VCovHowaiZWVlmDlzZtDXvFixEf1+WIYRpRdF/Z6JiIiIASAF\\\n",
       "oV+Dpw/CtM9Hs+5Of6w8z8PNpzCv/BqUlZWhsrIS69atU4NA/WsefGoJnB9X4ps9X6KsrKwH3j0R\\\n",
       "EVFqU4QQItE3kawaGhrgcDjgdDqRl5eX6NvpUaPXb8Z3/Qow6Ewddt84GUBXGfjiJid25TjU34N1\\\n",
       "5y615cBltcHucWOBuyngGBn8ac2YMQOTfna7Wm7+8LWXsW7dOr9jJk6ciC1btsT/TRMRUUoy0/d3\\\n",
       "MMwAUkSMunKXWnPwXb8CfJw/ALtvnIxdOY6Q3bmNWTloT88w3DLOKPgDgHXr1uHD117G7hsnGwZ/\\\n",
       "AFBZWclMIBERURTYBGISsTRtBH2t4v97uO7cpS1NgAAubnJi9PrN6nG/+e0DaNn7RdDrr1u3Dunp\\\n",
       "6XC5gnf2VlZWYkTpRch67N85A5CIiCgMZgBNojvz8eS6v6W2nIDXvlixERBAbksTFribAPiaSuSa\\\n",
       "QG1DiAwgF7ibsP/6CX6ZwqXWHHgGDAp6D6UoBQA1+JM/GznlKOhWYwoREZHZMAA0iVCDlYORQSME\\\n",
       "Al77kteOxuycgHKuUaApH1tqzcHo9ZtxcZOz63wK0O+Rp5A9YVLA9WdjNpZjOWZhFgBgFmZhOZZj\\\n",
       "NmYHHDtjxgwsvn9htxpTiIiIzIYlYJMINx/PqMyrLenOu9G/pBqs3Kt//MWKjWhJy0FuSxNctjQ0\\\n",
       "ZudgS2YW+rW2AAAWuJvw0hkXHvnN/fiwqL+6xq8UpZiDOQCAuZiLWZgFBxwAgDmYg8/xOapQBcAX\\\n",
       "/K1du9b3PuWNVGzkQGgi6nGbX69C/hd1qL+oAJNvCV6hIOpr2AUcg2TrInqxYiOWWnMABQFduEZd\\\n",
       "vtrXyeAQQFRrCeV5LR4P0twdaE/PgOL1QlgshteaOXOmGgTOwizMxdyAc67ACqzBGgDA2B9egc+3\\\n",
       "bY3ugyAiipOdD27FAKHglCIwZvGVib4dilCyfX/3BGYATeQlrx2NeTm+P59x+WUEQzVwaLeMA9D1\\\n",
       "Z13W0ChQvLjJiU25DnitVtjbWtGvtc5vXIzWixUbse+WO2BZvx5etxtrsMYv8wcATjjV4M9utzP4\\\n",
       "I6KEqr+oAOjMABIlEwaAJnKHxYWlzU2AgoDgK5q9d1/Sr7Pr3MLNKFDcBeDh5lNdgeKNwbOGS205\\\n",
       "OPr07+F1uwEgIPgDAAccmIVZWIM1cLlcmDlzplr+JSLqbZNvKQVu6bnzV+y4F57ad2AtvB7lY5/p\\\n",
       "uQuR6TAANJmsDlfUY1L0wWGwdXZy1EtLmh2X15/Crs7HjIJLozWHNUt+h/ZtHwLwrQHUln+dcKrB\\\n",
       "4FzMRVXn/+SOIdEGgfHay5iIqCd5at+Bw+qGs/YdAAwAKX5Stgt469atuOGGGzBkyBAoioINGzb4\\\n",
       "PS+EwKJFizBkyBBkZmairKwMe/bsSczN9hK1G9eWE5cRKfq9hOeVX4MslwuN2Tn469BzcHGTM2hw\\\n",
       "pe0MHvHuNuRcMRnNncEfAFShCiuxEoBvzd90TMcKrAAArMRKtQEEgN+2cZFilzARxdPm16uw88Gt\\\n",
       "2Px6VfiDo2AtvB5Ojw3Wwut77ZpkDikbADY3N2P06NF47rnnDJ9/6qmnsHTpUjz33HPYvn07Bg8e\\\n",
       "jClTpqCxsbGX77T3yFEwEIhr8KOduXdxkxMQAlAUvD/k7KCB5sVNTlg8HrhsNhx9+vd+wZ/0Kl7F\\\n",
       "XbhLXfO3BmtwF+7Cq3g14Nhog8DujMUhIgom/4s6DBAK8r+oi+t5y8c+g5um7DMs//bUNckcUrYE\\\n",
       "fO211+Laa681fE4IgX//93/HQw89hJtuugkA8Oqrr2LQoEH405/+hLlzAztPU4Esxb5YsREvnXHF\\\n",
       "LfjxW/uXYwcUBRAC9g5X0IaRXTmdjSHtrVBqTwU9t8z0WW02eNxuv8yf3smTJyO+53BjcYiIohHv\\\n",
       "ZpBI1v5Fck2uIaRgUjYDGMrBgwdx4sQJTJ06VX0sPT0dEydOxMcff5zAO+sd+tJtMPrdNIx21/DN\\\n",
       "+bMjt6UJFzc5cSYzG4rXi6uPHcLC9jNBBzPLDNwCdxNav9yJ4aMuDHofM2bMwKi1f0X6xClBjxk+\\\n",
       "6kLU3/077vxBRAkx+ZZSjFl8ZdxmAcq1f57ad2K6ZiTnIXMyZQB44sQJAMCgQf5bkA0aNEh9zkh7\\\n",
       "ezsaGhr8fqUyfdAWbJePxuwcNKdn4uOCAWhPT4ewWLArx6EGmgDQYrcjt7lJzTrqg9Csx/4daRdd\\\n",
       "EnAPcsjzxU1OFPy/xTj7B5cHHDN81IXIeuzfuaaPiFJGqLV/iTgPpR5TBoCSoih+PwshAh7TWrx4\\\n",
       "MRwOh/qrpKSkp28xofTr5IzWzd1hccHi8cBrtap7A2sDPaAzSMzKQXNGZshrfX/RU36ZQBn8vVix\\\n",
       "Ee8PORteqxVpv3sSY394hXrMxIkTsb/qC/XeLm5ycg9gIko6+oaOUGv/ohGv81DqMcVOIIqiYP36\\\n",
       "9Zg+fToA4Ntvv8W5556LHTt2YMyYMepx5eXl6NevH159NbDJAPBlANvb29WfGxoaUFJSktKTxCMZ\\\n",
       "lzJ79XpsKjoLU2qO4NVbbwx4/ZL0fmi3pwOKgtzmJmR1uPyGQevPW1ZWhka3F+57F/mVjwGor9/3\\\n",
       "7BIotadw3u+f8TtHqB1NiIgi1dtbvPXkjiKxrANM1TWE3AnEpBnAYcOGYfDgwdi0aZP6mMvlQmVl\\\n",
       "JS6/PLDEKKWnpyMvL8/vV6qLZFyKbOjYleMIeO4lrx3t6RlqY4jLlobv+hVgU9FZ6hgYfcZuy5Yt\\\n",
       "cN+7SL3uxU1OKF4v0tvbsMDjyy6OvHshipcsD7g3dvcSUTz0ZIet0fiW+osKcEoR3WoiCTcOJpZ1\\\n",
       "gFxDmLpSNgBsamrCrl27sGvXLgC+xo9du3bhyJEjUBQF99xzD5544gmsX78eVVVVmDNnDrKysvDT\\\n",
       "n/40sTfei4yaOvT0AZXRa0IFXepYGABQFNjdHRh0pg5Tao74RtIovpE0j2UP8Gs20a4Z/LhgAITF\\\n",
       "ArvH7eve7Vw/uMDdFHBd7brDUO8tkvdOROYVLiCLZQafUXAZSxNJuGA1lnWAXEOYulK2BLxlyxZM\\\n",
       "mjQp4PHZs2dj5cqVEELg0UcfxYoVK1BfX4/LLrsMzz//PEpLI/9/vmRPIXenXBrta+TxEAKKEJh6\\\n",
       "/LBfmfjFio14LHsAvFYrcpubAABNmVkQFot6jRHvbENjdg7S29vQr7XFsGysL1Vr71OWkVkqJqJ4\\\n",
       "iaVkG+/ycm+Xq1NBsn9/x0PKzgEsKytDqNhWURQsWrQIixYt6r2b6mP0e/zqGa3/C/eaYNdoSfN1\\\n",
       "C+vLxPPKrwEqNmKpNUcN/ADA4vGo11jgacJLZ1xosfvvPay9xxZ7DhqzctTn5L7HLXY7lsLu91x3\\\n",
       "3gcRkVYsc/8i3T840sCup/cjptSUshnA3pDq/4KIZ5YsXDOJvJbi9SKnrQUL3E2GWb6l1hxAARa4\\\n",
       "fdlCbfZQv8+xPKfRc0REfV1PNoZIsTZ5JGuTSKp/f0ciZTOAFLt4ZsnC7byhvZZRkCYDSFjRmc3z\\\n",
       "3ZPXaoXF48ECTxPm3XhN8HPeyMCPiJJLvHcXMSKbPJy17wCIPoCL9fWUOAwAk0Ako1h64txGQVs0\\\n",
       "9xLuWP3zoQJE2Y2c2+Lf+LG0pQkIksOW5eWXvHagYiOzf0SUVCbfUoqKkb4MW8WO65G77+dxXztY\\\n",
       "VD8Tdd/bAOvAqeFfYMBaeD2cnRlASi4p2wWcSoKNYolHJ2skY15CHf9ixUaMeHcbzt74KUa8u83v\\\n",
       "XsKdO5prX9zkhMXjweV1p9QdROaVX4MslwuN2Tl+XcSxvD8ior5EO4Yl3qNp8r+oQ8mRqRhS+Xy3\\\n",
       "y7ccNJ28GAAmgWBjVuIR3EQzN0+77688Xu7y0Z6e4SvNagJD/bHycRm0yqDu4ian4fNactbgpqKz\\\n",
       "AkbQyJ1IjD4HzgUkomSmHcMSy6xAI/E+HyUXNoHEINGLSHuyNGzEqCnkxYqN+H3OQAiLBYrXi981\\\n",
       "nfQbw6JtwAA0TRstTWhOzwxo4JBBrb7xRDsuxui53vwciMh8EjFqZfPrVRi8uxaAghOju65bseNe\\\n",
       "WOoqAABOazGy3DUBTRjRNGckayNHLBL9/d0XMAOYxOTQ4+4GPeFKyPrntdk0+RwA/K7pJAadqVOD\\\n",
       "v9mr1+NkXj+kt7epg55f8trxktcOr9UKxetFU0aW2sChPSbY4GkAeLj5VNDntJ8DhzwTUbxFU36t\\\n",
       "2HEv3to0EhU77o35mnmwIA/+1/XUvoMsi0CWRWCQ96jhTh2R7OAh79NSV9Gru33E6/Oh2LAJxMSW\\\n",
       "WnPQmJeDpc1Nhg0Yaon5TJ3aTKEftPxSZzZO+/pNRWdBWCzosKVhYfsZvHSmKwP40pk6tNh9ZWOL\\\n",
       "x4OHm091Pu4ybAbR3oP+OvK5pc1NeGn9ZvX12teEaiwhIopUNB25kXbGBsu8yQxf2iQb3PtnIvvo\\\n",
       "j/yuay28Ht76DbAoQIcA2ryBO3VE0pwh77PFq/Tqbh/sHO4bGACajLZcCluO70El8Ll55df4jVGR\\\n",
       "QdVjHg9QsRF3WKAOWn5R12F73ukT+GrgEJx3+gTmzZrmF4TNk9c54z+XL1igFmoUjTpkWjcgmkOe\\\n",
       "iSjeohm2HGlnbLBAyFJXgSyLACwdOHreG7jpV7/HBZrXlY99Bm+u9SLf8QGsljakKR54Nc+XlZVh\\\n",
       "4MCBWLt2X8A1ZdC59GngTG0zfr8kG9bC63FTL5Z+2TncN3ANYAyScQ1BqC3SQg1+NlqDJ7doy21u\\\n",
       "wv7rJwRcw2gAs18ACsRl7R7XABJRT4h03V931wdq1/J5C8rVLODbHwxHlkXAK4CW/OmG6/L2LqzE\\\n",
       "qSvugzuzFgDg9NjQ7/Sfcd8D/wc7ju4GAMyYMQNr1671e91bm0biD48fQ2VlMwBg4sSJ2LJlS8T3\\\n",
       "nCqS8fs73rgG0GS0a+z0awhDdczOK78mYA2ezBy6bGkY8c42jHh3G2avXq92/2rX9klqJjF7AJZa\\\n",
       "c+IyosVoLSTXARJRrCJd99fd8SzlY59Bh7AiyyL81t95C8rh9NiCBn8+CgoPToPiykKLV4G18Hrc\\\n",
       "+7tpavAHAOvWrcOEqSP91tstfRpq8AcAlZWVKL2kOKr7ptTAErDJhBq4rH8uYFCz7vkF7s49ejv3\\\n",
       "+QWATZ2dvWqGUbP+D/AFmY91jm2Bgh4b0RJuHSCzhkQUTqTr/oIdp88MGq35MyqH+p57Rj2HTfwe\\\n",
       "7YM+h7NxBM79+28xZ8O9yHcUYNmkh4DCH+OGW0pRVlaGXd8cCbi3/930NWyubPz6oXcwc+ZR/O+m\\\n",
       "rwOO2bPjGMrKykyZCTQzloBjkOwpZP3euvoMWrCxK6HOc3ndKezKceDiJid25TgMA6zZq9djU9FZ\\\n",
       "mFJzBK/eemPIYCzSQE1/XLDXycdl0BqPfY6JiIyCO/1evm9tGulb89dZrtWXjYOdo+5HtwOKAISC\\\n",
       "//fzHHyqK/GWXlKMPTuOhbw/W5oF7g5vyGP6Wjm4J0fvJPv3dzywBGxiL3l9QZB2gLP2Oa/VCgjh\\\n",
       "N6jZyLzya7D/+gnYP20CXr31Ruy+cTJ25Th8Hbq2nIBSrBzqvCvHoV4rWCk40mHXS2056vXkPRmN\\\n",
       "yJHn68nsIxGZj9HYFTlo+cCY9Xhr00i02IrQ5spC0f6ZGLy7NqBsbHSOA2PWA515mvnzj6nBH+Ar\\\n",
       "8f5wYi765ZwJel+l8AVOMviTPxtx22v61HiWeO98Qv4YAJrYHRYXcpubAnbrkM/5ZvQpaqAW7bkH\\\n",
       "nakDBNQ1f0bzBLX30WK3Y/bq9UFnD4Yk/H8PtgZQnm+BuymmGYpEZF6bX6/Czge3YvPrVepj2h07\\\n",
       "pMm3lGLM4ithyX8PDqsbWe4aDKl8HiVHpgJQAnbhMDqHJf89wOIL/r78si3gXj7e2gQAmHBFYBZr\\\n",
       "NmZjOZZjFmYBAGZhFpZjOWZjdsCxM2bMwIL70KvzAMPhTiU9iyXgGCR7CjlceTUe6+QiLSXLzmG5\\\n",
       "rVu0pVn9vYbqaCYiioW+tBuOtrSbu+/nyKx/A3Xf2wD3wKkR7dLx2zkvYK9B8KeVZk1Dh6dD/bkU\\\n",
       "pViO5erPTjjhQNc/5u/CXaiCL4C9/Moc3L/s/xp2JKeqZP/+jgdmAE1M25Fr1C2rzgL02sN20wbL\\\n",
       "uBl2DxuQmbkpNUei2ptYXjOajmYiolhEkpmq2HEv3t14IT554WHk7vs5bpqyD+Vjn8HkW0pRM2It\\\n",
       "Muwthpm2N9fOx+Z3L8Wba+cD8DWEjDr/hqDXkSVdGfwVoQgAUIUqrMAK9Tht8LcCKwKCP7m7COAr\\\n",
       "RfeVMjD1HGYAY5Ds/4IIlp2T2bSLm5zYVHRWRBm5YPsEB5v5F495gMzyEVF39Ma+vrLhw9ZaiLxt\\\n",
       "/4YjMyrULCCAoHvvbn73UojMeiit+Zg87TP18ZkzZ2LdunV+x87GbMzBHKzACqzBGszCLMzFXEzH\\\n",
       "dDjhW7u9ARv8gj8nnJiO6QAAu92O9vZ2AF1ZyjTFgyyLgNNjw01TAgdJp4pk//6OB2YATSxYdk5m\\\n",
       "Bv869BzDRhCjbN/FTU5YPB71OBlcavcBln+evXo9Hs0dZPhcNGSW7+Imp3o/nP9HROH0RnOBtfB6\\\n",
       "eNpzkX/wOpxypPk1eJSPfUbNCOrVNV8BpTUfrScm+a0zvOPG32HymO+rx5WiFHMwBwAwF3OxARsw\\\n",
       "F3OxHuvV4G8WZvkFf4AvEyjXBLpcLsycORMA1HuSMwi5S0fqYwBockbdstoGEAgR0AiiD9herNio\\\n",
       "Zgq1nb0yeMxvb/UryW4qOks99x0Wl18TSDSBm7x32XEcSzBJROYRTXOBUcNHJMrHPoMBW/+Aguqr\\\n",
       "MMDZYdjgYeTmmcswedpnGPLNDX5Bav4XdXh16gpMOX8SAOMS73qsxx/wBwC+AHEu5qrPy6AQ8AWM\\\n",
       "snS8bt06NQiU9x0sOKXUwgCQDGW3tSK3pQlXHzsUkCHUB2wy2LN4PH6dvTJ4/Lr/YL9Ac0rNEVg8\\\n",
       "Hlx97JA6YDqrw2U4jiYYbaZPG1xy7R8RhSO7cyMp/+qzhfqAMFSAqA00QwVWFTvuDRi/og9S5c//\\\n",
       "99HRsHVu4bAGa9TAThv8Ab4AcSVWAvCt+ZuO6WrAuBIr1TWAQGAQSObAnUAowEteOxrzfEOS/ykv\\\n",
       "E7t0s0PnlV+DlzrX38mdPl7SbC8nj/lUM/AZuER9/au33tj5p67HtOfQCtaJrN3pY/eNk/12+wi2\\\n",
       "0wkRUbT0u3zIgBBf1AG3BP4sVey4F57+7+D41CJkuWtQscPXAZyvO1f9RQXw9PeVh5WaSmx+vcow\\\n",
       "MJ18SykqRt6L5Qv+E2637zFZ4tUHf9KreBWf43M12FuDNajq/J+eDAL1ewdT6mIASAG0wViwLdX0\\\n",
       "QZ9R0GUU6AWjPYc26Ivk+kRE8aaObhl5PSbf0pW10weEB8asR332R6hrvgJj0DUSRq75y/UehcUK\\\n",
       "dNRtgBhQgeYfnA3Yncg8fC3ShtqAvLfRYitCv5YmDDx4AzqO+QLJzPo30DDhr8g9dA12PliHA2PW\\\n",
       "Y/kL/4mtnfv4aku82vKungz27HY7XC6XYfAnnTx5svsfGCUdBoCk6gq80NVVW7HRMNAKtaew8Tkj\\\n",
       "6/DVdiarQWjn7/rOYSKieJMdwraJ7yPH7oaz9h3IfXmNWPLfg7C6UYCP/LJ3co/fDMWNdAWwKQAU\\\n",
       "gfa8Q4AC1H1vA1o96RCZ9chyNwINf0bHsa7Asu57G5Bhb0HTOX/BiKNTsGD5q9i6rVm9rizxzsEc\\\n",
       "tKM97Pu6ZOzZKC65OKCTWOpr28BRz+MaQFIZNVAE21ItlnOGO167nlB7fe25llo7t36z5nTrvoiI\\\n",
       "jMiSbsG30w2bNvRrAq2F10NpzcfAgzf4dRXLNX8dBb7znPJmwSOAk94sOD02tDb8CDbn9+AVQIut\\\n",
       "CJNvKcWRGRU40//HeHPtfBR8Ox2e9lw4Dl6HeRWPYMu2+oB7fRWv4i7chTVYE/Z9ffLpfgC+HT/0\\\n",
       "GPyZEwNAUvVEA0W055THP9x8KiDo9DuX0vmgEngOIqLuks0Wrfk/MWza0DdnlI99BmhYiY5jk9TH\\\n",
       "9MOcASCrcCpa86cjzwMU7Z+JC3bcCOE4BIsCZLlrAHSVjQuzt6HkyFScX/kHDKz+EU43Bx9XI0u6\\\n",
       "tgjqeSdPnsQdN/5O7SQGGPyZGQdBxyBZBknGY0u3vnYfszUNJl1rDYmIAsUy+DnYa40el4+dmXAv\\\n",
       "vJl1sLQWQEBAZNbD6fFFaHI49ICPnobzrA/ULeHkFnHO4etg96Zh4Dc3I726DL79PRTcUnEvvvjq\\\n",
       "s8AbhG83j/m/+mf8xyO7semrDw2Puej8S7H7H9vVbexur3gEx7O+xu+XZBsOpE51yfL93ZOYATSB\\\n",
       "RM3G0w9ljud97Mpx+M0dJCIKJpbBz8Fea/S4fCzn0LVQWvNhP3MuFKsLFlc2vPXXwVp4PdpcWbAf\\\n",
       "vhonRhdi/C8fQ2b96zhrXTkG765DyZGpsHfkQNhbcHLY2zg6uhAXLJmIC5Zcid3/2I6JEycG3N/k\\\n",
       "Md/Hvf9vCIaezsHL5Y9i4oR+Acf8U8lorJzuC/DqLyrA0bPex93LTmHxkxnqcOruzjuk5MUA0ATi\\\n",
       "Udrtzg4b+r2Gg91Hd87NeX9EFKloBj8bvfboWe/j+MRfhZzTt/n1KqQLgQYINBbMxORpn6G54Ct4\\\n",
       "7c2weDJw7s4bUT72GUy75kuM/+VjatZQHSMDgVOKQF3zFXB6bGgsmuiXWdy7cCte+KdHceGwi9V7\\\n",
       "mHb+JCx4wgqH1Q3n8HX4+or5uPPey3D5lV1roy86/1K88LM/qPep3YsYAFq8CtIUDzLr3zAMdI1m\\\n",
       "FFJqYAk4BsmaQu5OKVbuu5vb3ISsDlfAa43OGWyv4WDn5p6+RJQI7y/5BCPPdGBfvzRMXTg+4Pl3\\\n",
       "N16IDHsL2lxZmHbNl4bnkKVVDwQOjPaVhbc//zu0nLMRGWeG43Thl3APnIrysc90jZgpvB6Z798c\\\n",
       "9NqypOwu/gAt52xE4cFpyK2ehFl/+jUKswuw4Hd/wPHBd2Kg9yg8ArBbfAFdh7Bi6dOAzVXkt75P\\\n",
       "nu/AZU8gL3c/TlpKkOWugcPqRpsrCwXfTldL0rIkLPc0Drc3cG/srxxPyfr9HU/MAJpQd0qxMuMG\\\n",
       "BYavDdZBbLTXcLBzR5vN476/RBQPI890wAoFI890GD5f8O102FoLUfDtdPUxmRl7c+187Hxwq2+/\\\n",
       "XwhY0ZVFyz56Fc796Bm09tuPDHsLbCffR8WOe5FZv0EtvQ5w+q6dn/sXfPjuOFSun4QP/jYc//va\\\n",
       "LAzfXYe0oR+iYeTrcGfW4rvz/xtVI97GCz/7A+Y8Ohpn+v8YBZ6jsCqARVihtOYjzWuDw+rGA/d7\\\n",
       "8OuHavwyd2qHc9ppWDubT+QWde6BU9XMoKf2HfU1kW5h1xv7K1N8MQA0oXABl1FgJcexLHA3Gb42\\\n",
       "2DkjGSPT3VEz3PeXiOJhXz9f8LavX1rAcxU77kXd9zbAfvhqtOb/RH1cduwWZH+EAULBAGcHDoz2\\\n",
       "lYWbbQoOL9yKujQLGiBQcPB62FoLUfLNj2E7+T6sndus9z81Gs02X9aw+Zy/wJtZB3feESiKQNug\\\n",
       "z2GBgtph7wIWL4QAYPGi/az/wZjFV8KS/x4cVjfSOich2DzpOO+jZXB8M8Ov4US7vu/48Lfx9RXz\\\n",
       "0QAFHgG0w65mIsvHPoMWWxE8nWNppEj3Bo6lzE6JwUHQJhRuiLPR7huGQ6KjOGdPuLjJiU25Dlzc\\\n",
       "FHwKPhFROLL0erbBc57ad5Bjd6PuexswpHIKNsM37FkOek4/MQkeCJxypGHqLaXALcDhhVthhYKS\\\n",
       "DoE6BRhQPRn51ZOgQEGzxYPGkX/yBYGOQyjp8GUNsw9di6Zz/gILAHdGHdIbz0IrBLIOXYPaEWsh\\\n",
       "LB1wC0XNxMnrt9h8W815G36EU4pAY8N1GLZ5Cg6MWY+O/PdgLbwe+Zt92bn6wR/6Bk8LwKoAA5VW\\\n",
       "wCLQdvJ97HxwK/In1sJq7xpLE43Jne+dkgczgBTAKJunzbZFW3rtqVItO4GJqKfJEmjBt9P9Spwy\\\n",
       "MzZs/w1oLP4QaRf+Wi23ajOK9RcVwAMBBb5MX2v+T9CaPx0d7jS4ra2oGvG2L3ArmIlJ07ajydoG\\\n",
       "KIAz8yQ6IFB0dArSO3JhtwAdwgrAty4PAG6asg9DTjyHYZv/EwWeX2DM4isxwNmBAULB0NNdjSD1\\\n",
       "FxWgAV7kHroOba4snLSUQGnNR+53P4DSmq++t2DDryU2hKQWNoHEwEyLSI325420aaOnmjz6ynxD\\\n",
       "Ikp9m1+vwuDddQAETowuBOBb95YjgONX/AbuzFo1ePJoMnPWwuuRu+/nyP+iDqccacjNew9139sA\\\n",
       "r60VWRahNlfIxpAWWxHy22tR9M1NGFB9FRQoqCnZhJPnrlebNDLsLWqzR8nXP0HR0SlogMAFS67s\\\n",
       "vM9anLziN/Bk1qmNK7JJ5ZQiMGbxlX5NGwAweHctAAUnRgdv4pANIfLayTw/0Ezf38GwBEwR8Svx\\\n",
       "BtkfOBjtfr49dk9ERHFi1NE6+ZZS7PxiKwYIC9o7s4AdpS/hyKDtsDQORZu1FdaBU9W1gTneo7Ba\\\n",
       "AWftO5h8yzPALb5O4YYL/6oGcNpsm3wd3DUYUvmfSBv6Ib694jcoODgNjQUzMaTyR53jYoCaEWuR\\\n",
       "pnjgsLrRdM5fgKNTAAi/++x/8HrUDnsXBYevBuDLAkIT8OlLtr73pvjem66Uqw1O4a5Rrx1un2Tq\\\n",
       "2xgAUtSiDbzmlV/jCxq9dqBiY49k65gNJKJ4UWfz6YIhfRAlBvx/gEXAm1uNzFMbMPmaUlTsgLo2\\\n",
       "L7+9FkXfTse2rR+hpENAKAIZZ4ajMaMOTmsx/s+kLeq55Zo+b/11EEP/hu/O/xNg8aJ22DtAw49x\\\n",
       "YMx6nMneBvuZc5HusaM+vRCW9loMPHQtWuEFoGDz6771iQfGrEdh57F139uAih0tyMXPQ75n/XvT\\\n",
       "0ganMlvp7GweoeTFEnAMmEKOXE/P+uMsQSKKF315NNh8u//+sAxFnmqkN54Nl92JxqKJfiXRnQ9u\\\n",
       "RdrQD1E77F0UHpwGAeDk91cDikCLV8ENP/om4Hr5X9ThzMQ74bU3A0LBoH/cikaLW20cgVDU15/7\\\n",
       "wcvIgwLRucZQlnff/mA4siwCXgFYFMDpsWHY5v/0KwED8JtHKO978+tVyKx/w28eoNFxyY7f32wC\\\n",
       "oV7S0zt3cGcQIoqHih334kz/H+PIjApMvqU05Hy7/zNpC5RTG+CyOyEy6/3m5wHAKUcaaoe9C3dm\\\n",
       "LU4N/zNOnv/fgOLLuWQoQm2myK1bi4YJv0Fu3VqccnSNovG47eg4Ngl139sAqwJ4BQCvtnDnO5ds\\\n",
       "MKm/qAAVO+5FRuc13AJqmdloTIvM7GnvO/+LOrjO/qvfPMBIR8FQcmEASL2iu7P++sr5iSh5RbPP\\\n",
       "rT4oCjXfTmbu5PZt+pLoAGcHCg9Og9KajyZbC2DxAkKB6MzMWeoqAACN566HO7MWTeduQPEZFwZ8\\\n",
       "82NYWguQ/83NSBcCrQ0/gtNjQ0v+dDQVToPTY4O3oBwnRheiAQIN8GJfvzRk1r+BrPoNsCiARwCu\\\n",
       "gunq7h3aoFYyGvJcf1EB7IevRpsriyXeFMc1gERElNKCrekzItfiyeAn1Hw79bw7b8SYxcv8nqvY\\\n",
       "cS9sE9/37R7SsBLeka+gpTPgswJIV7qOdVk60JX3U9BxbBIGVU9CHnwHnbvzRtRf9Avkb/Z1Eg9w\\\n",
       "luPAmPVoHjAdB34EeAvKcda6cjRc+FdYFABewOvtOqPt5PvIsbvRdvJ9v3v0ZfT8s3q+ALEUwGOh\\\n",
       "PyhKeswAEhFRSotml4poyp2hzuupfQcZ9hbUn/cneAaWI/+ro7C4M5FlEUj3ZKHNlQVvQTkqdtyL\\\n",
       "DosbHe40ZHxbjhOjC3BkRgUOlv0KNSWb0AAvDoxZD+TNQdrQDzHyjG/OX0H2R8iyCGRZBHJrKtFs\\\n",
       "U5B/cBpsrYWwuLORZutQs5hyK7uBB26MOBNKqY9NIDEw2yJSdtoSkdnJhghv/XU4d+eNnRm5joAm\\\n",
       "kYod98J28n1kpLX61v15LUg7OQYdA3ci97txUM4Mx9Hz3kCa4lEbNhQAmSfGwdXvALyZdeqMQDl/\\\n",
       "D14FbYdvxJBvbsCBMeuRXvA2sjyZyD19IVr7fYPCg9PQr3oy6oo34/TwN+GydKC9/zR1DmG6EMiD\\\n",
       "xa8RxKzM9v1thBlAihj33iUis9PvASwzcvlf1PntlFE+9hkMqXweuSd+oAZ/jQX/ACxetPb7Bs3n\\\n",
       "/MW3l6/XBk/nmkBFAdoGfY7sMyMAr6LuyWstvN7XAGIRwNCNODKjApb89+AtKIdS9zqa+n0Nd2Yt\\\n",
       "aoe9CwGBzOpJsHoykWbrQOZ3f1PvvbqfHQ3wIl0g4iwgd/9IXQwAKWI92WnbU9vFERHFk2ycqGu+\\\n",
       "AqcU33Zvsgxs1ECSVnUHPJ+tQu6Xd6K1bSiEANz2BqSdORe21kIU7p+JjO8ugRCAEEDGd5egud9+\\\n",
       "wCLg8FSr277l7PspbK2FKPh2ut91Jt9SisaiiWhzZSH/4HVQoKADAgWd5eDBB6araxUHODvQrijI\\\n",
       "g3FXsxGjTmFKDSwBx4Ap5PjhHD8iSlayG/jAmPWw5L+nNpDY6zbApgBZJ8bh7C9/hf1XLIA3s3MX\\\n",
       "EXcaBn34H0gXwCnNVnI3TdmH//6wDIO8R2HxpAG2DrS5spBZ/7o6K7Bx5CuGc/m08wTdhxsx8kwH\\\n",
       "9vVLg+3s3IjmGhqp2HGv2q3sLShPmVEw/P5mFzD1ET21XRwRmYPR9m2RCjXoWH9eo+tou4Flt+7x\\\n",
       "ib+CvXO1TNugz3GmfjOEtQ1C+Eq9dm8aTjnSUHymA1mHrsHJc9fDOnAqACDLXQOLFYDVDYsrGwXf\\\n",
       "lmP8L33dyPp7DbgfXcfy2fIPt3S91zP9ZZdz+GCufOwzeGvTO35bv6XiYGgzYgmY+gTO8SOiWIQa\\\n",
       "2BxuDmCoMqf+vEbX0XYDy+cLvp0Ol9c3vLm+6Vx8N/xNCHsLFE+aryP3m5sx8kwH8qDArQi0W7v+\\\n",
       "8auu+VME4ElHa/5PDO918+tV6F/7Jhom/Ab9atfhkxcexrsbL/Rbr6dfw9edkq618Hq0ubJQtH8m\\\n",
       "Nr9exbJwimAASERESS/USJZQwSFgPBBZBo3NNt8uG3KHDnmdA2PWq4HV5FtKMWbxlZh8SynqLypA\\\n",
       "A7xwHJmC9FMVmHLVAdw8fSNabK0AAK+wYNhH/4b06knq+sG6723wC6jKxz6DlvzpaHNlIePwNXAf\\\n",
       "blQD2BZbEbwCGHRyDIbvrkP9sPfgzqxF47C/qDt42DTz/vTBmtF7DUc2tJQcmYr8L+q6dQ7qe1gC\\\n",
       "pl731OrdeG3PMfxs1FDcf+voRN8OEaWAUAOb6y8qADRr4PSMBiLLoLGwQ8ACBcVnOvyuc3zjr5Bh\\\n",
       "DRyuPPmWUuz8YisGCAXtnYOnN79ehf71t6DuextQ8O10WDobNQY4O3zjXGytcHmBNMWjdhDn7vs5\\\n",
       "zt1djsbiD+G68G6kHZyG/C8m4Ux/X3nY3e9bWKCg4OA01A17F7kHr4UNCuqHvYeCw1cD8GX/0hQP\\\n",
       "OtxpKPpmBjafrkL5LYHvNRLaz9Do8wJiK8NT72MASL3utT3H4ITAa3uO4X4wACSinhUqOAxGBjw5\\\n",
       "QiATCgDht/Zt4LfT4Tr7r2qwZfRauTdvbl4lcmtvQEbl874M4lHfTL4BwoL67I8gLALwKrBbhLrO\\\n",
       "Lv+LOlihqHsJnxz2NlD4Y1859uT7GHjoGjTAi5qmqRiwbRLqLypAnfWPKIAXx/o3AfBl/3KsAkp7\\\n",
       "DkqOTMWpo+F3QonlM4xmxxVKPAaA1Ot+NmqomgEkIuqLZMDTldUqVMupztp30Jr/Z+Rvm2KYVdS+\\\n",
       "NremEiKzXg3gtM+1d+4jXICPkHPmPDT1+xrWookAfEFkW/0baE1rQIdXgbdoIsqnlUKfebtA8+d3\\\n",
       "N34AYW9BpvUDAF3b2nk7+uPrK+ajrvkKjMGVEWXqutPoES7TSn0Lx8DEgG3kRETxt/3NZ7FtTzUm\\\n",
       "jCrGuJvvTvTtqKLpFgaAnQ9uRdrQD3Fy2NtoLJoYNJAKFpDJHUDkeJhwtv5pJjoG7kTayTG48qdr\\\n",
       "1fuVu420eBV0CCuK9s/0ZQRD7AgS7bWTDb+/mQEkIqI+ZtueajhFNrbtqca4mxN9Nz6bX6/CWV+U\\\n",
       "o/6inwOngZ3rthqPgtGUP0850jCyehKON01F+bTxQc+tLa++uXY+CrI/Ql3zFUgb7svgBWu20Aek\\\n",
       "jQX/QIbF69txBF0NIC1eBU6PDZmKG1lWN5zD1yHjqHH2UpLZQ/21Yx0BwxEyfQcDQCIi6lMmjCpW\\\n",
       "M4B9hV+ABwQEe0blzwHODljh24FDTxsIAVD/XJD9EURmPQrwESaP/QyhGja0JWngGbgHTvUFbZ3z\\\n",
       "BLVB3E1jn8HbHwyHHQIdFnfYvYCDNXrorxmtWF9P8cMAkIiI+pRxN9/dZzJ/UkCApwv2jJokgq2J\\\n",
       "q9hxLzLrN8BqBTz1G9AuFORYfQ0gdc3XoQC+DGC4bJk+S6cP2vQ/ewvKQ2YUIxEsM9hbr6f44RrA\\\n",
       "GHANARERRUuur5O7gsi1eTIosp18H7l130f7oM9hUWC4Ds8oOGR5NXL8/mYGkIiIqFfJLFiLrQj5\\\n",
       "7bXo/+10NDZchwHODhyf+Ctk2FvQMXAnLArgETDMlhmVUrWPVewAg0EKiQEgERFRN3Vn+HHuvp8j\\\n",
       "/4tyv63jPPCtF2z7djoah70NR90FcBbsRUPjJJz7QTk276vC5FtK1Sxfi60IaZ5qZCpuvP3BcDit\\\n",
       "xXAoHrR4FVgLr+daOwqLASAREVEIoYK8zPo30DDhr8g8fDWA0qBl2PeXfIKRZzqwr18aBjg71CYS\\\n",
       "uU7wlMP3eGPDdRhZOQVWKLArAgPgazhpq38Db236MdIUD3KsAunttcjy5MObWQc7BNK9R2G1dJaL\\\n",
       "xz6Dih1Q19pFG6RyRw9zYABIREQUQqgdLuq+twEZ9hY0fW8DgMeCZt5GnulAY/GHSB/2Lg40/xDY\\\n",
       "eWNXgKU5584Ht8IK3/7D9RcVwH24EQVnOnxZQc1Il6JvpyPXa8Op4X+GFwIn0wuR5a4xbAjZuW6r\\\n",
       "4f0bBXpy55K0oTcg/4tJ3NEjhVkSfQNERESJsPn1Kux8cCs2v14V8rj6iwpwShGGc/PcA6fC6bHB\\\n",
       "rR294rEFrNvb1y9N3datIPujoNk1ea0Do33Py1EyuQdvgNNjg7egHDdN2YfW/J/AUl2GQVueg1L/\\\n",
       "Ov7PpC24aco+w/V+8pynHGl+71cGtvmdo20A37pBuXMJd/RIbewCjgG7iIiIktfOB32ZsVA7YkQi\\\n",
       "0u7bih33IremEgMP3oCOY5MiumY8y7H69xssA2iG5hF+f7METEREJiMDn1OONMDZEXOmK9KGi/Kx\\\n",
       "z2Dz61XoOBZ6v9yAwCxOZVj9XEKjcwcbAE2phwEgERElTCL2/VXX9Dk7Ysr8SdEMN44koAu15jAW\\\n",
       "8QwmKfkxACQiooRJxL6/wXbo6K54Z83ifX9aZinxUngMAImIKGF6c99fbbZxzOLeyTZqRbqeL5pM\\\n",
       "XbQBXU/PB2SAmTzYBUym99Tq3Ri98D08tXp3om+FyHTG3Xw35j/ydK+Uf7XZxkQw6rqNlaWuAg6r\\\n",
       "G5a6CgC+AOytTSNRseNew+ODdSnHiwwwPbXv9Mj5KX4YAFJQZgmMXttzDE4IvLbnWKJvhSgpbH/z\\\n",
       "WSx79D5sf/PZRN9KVCaMKoZDae6VbKORUONk4iVcAFY+9pmg42LioacDTIofloApKG1gdD9Gd+sc\\\n",
       "T63ejdf2HMPPRg3F/bd27xw9fb2fjRqqvoaIwkvEur14GHfz3VHfbzzHsPREE4a3oNyvASWahpSe\\\n",
       "KNeyizh5mD4D+MILL2DYsGHIyMjAJZdcgo8++ijRt9Rn/GzUUDigxBQY9XZ2rTvXu//W0di95Lpe\\\n",
       "CVCJUkGiM2m9qSfKtvGkz+hFk+FjudbcTJ0BfOONN3DPPffghRdewA9/+EOsWLEC1157Lfbu3Yuz\\\n",
       "zjor0beXcPffOrrbmT8p0uxavDKFzOYRGYvnuJXuZNKSVU925CZaNNlCSj2m3gnksssuw9ixY/Hi\\\n",
       "iy+qj33/+9/H9OnTsXjx4rCvN/Mk8XiXdkcvfA9OCDigYPeS6+Jwh0SktezR++AU2XAozZj/yNOJ\\\n",
       "vh2ihDLz97dk2hKwy+XC559/jqlTp/o9PnXqVHz88ccJuqu+TdsUEu/SbnfLzWZpVCGKlZnKtkQU\\\n",
       "nmlLwKdPn4bH48GgQYP8Hh80aBBOnDhh+Jr29na0t7erPzc0NPToPcZbrFk7bdAX71Jrd8vN8WhU\\\n",
       "ITKDeJVtE7FzBxHFn2kzgJKiKH4/CyECHpMWL14Mh8Oh/iopKemNW4ybWLN22ixdX2mciEejChFF\\\n",
       "LtJZesk6KobILEwbAPbv3x9WqzUg23fy5MmArKD04IMPwul0qr+OHj3aG7caN7EGS0ZBXyQl2J4s\\\n",
       "0/aVQJTILCItJcd76DIDSn/hBj4ThWPaANBut+OSSy7Bpk2b/B7ftGkTLr/8csPXpKenIy8vz+9X\\\n",
       "suipeXyRZBU5aJkodUS6c0e81xwmehePvoYjXChWpg0AAWDBggX4r//6L7z88sv4xz/+gfnz5+PI\\\n",
       "kSO44447En1rcddTQZjMKp6Xkxk0y8cyLVFyiGeWLd5bvPWFJpa+lHXjjhsUK1OPgQF8g6Cfeuop\\\n",
       "1NTUoLS0FMuWLcOVV14Z0WuTqY28p3fk4BgXouQXblSM2RtA3to0Eg6rG06PDTdN2Zfo26EYJNP3\\\n",
       "d08xdQYQAH75y1/i0KFDaG9vx+effx5x8JdsYl0rF24dH7N8RMkvXJbN7GVYZt0olZh2DAxFJ9y4\\\n",
       "lXjsGmKkt/cSJqLgJowqVjOAvSFcxrG3M5Lc55ZSiekzgBSZ3szwhRs4nejOY6JUFS7DF691fZGu\\\n",
       "NQx3P305I9mX1gsSGWEASBHp6XEr+qBv358ewBNP3GUYeMqg8Ikn7kJZWZnh+dh5TBS93mq0+FtV\\\n",
       "DZwiG3+rqonpfvpCY0gw7NKlvo4lYOo2fXk2lnKtNmBr3PA7tB+tQjuAz95+HLvXrvU79mejhuKJ\\\n",
       "J+6C86uPUPkVUFZWhi1btgQco92phKVkovAi2S0kHmVXRfd7d+8nXrub9ARr4fVw1r7D9YLUZzED\\\n",
       "SN2mz7LFknWTmb7GDb/DwX2fq4+vW7cOM2fO9Dv2s7cfh/Orj9SfKysrAzKB+owlM4JE3aMv18aj\\\n",
       "7Dq5tAgOpRmTS4sMr5EKysc+g5um7OtcN0jU9zAApG7Tl2djWSd4/62jkf/pU37Bn6QNAmfOnIl1\\\n",
       "69YFHGMUBIa6VyKKjD7gi0fZVb+WMFxQmYoBIlGimX4OYCySfY6QUVk02rJuvEqrZWVlqKysDHmM\\\n",
       "YrVBeNwhj5k4cWJAOZiIui/akm93SsThXrNk0UK0IQMZaMPCRUuifg9Eesn+/R0PXANoYkajXeRj\\\n",
       "L1ZVA6uBl6uq0ab4fjca8xJuPIwULlAcOHBg0NeWohRVqFKDP/mzkVDnIaLoRbvOTpvN077OKMh7\\\n",
       "c9l92OPMxChHq+HgaSnSNYNEFDmWgE1MXxZ9avVutAsBCEAoCLleTnbtnpeTaVha1Y9hebmqGk4I\\\n",
       "vFxlXOJZu3YtZsyYEfD4bMzGcizHLMwCAMzCLCzHcszG7IBjZ8yYgbW6hhEi6l3BSsQyMPxbVY1a\\\n",
       "zt3jzISABXucmYbnKisrw48uHwMAyECbumZQa+bMmSGXfxCRMWYATUw/vPm1PcfQpgAZAkjXBHWv\\\n",
       "7TmGn5X6B3gy8/d1U6vh1m+RZga11q5d67fGrxSlmIM5AIC5mItZmAUHHACAOZiDz/G5mgkMFvyx\\\n",
       "+5eoe7rb7RssYyiHSLuEVc0QjnJAzQDqaZeF1Dhd+OeZ12HczXf73dfTa/9X/e/FueeUYM2//Ua9\\\n",
       "V7NvW0cUDjOAfVQiBhnLjODtpcVhZ/4ZNVVo71n//O2lxeq5Q9FmAqtQhRVYoT4ngz8AWIEVYYM/\\\n",
       "gN2/RN0V7yHLsvFDdgBPGFWMm+c/jUcW/R43z/cv/+rXBO/duxfv/vUDv/v6l0de8GsI+/ZwNX7y\\\n",
       "m66O2748JJqoL2ATSAx6chHp6IXvwQkBBxTDDFu0upsJ09+H9jwA1JLu7aXFarAVzT3rzyf//PA/\\\n",
       "/wAulwsAsAEb/II/J5yYjukAALvdjvb29ri/byKzS1QGLVRD2IwZM3DfzB/iXx55Abv3fm14jGwE\\\n",
       "YwaQQmETCAPAmPTkX6B4By7dDSjlfZyXk4mvm1rRLgTaFMDRuRzbCd9fH5nti/ae5X1lCKAdvrWH\\\n",
       "ZyqeVOf8zcIszMXcgNetwAqswRoAXPtHFC/6oKm3g6hIpgHY7Xb1H4fBcBoAhcMAkCXgPiveW691\\\n",
       "dw6evI+vm1r9gr3zcjLRLgQsAoAAzsvJ7NY9y/sCfMHfqQ1L1OCvFKV+wZ8TTvXPczEXpSgFYDws\\\n",
       "moiipy+b9nYZNdw0AABq8Cd/jvY8ROTDANAkjIKzaNYZ6tcHft3UijYFvpBQAb5u8l/E/dTq3Tj/\\\n",
       "gXdx/gPvBj2/Nst5e2kxzlQ8iZZ929Tnq1CFlVgJwJfxm47p6prAlVjpNwpm3bp16Pf9KyNeM5mI\\\n",
       "NZZEfZ2+g7e399rlNACi3sMScAz6ego5XBk5lnWG+tKwfpj0i1XVEJ1Du4KdX3v9kd+uNNzhAwic\\\n",
       "+xdqDqDj/Ctw5h9bw95/vNdYElGXUKXjSMrK+mkAy7Fcfc4Jp9+a4LtwV8iGMK4FJCN9/fu7NzAD\\\n",
       "mMLCdcDGY3u0cWcXqGv/ZDbttT3HfMGfpjwM+Gfd5MzBDOG7j5MnTwa9hvyPu91u9/vZSIFoiei+\\\n",
       "uTUcUc+RpeP3qmoDtm+LpKwcz2kA0ZSxueUcmQkDwBQWLsgJt2YvVJlUG1zqhzyfl5MJRQA2Ab/y\\\n",
       "sPY1cuZguqLg/ltHY8uWLZg4cWLQ9zJjxgy0t7cbloekiRMn4tuvPgv6fDTvnSgVJCqgmTCqGAq8\\\n",
       "ELAEBF4leYACL0rCJF3Wrl2r/qNvDdb4rQEGfJlA2Qhmt9v9gj/t+46mjM3RMWQmDABTWKxBTqjd\\\n",
       "O0IFl183tUIogE3pahgZvfA95FqsUDozgkavDxYEav9lH2yNULiuP332URvYcj0gpQp9wJeIgGb7\\\n",
       "m8/ib1U1sMGDNHSgXVj9AtCjDYCABUcbQp9n5syZasOHdgi85IBDXRPocrn8GsH8t6PzzR+MpPzb\\\n",
       "22seiRKJO4GYUDxGzNx/62hgtS+rd2Fulm8dYOduIeo4mFLf+c9/4F20KYDT4wYU4LPGFoxDQcDa\\\n",
       "uxn/+iEOX3Yf+h+ux+lDXwAALvzBlICyjn7HkGEjLwk78kFfDtfuUtKdXUuI+iL9Prxy941oAxq5\\\n",
       "bq4kzxewRbN+7m9VNWhDBgBfpq8Daer9bH/zWbQLKzLRhpI8YNmj9xleQ78GUD8NQAaDczEXVZ3/\\\n",
       "k9MA1q5d2+33He2+x0TJjAGgCUUa8Mjhztpt4LTBo3Y7uPNyMvFCVTX+44Fq/N/OTmE9mwA88I17\\\n",
       "ebmqGq8t9A9CP2tsgVCAnJlPYNTfn8bAgQODdvOtXbsWuedfgY6WM7CXPxr2PWtnFMrPQP5Z/xxR\\\n",
       "stIHPt0JaLa/+Szeq6qFQDYanF1lXBnAhWuoUNQ/eVFka0KNO0ct927bU402ZEOBF984XWhDhnqN\\\n",
       "96pqATzrt70b0DUNYA7mqPM/5XxQo2kAMghkIEcUGgNAE4ok4NF2+b625xiw2pf10waP5+Vk4rPG\\\n",
       "FuRardje2AIogBsICCwvzM3CZ40tGJOXhXFnF+C1PcfQDqGWl19b6DuXDUCHAIZabaj/p/txXZiA\\\n",
       "bGj5QrTJZpMw9PseM9NHqShcwBdJALdtTzVEZ5A2ytGqZufkc9oMo5HJpUXqNbbtaYWABd84rWq2\\\n",
       "TwZ8CgCH0oySPN9+wAIW/OKRl/Dl3q8CzvkqXvXb+3sN1qiZPz1tEEhEwTEAJEMy0JNZORnUaYNH\\\n",
       "2e17rLO0C+H7C3Verm/Nnwww5Tk+a2wBDgPtQsADIKMzcNNeRxHAaY8bbUpgIKlnlKGM5b2yBEyp\\\n",
       "LpIATptF1AeJRqVVbVApryH/LMu9AOAU2UBDM64rLQw4/9md52hqbg5679ppAC6XK+Q0gFBTBTgW\\\n",
       "hsiHAaBJGJVuZcBjtCZQHndebtecP6Ark6aOcQH81gDef+todcaeXG8nR8LIIFDOB8zqbBD5rLEF\\\n",
       "Q602HPO41WMjGdGiz+oFe7/h1jmyBExmEcnauFBZRKPn9I0mcvxLBnwlXtlUoQ26tOfQBmQld/8E\\\n",
       "v3l2LQ4fPmJ4/avGX4xpV/8I7/71A/ztk12Gx4RrCIskCCYyAw6CjkEyDZLUDj7W79nbnaHI+tdo\\\n",
       "Ay7Af43dy1XV8ACwwhcsftnYAjd8ScMO+P4g7+vlqmq44fuXye2lxQHBW6SBHQc9E3VPJBmyUFk/\\\n",
       "3/pBCzLQhnTFY3ieN5fdhz3OTLXE7BTZALydz1qweuUf8e1h/87lGTNm4JILvodWZCATbfh877cB\\\n",
       "w+Mj2QOYGUACkuv7u6cwA2gS+qBPmzmLZk2gfL1RU4XM+u1ecp3f+V9b6HsuCwrGnV2Ar/e0AkL4\\\n",
       "1u/BV/aV2cPXFh5DG4S6llB2Gsvr+nXz6p4L9n7j0fVMZBbaIc7Asxh3890BQZM2i+YbsaI9Q/gA\\\n",
       "S675k0Gg0ykgp5Ip8GLNv/0G9z23HpWVlQC6RkEtWbQQgG/Zr34aQCTBH8BOXyKJAaBJaIM+fUAU\\\n",
       "qpQq6cvG+tfIUu55uZl+r3tq9W40ewWg+NYGyvNkoGsNoDbTJ7OAgC8olMe/WFUNrEbAGsRQpWx5\\\n",
       "f9qSNNf4EQXSBngTRhWrWTxZJo1mvEwkAdYoR6tfBlAuIrbCizRfXQBbtmxBWVmZ3zSAqzQNJkBX\\\n",
       "EHjy5MmIgj/9e2UGkMyMAaAJdafpIVyWUA5/lrt+aK/l7hw3/lljCy7VrRcEugYxG2UnsRrqvsIv\\\n",
       "V1UjXVG6MnmrETQLGW2Gk8hstIGQPqOnzeIB3R8vEyzYunn+07i58/kDVTXwlX8t8EJBGzLUQFMf\\\n",
       "1BmtHxw/6mxMmPnDiN831wAS+TAANBHtaBdtY0dPnlNm9NoANUDUr8kLFZBqAz05OkZmA7XP6bOD\\\n",
       "RBSaNhAKF+B1p2z65rL7UOXMAhA82Nq2pxqtyEYm2mBXPMi2evzmBkbzHuT5w2X4ujskmijVcCs4\\\n",
       "E9EObpZbxIXbBk0+L7eFk529knz8y8YWv3Oe/8C7OP+BdwEAXz05Db8sLVYbPbTPP7V6t7p38Hk5\\\n",
       "mUa3oG5pd3tpsdpNLMvEfsFjkK3v9LuAEJH/tmdyuzQAcds7eI8zE7K0GyzYkvcwubQI8x95Gs0e\\\n",
       "a0TbxBm9BynU9ncs/xJ1YQbQRIwyZOHKwdo1e0ajWdy63wFfcCYbPIzO+9qeY37PAzAsHwOB6xVf\\\n",
       "fqC6c6oY/EbRhJoFyMwgUaBwI11iHSitXec37ubwu/UA/tm5YNfQP64vCcvZg0ZBJ8u/RF0YAJqI\\\n",
       "UbNHqOBIBlg2zbH67JoNUMe2BBBdgZm2mePSzlEwHgDtEF1zBA3uQb5O7hiinTkoA0kHlJDdvZE0\\\n",
       "uRBR5OXRSEqvZ5cU42hDNc4u8R8avbmqBgJdDR36jmN5vmWP3mcYrG2uqkErsrG5qsYwgG1DNhxK\\\n",
       "M8u/RGGwBGxy2pEuM/71Q79ysAywPIC6M4fe7Z2l3Qtzs9TXysd+Wer7j+zohe+pZV6Z6fvqyWnI\\\n",
       "UhS0adYFGgVxPxs1FI7O3UX15Wv5XDwze+FK4kTkC6Qy0YZ2YVXLxfrSq/7n7W8+i3eratGKDLXR\\\n",
       "Y8KoYijo2m9Yfw25VZy2LC0H14rOc2qfC/YaSZa6Wf4lYgBI8N/2TbtWTgZYl+ZmBQ205Lq7r5ta\\\n",
       "Ddfiac+tP0+4AE5b/r1ds4ZQf+14zvbjekEyMxm0ba6q8Qug9IGWDKDakIHNVTWGpVft+rztbz7b\\\n",
       "meWTXzle9bh0uGCFB06RiTeX3afey7ib78aEUcXY48z0CySvKi2CQ2n2yyDK52SAJ4dLG60DJCIf\\\n",
       "loAp7LZv0ZxDvlbbHSy3f5PZO+3Yl1C7dIQaLt1TuF6QzEyWSNuF1a/8alSqdcMKAHDDis1VNWjr\\\n",
       "3KFDBof6cq6Ab7ePDLhwVWkRxt18N5YsWog2ZMCXz1Owx5kJbVV3255q9XWuzmyj/7q/Zw3XDMr3\\\n",
       "ITOBsTR9sHGEUhUDwBQXyS4Y8dhTV38OGbx92diCdMBwPaC2QUS/lZzcPi5cg0e8cb0gmUGwoEYG\\\n",
       "V/qt3oyGQ1vhQQfS0AEr3J2ZvVakY8mihRju8OCA06qu9dMGZNoOX8XvTwKjHP6NYBNGFXeu+bOj\\\n",
       "tTPbuG3PfZoGkLshg0CXsKIV/ruTBFtHGA02jlCqYgk4xcVa0gz3+mBr5rRr99oUIF1R/Hb7yBBA\\\n",
       "s1dgeOc4GO2YGbn2sEP3Ov21uF6PqHtCjUoxMu7mu3FdaaHfyJWrSougdA5wFupXiW+Q8x5npt9a\\\n",
       "v2Cl2cmlRchAGzLRhmmlBbh5/tMB17UrHgCWzrWCgaVd+V4EEDASxmhMTLTicQ6ivogBYIqLpVFi\\\n",
       "xr9+CKcQsHkR9PXBAkTt7L4MAbQLoQZq9986GumKArcFcCtQR8LI+5QBYobwv67+WtrOYgaBRJGb\\\n",
       "MKoYGWhTy6p6kQSI2qBwiK0RgBcWeJCBNoxytCITbcjQjWPRrwvctqcawx0e2BUPDh+tNmzckK+5\\\n",
       "rrRQXf9ndM6rOmcJAl0NIPFo+mDjCKUqRQghwh9GRhoaGuBwOOB0OpGXF+Ho+iQgy7FO4dvDVxHA\\\n",
       "wSenBT1WDmXWjnPRlovlXryKAOZ17vv71OrdeKGqWlZ+8EvNfsDh7ktbJm4DgM5RMKHWE3ZXpCVw\\\n",
       "omQjy6MOpVkNnCSjErE8Xu7aEemaOP253lx2H/Y4M2HrLCHLLmD5ewbakB7F+fXXkqVqo/dFJKXq\\\n",
       "93c0uAaQAsjMWhoAtwAuzc0yPE4GR4Avi7e9sQXo3KVDu7avvfPfGELxHwxt6zz/uNysiIIr7fq8\\\n",
       "0QvfQ5viyxKmx3kUjFZ39k0mSgbBhi4D8AvY5HMleQAamv0aRLRNGMGCNf0auj3OTAhY0AGoI1uO\\\n",
       "NkDdBs4DK5wiw3DNXbiGDNk0omi6jInIGEvAFECWjf+ltBjzSovxdVOr4bo7GRwBvgycrTOX3NZ5\\\n",
       "HNA1S9AG+G339tqeY3ArAILsABLpPd5eWhz3UTBG12FXMKUabWlTBml/q6rBe1W1hvP8jjYA8x95\\\n",
       "GsMdHijwoiTPN5RZjo0JRj8zcJSjFQq8GGJrAgCcXVLstw2cFZ6ga+7Claa15WKWbIlCYwBIAYzm\\\n",
       "+L225xieWr0bL3Y2a7xQVY1mr0CG8JV+AWBMXhYU3zSHgFmCNvhv9ybX+dl06wONGDV7yHsE0KON\\\n",
       "ID0xa5Cop2x/81k8uWghlixaGNV+vjJw8q3IsPhl0PRNEEcboO7Xqx3KHIxs5JANITfPfxqPLPo9\\\n",
       "mj1Wv2BOv5Yv2E4eoRoyuF6PKHJcAxgDM6wh0K6BUzN+nUEeAL9dOmSmzGjNXLC1dHJ9YKg1fEbH\\\n",
       "yPO1C9FVClYUrtUjU5Pr9ABEvQZu+5vP4m9VNVDg684NFkSFKheHOre+rKzdEk6/12+w57ojXNmY\\\n",
       "c/7MyQzf3+FwDSAFCAjWVvsyerkWKxo8bgy12nDa4wbgP9tPHm+0Vi7Y49qAMViQaDSc+eWqal9p\\\n",
       "WQAORUE7RMxr9djwQclOzs0TnX+ORrh9dCX/QcxQ5waGGrisf822PdVoDXIt+Zz8cyTrDMO9r1Bz\\\n",
       "/Djnj8yKASCp9Fk1GUzJzJ/T4wYU4LTHja90XcHdDbr0jR1GQZxR8Ojp/F1RoO4uEusOHmz4oGSn\\\n",
       "D7RC0We+tE0h0Yo2iAp1rQmjivF+1Ul0wIqSvNgDtHDvK5b3TZTMGABSYDkVCNiz97U9x9ACgY4o\\\n",
       "zxlNNi2abdisADo6fwfis4MHt4GjvizepUp9YBVN8KinDaLkmJdRjtaAwc5SqGv5mlLuUxtP9AFa\\\n",
       "qM/BqHwc7n3F8r6JkhmbQCigm1ffWSsbIf6ltFh9PtJzhtqBJJadPG6P4l4ixYYP6sui3b0jnHju\\\n",
       "cCEziH+rqkGVMwsCFuxxZsbl3vSNHaE+B1/5uGsHEiIKjk0gMUimRaShMnL65+KxFk6e47ycTHzZ\\\n",
       "2ALAF7SFagCJpCGEyKx6s1mhO9fSNqAAAmlwY2rpQADGjSJvLrsPVc5MpMGDqaUD1eeCNZnIP8t5\\\n",
       "gUYZRn0GMNi1iZLp+7unsARsEqHWt+nLp37Zu9XoVjAoz3n+A++qW73pr60vubIESxRcb5Yqu7Pu\\\n",
       "TmYAPbCiA1Z0IA2bq2rQBjsEAgdH+zKEFnTAgveqagE86zeTUGbwnCIb71bVwjd6IBtOt2//4aMN\\\n",
       "gfeg/4xkUMoGD6JALAGbRDQDjbXHRlLKjYgI3E9YW3Lt7Q7cWMrPRKmuO+XhcTffjatKi+CGFVC3\\\n",
       "dvOfKyiDu/eqalFkawLgBSAgYAmYBzhhVDEmjCqGAl/AJ2dP2UIMitba/uazaBdWZOr2IyYiH2YA\\\n",
       "TSDa4MovI7jaN3KlHb5hzdEEZzK4yhCB5V+93u7AZccvURd9ybe72UbtVmzXlRaqj3WVYLv26m32\\\n",
       "WLFo0e/Vsq3cKSTw2r7n3bDCCk/EswEjHWtDZFbMAJpALFm8+28djXRFUcfCRHvdNsU3oNlo3aE2\\\n",
       "A6fNOgbLzsUza8ct3oi6xKvBRLsVmzyvdv3duJvvxnWlhX4ZPP1OIXrjbr4bDyxagqmlA5GueAKe\\\n",
       "l+QsQrkDSjybXIhSETOAJhDr2rpIhjVHe119Bs5oHuDLVdV4bWHXteKZtYvH2BiiVBHNqJVQtNm7\\\n",
       "YOvvjLKLkczii3agc7AsJnf+IPJhAGgCsQY7kQxrjva6oYJD+Zx+dw82iRD1DKOdOkIFW5EEUdEM\\\n",
       "WI6k5Byvgc7c+YPIhwEgRSVeQVio4FA+p9/dg1k7ot4RLpiKNUAMN8zZ6DmjIFG/f3Ekex9z5w8i\\\n",
       "H64BpKjIzl0APd5Fqx/MzM5dop4XaXYv1Pq6cGsKww1zjnQ9oq/RIwOtUQx+loOlAfitGSQyG2YA\\\n",
       "qVsS0UXLzl2inhdJiTTc+rqSPAANwQPEcHsBy3Mse/S+sIGozABOGFUckBEMtcaPpWAyOwaAJtAT\\\n",
       "M/YSsR6PawCJel4sJVIZVKGhWc2yGWUUw+0FPO7myIY4Gw1+bkO2ei+hAjuWgsnsGACaQE9kzmJZ\\\n",
       "j9fdgJRrAIl6jjZQi2QtnRGjoKq7mbZQAVqwMrU+IxhKb+6sQtQXMQA0gb6WOYtHQNrbO4cQpbp4\\\n",
       "lETDjXiJZgRLqAAt2L1GEtRxDAyRDwNAE+hrmbN4BKSRBJEMEoki11MlUaPZgJurarBtT+j1fdHe\\\n",
       "a6SBnT54ZEBIZsUAkHpdPALSSIJINo0QRa43SqIycGsX1piyjUb3GmkGUx88shmEzIoBICWlSILI\\\n",
       "vlb6JjI7Gbhps27xEmkGUx88shmEzEoRQohE30SyamhogMPhgNPpRF5eXqJvx7RY6iVKHcFKsizV\\\n",
       "Ujzx+5uDoCkFaEu9RJTcgg2CjmZANBGFxwCQ+rRIdv/42aihcEBhqZcoBQTbZSTc7iNEFB2WgGPA\\\n",
       "FHLPG73wPTgh4ICibkFHREQUC35/swmE+iDtmj42chBRvHAdIVEXBoDU52jX9O1ech1HuBAlULRB\\\n",
       "U6jjEx2AceQLUReuAaSIRbIeLx64po+o74i2+SLU8Ylu5OA6QqIuKRkAPv7447j88suRlZWFfv36\\\n",
       "GR5z5MgR3HDDDcjOzkb//v3x61//Gi6Xq3dvNMn0Vrft/beO9mX+DEa69FYQSkQ+0QZNoY6fMKoY\\\n",
       "mWhDu7Bi+5vPxvtWwxp3892Y/8jTLP8SIUVLwC6XCzNmzMD48ePxxz/+MeB5j8eDadOmYcCAAdi2\\\n",
       "bRtqa2sxe/ZsCCGwfPnyBNxxcugL6/G4uwdR74p0hxBteXf+I08HPde2PfexDEvUB6RkAPjoo48C\\\n",
       "AFauXGn4/Pvvv4+9e/fi6NGjGDJkCADgmWeewZw5c/D444+btiMonL6wp3BfCEKJKJDR+jqjNX+x\\\n",
       "7LyR6DWERKkkJQPAcD755BOUlpaqwR8AXH311Whvb8fnn3+OSZMmGb6uvb0d7e3t6s8NDQ09fq/k\\\n",
       "ry8EoUQUyCiwMwoKY9lzmE0cRPFjygDwxIkTGDRokN9j+fn5sNvtOHHiRNDXLV68WM0uEhFRF6PA\\\n",
       "Lt777HLfXqL4SZoAcNGiRWGDr+3bt+PSSy+N6HyKogQ8JoQwfFx68MEHsWDBAvXnhoYGlJSURHQ9\\\n",
       "IqK+Lt4l1liyfb1xPiIzS5oA8M4778SsWbNCHnPOOedEdK7Bgwfj73//u99j9fX16OjoCMgMaqWn\\\n",
       "pyM9PT2ia1D3aQdBG3UCE1HPYImVyDySJgDs378/+vfvH5dzjR8/Ho8//jhqampQVFQEwNcYkp6e\\\n",
       "jksuuSQu16DuY6cvUWKwxEpkHkkTAEbjyJEjqKurw5EjR+DxeLBr1y4AwPDhw5GTk4OpU6figgsu\\\n",
       "wK233oqnn34adXV1+M1vfoN/+Zd/YQdwH8BOX6LEYImVyDwUIYRI9E3E25w5c/Dqq68GPP7hhx+i\\\n",
       "rKwMgC9I/OUvf4nNmzcjMzMTP/3pT/Fv//ZvUZV4uZk0ERFR8uH3d4oGgL2Ff4GIiIiSD7+/U3Qr\\\n",
       "OCIiIiIKjgEgERERkckwACQiIiIyGQaARERERCaTkmNgiIjIHOK9ewmRWTADSEREcbf9zWex7NH7\\\n",
       "sP3NZ3v0OtrdS4gocgwAiYgo7norMJswqhgOpZm7lxBFiSVgIiKKu2i2lYuljMvdS4i6hwEgERHF\\\n",
       "XTSBmTZbyGCOqHewBExERAnFMi5R7+NWcDHgVjJERETJh9/fzAASERERmQ4DQCIiIiKTYQBIRERE\\\n",
       "ZDIMAImIiIhMhgEgERERkckwACQiIiIyGQaARERERCbDAJCIiIjIZBgAEhEREZkMA0AiIiIik2EA\\\n",
       "SERERGQyDACJiIiITIYBIBEREZHJ2BJ9A8lMCAEAaGhoSPCdEBERUaTk97b8HjcjBoAxaGxsBACU\\\n",
       "lJQk+E6IiIgoWo2NjXA4HIm+jYRQhJnD3xh5vV4cP34cubm5UBQl0bcTsYaGBpSUlODo0aPIy8tL\\\n",
       "9O0kDX5u0eNn1j383LqHn1v3mPFzE0KgsbERQ4YMgcViztVwzADGwGKxoLi4ONG30W15eXmm+X/2\\\n",
       "eOLnFj1+Zt3Dz617+Ll1j9k+N7Nm/iRzhr1EREREJsYAkIiIiMhkGACaUHp6Oh555BGkp6cn+laS\\\n",
       "Cj+36PEz6x5+bt3Dz617+LmZE5tAiIiIiEyGGUAiIiIik2EASERERGQyDACJiIiITIYBIBEREZHJ\\\n",
       "MAA0iUOHDuEXv/gFhg0bhszMTJx77rl45JFH4HK5/I47cuQIbrjhBmRnZ6N///749a9/HXCM2Tz+\\\n",
       "+OO4/PLLkZWVhX79+hkew8/N2AsvvIBhw4YhIyMDl1xyCT766KNE31KfsnXrVtxwww0YMmQIFEXB\\\n",
       "hg0b/J4XQmDRokUYMmQIMjMzUVZWhj179iTmZvuQxYsXY9y4ccjNzcXAgQMxffp07Nu3z+8YfnaB\\\n",
       "XnzxRVx00UXqwOfx48fjL3/5i/o8PzNzYQBoEl999RW8Xi9WrFiBPXv2YNmyZXjppZfw29/+Vj3G\\\n",
       "4/Fg2rRpaG5uxrZt27BmzRr8+c9/xr333pvAO088l8uFGTNmYN68eYbP83Mz9sYbb+Cee+7BQw89\\\n",
       "hJ07d+KKK67AtddeiyNHjiT61vqM5uZmjB49Gs8995zh80899RSWLl2K5557Dtu3b8fgwYMxZcoU\\\n",
       "dR9ys6qsrMSvfvUrfPrpp9i0aRPcbjemTp2K5uZm9Rh+doGKi4uxZMkSfPbZZ/jss88wefJklJeX\\\n",
       "q0EePzOTEWRaTz31lBg2bJj683vvvScsFos4duyY+tjrr78u0tPThdPpTMQt9imvvPKKcDgcAY/z\\\n",
       "czP2gx/8QNxxxx1+j51//vli4cKFCbqjvg2AWL9+vfqz1+sVgwcPFkuWLFEfa2trEw6HQ7z00ksJ\\\n",
       "uMO+6+TJkwKAqKysFELws4tGfn6++K//+i9+ZibEDKCJOZ1OFBQUqD9/8sknKC0txZAhQ9THrr76\\\n",
       "arS3t+Pzzz9PxC0mBX5ugVwuFz7//HNMnTrV7/GpU6fi448/TtBdJZeDBw/ixIkTfp9heno6Jk6c\\\n",
       "yM9Qx+l0AoD63zN+duF5PB6sWbMGzc3NGD9+PD8zE2IAaFIHDhzA8uXLcccdd6iPnThxAoMGDfI7\\\n",
       "Lj8/H3a7HSdOnOjtW0wa/NwCnT59Gh6PJ+BzGTRokGk/k2jJz4mfYWhCCCxYsAATJkxAaWkpAH52\\\n",
       "oXz55ZfIyclBeno67rjjDqxfvx4XXHABPzMTYgCY5BYtWgRFUUL++uyzz/xec/z4cVxzzTWYMWMG\\\n",
       "/vmf/9nvOUVRAq4hhDB8PJl153MLxSyfW7T075+fSfT4GYZ255134osvvsDrr78e8Bw/u0AjR47E\\\n",
       "rl278Omnn2LevHmYPXs29u7dqz7Pz8w8bIm+AYrNnXfeiVmzZoU85pxzzlH/fPz4cUyaNAnjx4/H\\\n",
       "f/zHf/gdN3jwYPz973/3e6y+vh4dHR0B/ypMdtF+bqGY6XOLVP/+/WG1WgMyBydPnjTtZxKtwYMH\\\n",
       "A/Bls4qKitTH+Rl2ueuuu/A///M/2Lp1K4qLi9XH+dkFZ7fbMXz4cADApZdeiu3bt+PZZ5/FAw88\\\n",
       "AICfmZkwA5jk+vfvj/PPPz/kr4yMDADAsWPHUFZWhrFjx+KVV16BxeL/f/7x48ejqqoKNTU16mPv\\\n",
       "v/8+0tPTcckll/Tq++pp0Xxu4Zjpc4uU3W7HJZdcgk2bNvk9vmnTJlx++eUJuqvkMmzYMAwePNjv\\\n",
       "M3S5XKisrDT9ZyiEwJ133om33noLmzdvxrBhw/ye52cXOSEE2tvb+ZmZUcLaT6hXHTt2TAwfPlxM\\\n",
       "njxZVFdXi5qaGvWX5Ha7RWlpqbjqqqvEjh07xAcffCCKi4vFnXfemcA7T7zDhw+LnTt3ikcffVTk\\\n",
       "5OSInTt3ip07d4rGxkYhBD+3YNasWSPS0tLEH//4R7F3715xzz33iOzsbHHo0KFE31qf0djYqP59\\\n",
       "AiCWLl0qdu7cKQ4fPiyEEGLJkiXC4XCIt956S3z55ZfilltuEUVFRaKhoSHBd55Y8+bNEw6HQ2zZ\\\n",
       "ssXvv2UtLS3qMfzsAj344INi69at4uDBg+KLL74Qv/3tb4XFYhHvv/++EIKfmdkwADSJV155RQAw\\\n",
       "/KV1+PBhMW3aNJGZmSkKCgrEnXfeKdra2hJ0133D7NmzDT+3Dz/8UD2Gn5ux559/Xpx99tnCbreL\\\n",
       "sWPHqmM6yOfDDz80/Ls1e/ZsIYRvnMkjjzwiBg8eLNLT08WVV14pvvzyy8TedB8Q7L9lr7zyinoM\\\n",
       "P7tAt99+u/r/jwMGDBBXXXWVGvwJwc/MbBQhhOjFhCMRERERJRjXABIRERGZDANAIiIiIpNhAEhE\\\n",
       "RERkMgwAiYiIiEyGASARERGRyTAAJCIiIjIZBoBEREREJsMAkIiIiMhkGAASERERmQwDQCIiIiKT\\\n",
       "YQBIREREZDIMAImIiIhMhgEgERERkckwACQiIiIyGQaARERERCbDAJCIiIjIZBgAEhEREZkMA0Ai\\\n",
       "IiIik2EASERERGQyDACJiIiITIYBIBEREZHJMAAkIiIiMhkGgEREREQmwwCQiIiIyGQYABIRERGZ\\\n",
       "DANAIiIiIpNhAEhERERkMgwAiYiIiEyGASARERGRyTAAJCIiIjIZBoBEREREJvP/A8DGxr1yWCJ5\\\n",
       "AAAAAElFTkSuQmCC\\\n",
       "\"\n",
       "  frames[1] = \"data:image/png;base64,iVBORw0KGgoAAAANSUhEUgAAAoAAAAHgCAYAAAA10dzkAAAAOXRFWHRTb2Z0d2FyZQBNYXRwbG90\\\n",
       "bGliIHZlcnNpb24zLjYuMSwgaHR0cHM6Ly9tYXRwbG90bGliLm9yZy/av/WaAAAACXBIWXMAAA9h\\\n",
       "AAAPYQGoP6dpAAA6mUlEQVR4nO3dfXhU9Z3//9ckIZMAyQAmkERSYBEVm9YfIArUG4SvFPXnGre2\\\n",
       "jf1uCysg0sQWade7rs1Qu+L620pbkioKle3VLbFfK2mvb2k1K4VoNQqKSoRStYAIpNwIEwhhQpLz\\\n",
       "+2M4h5lJJiQkc5P5PB/XNVcyZ84MH4+5cl55f+5clmVZAgAAgDFS4t0AAAAAxBYBEAAAwDAEQAAA\\\n",
       "AMMQAAEAAAxDAAQAADAMARAAAMAwBEAAAADDEAABAAAMQwAEAAAwDAEQAADAMARAAAAAwxAAAQAA\\\n",
       "DEMABAAAMAwBEAAAwDAEQAAAAMMQAAEAAAxDAAQAADAMARAAAMAwBEAAAADDEAABAAAMQwAEAAAw\\\n",
       "DAEQAADAMARAAAAAwxAAAQAADEMABAAAMAwBEAAAwDAEQAAAAMMQAAEAAAxDAAQAADAMARAAAMAw\\\n",
       "BEAAAADDEAABAAAMQwAEAAAwDAEQAADAMARAAAAAwxAAAQAADEMABAAAMAwBEAAAwDAEQAAAAMMQ\\\n",
       "AAEAAAxDAAQAADAMARAAAMAwBEAAAADDEAABAAAMQwAEAAAwDAEQAADAMARAAAAAwxAAAQAADEMA\\\n",
       "BAAAMAwBEAAAwDAEQAAAAMMQAAEAAAxDAAQAADAMARAAAMAwBEAAAADDEAABAAAMkxbvBvRn7e3t\\\n",
       "2r9/v7KysuRyueLdHAAA0A2WZen48eMqKChQSoqZtTACYC/s379fhYWF8W4GAAA4D3v37tXIkSPj\\\n",
       "3Yy4IAD2QlZWlqTAD1B2dnacWwMAALqjsbFRhYWFzn3cRATAXrC7fbOzswmAAAD0MyYP3zKz4xsA\\\n",
       "AMBgBEAAAADDEAABAAAMQwAEAAAwDAEQMef1elVZWdnlOZWVlfJ6vbFpEAAAhmEWMGLK6/Vq6dKl\\\n",
       "zvPS0tIO51RWVqqsrCzkPQAAoO9QAUTMhIe/srKyDpXA8PC3dOlSAiAAAH2MAIiYCA9/tuAQGB7+\\\n",
       "bIRAAAD6lsuyLCvejeivGhsb5fF45PP5WAi6C5HCX7Dx48drx44dXZ5TXl5OEAQA9Br3byqAiIHc\\\n",
       "3NyIrxWpSJKc8Gc/7+nnAACA7iMAIupKS0tVUVHR4fgczdEKrVCJSiRJJSrRCq3QHM3pcG5FRUWn\\\n",
       "E0YAAEDPJW0AXLZsmSZPnqysrCwNHz5cxcXF2rlzZ8g5c+fOlcvlCnlMmTIlTi1ObuEhsEhFmqu5\\\n",
       "kqSFWqhqVWuhFkqS5mpuSCWQ8AcAQN9K2gC4adMmlZaWqq6uTjU1NWptbdWsWbPU1NQUct7s2bN1\\\n",
       "4MAB57F+/fo4tTj5BYfAetVrpVY6r3nkcb5fqZWqV70kwh8AANFgzCSQQ4cOafjw4dq0aZOuvfZa\\\n",
       "SYEK4LFjx1RdXX1en8kg0vNz2WWXOWP+qlUdEv588qlYxZICE0O2b98ejyYCAJIY9+8krgCG8/l8\\\n",
       "kqRhw4aFHN+4caOGDx+uiy++WAsWLNDBgwfj0bx+5d2a9aq88w5VzivRuzU9q5hWVlY64a9EJSHh\\\n",
       "TwpUAu0xgTt27DjnjiEAAKDnjKgAWpalW2+9VUePHtUrr7ziHH/uuec0ePBgjRo1Srt27dLDDz+s\\\n",
       "1tZWvfXWW3K73R0+x+/3y+/3O88bGxtVWFho3F8Qz5TeqcbDgaCcnTNcCyp/3q33Ba/zV6QirdAK\\\n",
       "5zWffCFh8B7dQzcwACAqqAAaUgEsKyvTe++9p7Vr14Yc/+pXv6qbb75ZRUVFuuWWW/SHP/xBf/3r\\\n",
       "X/X73/++089ZtmyZPB6P8ygsLIxF8xPGuzXr9UzpnSq45FJlDMpSxuDBurL49m69N3yR53rVa43W\\\n",
       "SAqM+StWsTMmcI3WOOFP6nzHEAAAcP6SvgJ4zz33qLq6WrW1tRozZsw5zx83bpzmz5+v+++/v8Nr\\\n",
       "plcA7cpfT6p+UuQdPqRAJTA47IU/D0YlEADQF6gAJnEF0LIslZWV6YUXXtCGDRu6Ff6OHDmivXv3\\\n",
       "Kj8/v9PX3W63srOzQx4mubL4dmXnDO921c926NChiK/ZYW/8+PEhz3v6OQAAoPuSNgCWlpbql7/8\\\n",
       "pX71q18pKytLDQ0NamhoUHNzsyTpxIkT+u53v6vXX39du3fv1saNG3XLLbcoJydHt912W5xbn5gu\\\n",
       "v+EmXVl8u96sfl7v1qx3uoTPNRHE6/WqvLw84usVFRXavn17p4tF29gGDgCAvpO0XcAul6vT488+\\\n",
       "+6zmzp2r5uZmFRcXa+vWrTp27Jjy8/N1/fXX65FHHun22D4TS8jB3cCS1Hj4oDIGZSk9M1NXFt+u\\\n",
       "y2+4KeJ7O9sTOLxbt7PuYsIfAKAvmXj/DpcW7wZEy7lybWZmpl588cUYtSZ52BVAuxv4zern1XLq\\\n",
       "pBoPH9Sb1c+fMwBKckJgZ2P67Od2CCT8AQDQ95K2AhgLyfYXxLs1651w11WQ6+37vF6vcnNzu5zQ\\\n",
       "UVlZqUOHDhH+AAB9Ltnu3+eDANgLyfADFBze3qx+vsMs3/MNhQAAJKpkuH/3VtJOAkH32KHPDnnh\\\n",
       "s3yDX+/MuzXrVTmvRJV33tHjXUEAAEB8EAANFxz6Lr/hJi2o/HlIpe/K4tuVMXiwWpqb9XTpv+hH\\\n",
       "X/1/9csHFzuvv1n9vE6dOKFTTcc7hMTuzhIGAACxRRdwLyR7Cdnu/j1x7FO1t7aGvPa/5n9Tb1Y/\\\n",
       "r4JLLtXud9+WLJeuvuPrIeHRnjGcMXiw0jMG0o0MAEgIyX7/7o6knQWM3rO7fzvzP6uflM787VC6\\\n",
       "uqrTc+xxhS3Nzd2aJQwAAGKDLmCECO62tbuHR/zDRR1PPBP+Gg8f1O9/+ninn2V3KV99x9fPawcR\\\n",
       "AAAQHXQB90IylZDt7t6WUyd16sQJZecMV8Ell2rn66/qkqlX68PNb6i1xR/x/d957v92+Cy6fAEA\\\n",
       "iSiZ7t/niy5gSDrb3ZsxKMup1r3886dktbfrL3+uVUpa1z8q9kSP4BBJly8AAImJAAhJoTt82KHt\\\n",
       "kx31+sufayVJ7W1tXb5/4y9WK21Auk41HZckZQweTJcvAAAJigAISXJCn72Uyyc76rXz9Vc14h8u\\\n",
       "ku/vf1dra4ta/ZG7gFtb/CFdxOkZA6n+AQCQoAiAcNjdwC///KnAXsqWpYO7/6asYTk6dfh49z/I\\\n",
       "5aL6BwBAAmMWMBxXFt8uV0qKrPb2wCxfl0uXTL06EOZcrm59hisl8CP1yY76aDYVAAD0AgEQjstv\\\n",
       "uEkz77zbCXHZF+Tq5m/dp8tvuElp6end+gw7PO58/dVoNhUAAPQCXcDowJ05SHJZId2455oEYktJ\\\n",
       "TVN7W6sGD7sgWs0DAAC9RAXQcOH79b5a9QtnJm/wJI7uBsD2tsCWcccPH9K7NevZDxgAgAREADSc\\\n",
       "PfHDnv0ryxX69YxLp13jdA13JficN6uf7/j5AAAg7giAhrO3e7O7e+1t266+4+sh5938rfu0ZO3v\\\n",
       "QhaEDg+EGYMH65KpV0sul9LS3bqy+PYOnw8AAOKPMYCGu/yGm0K6esPXAwx+7d2a9SFdwakDBoSs\\\n",
       "Ddh6+rT27/yLZFkamO0JeW9nnwcAAOKDCiA6iNRt+2b184HlYc4IHxfY2tKigksu7VDxoxsYAIDE\\\n",
       "QgBEB5G6ba8svl1p6W5JUkpamtpbW0PfaFna/e7bWlD585BKH93AAAAkFpdlBZV00CONjY3yeDzy\\\n",
       "+XzKzs6Od3Ni4ok7/jGw1l8EGYOyVPrztTFsEQAAPWPi/TscFUD0yCVTr5YrJUVZObnOMVdKii79\\\n",
       "wrWdTh4BAACJhwpgL5j8F8QzpXeq8fBBuVJSNPPOu5ncAQDoN0y+f9uoAOK82OP6CH8AAPQ/VAB7\\\n",
       "gb8gInu3Zr3erH5eVxbfTkAEACQU7t9UABElLP0CAEDiIgAiKlj6BQCAxEUXcC9QQgYAoP/h/k0F\\\n",
       "EAAAwDgEQAAAAMMQAAEAAAxDAAQAADAMARAAAMAwBEAAAADDEAAT1Ls16/VM6Z16t2Z9vJsCAACS\\\n",
       "DAEwQbGTBgAAiBYCYIJiJw0AABAt7ATSC6wkDgBA/8P9mwogAACAcQiAAAAAhiEAAgAAGCZpA+Cy\\\n",
       "Zcs0efJkZWVlafjw4SouLtbOnTtDzrEsS16vVwUFBcrMzNT06dP1/vvvx6nFAAAAsZG0AXDTpk0q\\\n",
       "LS1VXV2dampq1NraqlmzZqmpqck55/HHH9cTTzyhiooKbd68WXl5ebrhhht0/PjxOLYcAAAguoyZ\\\n",
       "BXzo0CENHz5cmzZt0rXXXivLslRQUKDFixfr/vvvlyT5/X6NGDFC//Ef/6GFCxee8zOZRQQAQP/D\\\n",
       "/TuJK4DhfD6fJGnYsGGSpF27dqmhoUGzZs1yznG73bruuuv02muvdfoZfr9fjY2NIQ8AAID+xogA\\\n",
       "aFmWlixZoquvvlpFRUWSpIaGBknSiBEjQs4dMWKE81q4ZcuWyePxOI/CwsLoNhwAACAKjAiAZWVl\\\n",
       "eu+997R27doOr7lcrpDnlmV1OGZ78MEH5fP5nMfevXuj0l4AAIBoSot3A6Ltnnvu0e9+9zvV1tZq\\\n",
       "5MiRzvG8vDxJgUpgfn6+c/zgwYMdqoI2t9stt9sd3QYDAABEWdJWAC3LUllZmV544QVt2LBBY8aM\\\n",
       "CXl9zJgxysvLU01NjXOspaVFmzZt0rRp02LdXAAAgJhJ2gpgaWmpfvWrX+m3v/2tsrKynHF9Ho9H\\\n",
       "mZmZcrlcWrx4sR599FGNGzdO48aN06OPPqqBAwfqa1/7WpxbDwAAED1JGwCffPJJSdL06dNDjj/7\\\n",
       "7LOaO3euJOm+++5Tc3OzvvnNb+ro0aO66qqr9NJLLykrKyvGrQUAAIgdY9YBjAbWEQIAoP/h/p3E\\\n",
       "YwABAADQOQIgAACAYQiAAAAAhiEAAgAAGIYACAAAYBgCIAAAgGEIgAAAAIYhAAIAABiGAAgAAGAY\\\n",
       "AiAAAIBhCIAAAACGIQACAAAYhgAIAABgGAIgAACAYQiAAAAAhiEAAgAAGIYACAAAYBgCIAAAgGEI\\\n",
       "gAAAAIYhAAIAABiGAAgAAGAYAiAAAIBhCIAAAACGIQACAAAYhgAIAABgGAIgAACAYQiAAAAAhiEA\\\n",
       "AgAAGIYACAAAYBgCIAAAgGEIgAAAAIYhAAIAABiGAAgAAGAYAiAAAIBhCIAAAACGIQACAAAYhgAI\\\n",
       "AABgGAIgAACAYQiAAAAAhiEAAgAAGIYACAAAYBgCIAAAgGGSNgDW1tbqlltuUUFBgVwul6qrq0Ne\\\n",
       "nzt3rlwuV8hjypQp8WksAABADCVtAGxqatLll1+uioqKiOfMnj1bBw4ccB7r16+PYQsBAADiIy3e\\\n",
       "DYiWG2+8UTfeeGOX57jdbuXl5cWoRQAAAIkhaSuA3bFx40YNHz5cF198sRYsWKCDBw92eb7f71dj\\\n",
       "Y2PIAwAAoL8xNgDeeOON+u///m9t2LBBP/rRj7R582bNmDFDfr8/4nuWLVsmj8fjPAoLC2PYYgAA\\\n",
       "gL7hsizLincjos3lcmndunUqLi6OeM6BAwc0atQoVVVV6Z/+6Z86Pcfv94cExMbGRhUWFsrn8yk7\\\n",
       "O7uvmw0AAKKgsbFRHo/H6Pt30o4B7Kn8/HyNGjVKH3zwQcRz3G633G53DFsFAADQ94ztAg535MgR\\\n",
       "7d27V/n5+fFuCgAAQFQlbQXwxIkT+vDDD53nu3bt0jvvvKNhw4Zp2LBh8nq9+tKXvqT8/Hzt3r1b\\\n",
       "Dz30kHJycnTbbbfFsdUAAADRl7QVwC1btmjChAmaMGGCJGnJkiWaMGGCvv/97ys1NVXbtm3Trbfe\\\n",
       "qosvvlhz5szRxRdfrNdff11ZWVlxbnniOVpVpQ9mzNTRqqp4NwUAAPQBIyaBRIspg0g/mDFTrfv3\\\n",
       "K62gQOM2vBzv5gAA0Cum3L+7krQVQPSdnLsWKK2gQDl3LYh3UwAAQB+gAtgL/AUBAED/w/2bCiAA\\\n",
       "AIBxCIAAAACGIQACAAAYhgAIAABgGAIgAACAYQiAAAAAhiEAAgAAGIYACAAAYBgCIAAAgGEIgAAA\\\n",
       "AIYhAAIAABiGAAgAAGAYAiAAAIBhCIAAAACGIQACAAAYhgAIAABgGAIgAACAYQiAAAAAhiEAAgAA\\\n",
       "GIYACAAAYBgCIAAAgGEIgAAAAIYhAAIAABiGAAgAAGAYAiAAAIBhCIA4J6/Xq8rKyi7PqayslNfr\\\n",
       "jU2DAABAr6TFuwFIbF6vV0uXLnWel5aWdjinsrJSZWVlIe8BAACJiwogIgoPf2VlZR0qgeHhb+nS\\\n",
       "pQRAAAASHAEQnQoPf7bgEBge/myEQAAAEpvLsiwr3o3orxobG+XxeOTz+ZSdnR3v5vSZSOEv2Pjx\\\n",
       "47Vjx44uzykvLycIAgASTrLev3uCCiB0tKpKH8yYqaNVVZKk3NzciOcWqUiSnPBnP+9MV58DAADi\\\n",
       "hwAIHX76GbXu36/DTz8jKTDR4/vjLu5w3hzN0QqtUIlKJEklKtEKrdAczelwbkVFRacTRgAAQPwR\\\n",
       "AKGcuxYoraBAOXctkBSoCH5t6FA9PGqUc06RijRXcyVJC7VQ1arWQi2UJM3V3JBKIOEPAIDERgCE\\\n",
       "hpaUaNyGlzW0JFDZO/z0M2r3+fT1fxiriooKSVK96rVSK533eORxvl+plapXvSTCHwAA/QEBEB0E\\\n",
       "VwRLS0s1fvx4SVKVquSTL+Rcn3yqUmDs4Pjx4wl/AAD0AwRAdBBcEaysrHQmfJSoJKTyJwUqgfaY\\\n",
       "wB07dpxzxxAAABB/BEBEFLzOX5GKnDF/kkIqgQu10BkD2Nli0QAAILEQANGp8EWe61WvNVojKTDm\\\n",
       "r1jFzpjANVrjjAGUCIEAACQ6FoLuhWRdSDLSDh9SoBIYHPbCnwdjQggAIBEl6/27J5K2AlhbW6tb\\\n",
       "brlFBQUFcrlcqq6uDnndsix5vV4VFBQoMzNT06dP1/vvvx+fxiaYQ4cORXzNDnv2xJBI4e9cnwMA\\\n",
       "AOInaQNgU1OTLr/8cmcZk3CPP/64nnjiCVVUVGjz5s3Ky8vTDTfcoOPHj8e4pYnH6/WqvLw84usV\\\n",
       "FRXavn17xGsrsQ0cAAAJzTKAJGvdunXO8/b2disvL8967LHHnGOnTp2yPB6P9dRTT3X7c30+nyXJ\\\n",
       "8vl8fdncuPl07Vrrr9fPsD5du9ayLMsqLy+3JIU8KioqQt5TUVHR4Zzy8vI4tB4AgO5Jtvv3+Uja\\\n",
       "CmBXdu3apYaGBs2aNcs55na7dd111+m1116LY8viK3xLuPBKYGdj+kpLS0MqgVT+AABIfGnxbkA8\\\n",
       "NDQ0SJJGjBgRcnzEiBHas2dPxPf5/X75/X7neWNjY3QaGCVHq6p0+OlnnC3fDj/9jAZOmKCTW7cq\\\n",
       "564FyrlrQcjrkpwwl5ubG3FCh3380KFDhD8AAPoBIwOgzeVyhTy3LKvDsWDLli3T0qVLo92sXgkO\\\n",
       "efbWbvbxhkd+KLW1ORW+1v371bh/v6RAGAzeDi5Yd0Ids30BAOg/jOwCzsvLk3S2Emg7ePBgh6pg\\\n",
       "sAcffFA+n8957N27N6rtPB/B3bhHq6r0wYyZTihUW5vkcqm9qUlpw4adfdOZY0erquLXcAAAEDNG\\\n",
       "BsAxY8YoLy9PNTU1zrGWlhZt2rRJ06ZNi/g+t9ut7OzskEeiCd7HNzgM2sdTsrPV7vPpVP2Z5Vtc\\\n",
       "LudYeGgEAADJKWm7gE+cOKEPP/zQeb5r1y698847GjZsmD7zmc9o8eLFevTRRzVu3DiNGzdOjz76\\\n",
       "qAYOHKivfe1rcWx17w0tKQnpxg0e09fe1CQraAyjJCk1VZKU4vF0CI2ddQcDAID+L2kD4JYtW3T9\\\n",
       "9dc7z5csWSJJmjNnjtasWaP77rtPzc3N+uY3v6mjR4/qqquu0ksvvaSsrKx4NbnP2QHu8NPPqO3T\\\n",
       "T2WdOtXxpLY2tft8SisoCDk/eCIIAABILkkbAKdPny6ri13uXC6XvF5vUs5aDZ4IcnD5j9Xu80U+\\\n",
       "OTVVam1V26ef0u0LAIAh2Au4FxJ1L8EPZsxU6/79SvF4zoa/lBSpvb3L96V4PEoZNEit+/crraBA\\\n",
       "4za8HIPWAgAQW4l6/44lIyeBJLucuxaEhj/pnOFPktp9Pg2cMMGZRAIAAJITATAJDS0pUcqgQef1\\\n",
       "3sb16zusIQgAAJILATBJ2VXAHrMsZ6FoAACQnAiA/dS51usbWlKiS96okwYM6NHn2svBAACA5EUA\\\n",
       "7KeC1+uzhYfCo1VV0unT3f7MjKIiSdLB5T9mRjAAAEmMANhPBe/4YbNDYcMjPzy7/Vs3uTIzdWrH\\\n",
       "DrX7fM6uIAAAIDkRAPupoSUlGrfh5ZDJGjl3LQis69fWpoZHfqiBEyZILte5P2zAgMAi0W1tzqGQ\\\n",
       "vYIBAEBSIQAmkaElJcqePTvwpK1NJ7duVfZNN537jadPS2HLQZ7asSMKLQQAAImAAJhkTm7dGvgm\\\n",
       "NVU5dy04+7wraWc2hAmqFjpBEgAAJB0CYJKxxwbmPfxvGlpSEugG7ozLJblccmVkKPuLX1RaQYGy\\\n",
       "b7op8F5vuS780X/GtuEAACBm2AquFxJ1K5mjVVU6uPzHzvN2n09yuZSSnR26O8iZ8YLB6wUOv3cx\\\n",
       "i0ADAJJaot6/Y4kKYBI6/PQzzmxe6cwev9nZGn7vYmXffLOUmipXZmZg0kdqqiQx+xcAAIOkxbsB\\\n",
       "6Hs5dy3QweU/luX3O8fafT41LP2BUrKzlffwv0kKBEV7GRm7Ysgi0AAAJD8qgEnI3gUkddiws12+\\\n",
       "qamSZQWC4CM/lKSQZWRSBg2i+xcAEDVer1eVlZVdnlNZWSmv1xubBhmOCmASy7lrgQ4//YwGTpig\\\n",
       "E6++KqulRVZzs9TWpoPLf+yEveBdRQiAAIC+5vV6tXTpUud5aWlph3MqKytVVlYW8h5EDxXAJGYv\\\n",
       "Fn3i1VcDlUDL6nRh6M52FQEAoC+Eh7+ysrIOlcDw8Ld06VICYJRRATSI5fcHQmBqqobfu9g5PrSk\\\n",
       "hMofAKDPhYc/mx32SktLO4Q/m/0+gmB0sAxML/SXaeT2vsADJ0zQya1blXPXAgIfACCqIoW/YOPH\\\n",
       "j9eOc+w8VV5e3uchsL/cv6OJLuAkdLSqSh/MmKmjVVWSznYFX/ij/+ywfzAAAD3x652/1qznZ+nX\\\n",
       "O38tKfLkjtzc3IifUaQiSXLCn/28M119Ds4fATAJBU/q6K7w0AgAQGdWbVulA00HtGrbKqfK19m4\\\n",
       "vtLSUlVUVHR4/xzN0QqtUIkCxYgSlWiFVmiO5nQ4t6KiotMJI+g9AmASOp9JHecTGgEA5pn/ufnK\\\n",
       "H5Qvz0bPOSd3hCtSkeZqriRpoRaqWtVaqIWSpLmaG1IJJPxFFwEwCdldvj3p6mUmMACgO75yyVc0\\\n",
       "rX6anq98vsNrwSGws8kd9arXSq10nnt0divSlVqpetVLIvzFApNAeoFBpAAA0/TF5I5qVYeEP598\\\n",
       "Klax897t27f3SVsj4f5NBRAAAPRAbyd3lKgkJPxJgUqgPSZwx44d5+xKRu8RAAEAQLf1dHLHVbrK\\\n",
       "OadIRc6YPylQ+bMt1EInMHZnPCF6hwAIAAB6JDwERprcsU7r9IbecM6rV73WaI2kwJi/YhU7YwLX\\\n",
       "aI0zBlAiBEYbYwB7gTEEAACTBU/0KFFJSHVvndbpp/ppp+8rUlFI2At/HiwaE0K4f1MBBAAA56m0\\\n",
       "tFTjx4+XJFWpKqRLN/j7cHbYs98bKfxJ0qFDh/qiqQhDAAQAAOelsrLSmfARPrljruZ2urizraKi\\\n",
       "Qtu3b+90PKEtGtvAIYAACAAAeiy4+zfS5I5IITC4WzfSpBLCX3QRAAEAQI+EL/Lc1eSO7ggPgYS/\\\n",
       "6GMSSC8k+iDSo1VVOvz0M8q5a0GPdgUBACCSznb4sPV2ckdlZaUOHToU9fCX6PfvWKACmMTY3xcA\\\n",
       "cL5+WbdHX3hsg35Ztyfk2GPr3oz4nt5O7igtLXXCX2f/PvoOATCJsb8vACCSSAHLPv6fL+7UvmPN\\\n",
       "enLjR85rT278SKlXfEUjZ34j4uf21eSOJzd+1OHfR98hACaxoSUlGrfh5Q7dv0erqvTBjJk6WlUV\\\n",
       "p5YBAOItUsCyj0vShUMytWj6WOe1RdPH6sIhmVr2wx+ovLy8w2d2Z3LH7aW3d6uL1/63gv999J20\\\n",
       "eDcAsRfcNczYQAAw06LpY/Xkxo86BKxJo4aqwdeszwwbqCNNLXpz16fOef88ZZT+ecqowIlTvJKk\\\n",
       "pUuXSup8TJ/93B4z2JPJHSH/FvocAdBAOXctcCaHAADMFClgvbXnqNos6f39PrVZcqqBdqUwODTW\\\n",
       "ZFyr2+Z9W0MLjuu3I36r3J25+solXwn5PDsExmJyB7qPWcC9wCwiAECy+WXdHj258SNNGjVUv39v\\\n",
       "v1I8dUq/YKNSj89UyvFpOtZ8WhcOyZQUCIcXDsnUoIse04GmA8oflK+Xbn8pvv8B3cD9mzGAAAAY\\\n",
       "p6sJIHaF76d3TNDSW4uUkbtJKenH1Jb1snzNpzUkc4AWTR8bMkZv/ufmK39QvuZ/bn6c/ovQU1QA\\\n",
       "e4G/IAAA/dEXHtvgVO/+/MAMJ/h92tSi5tNtyhyQqmGD0rVo+lj95M3/0snMGrU1j1LaoL/Kckmz\\\n",
       "C/5FP5q9KN7/GeeN+zcVQAAAjBM+w9ae+dt8uk2S1Hy6TfuONesnb/6XLM8GWW2DlJb9rlxpzUpJ\\\n",
       "bdZLDT/T/bX3x/M/Ab1kbAD0er1yuVwhj7y8vHg3CwCAmFs0fayGZA5wng9IccklqXnw/5VfR5SS\\\n",
       "sU8uV+A1y5LkktbvWq9f7/x1XNqL3jM2AErSZz/7WR04cMB5bNu2Ld5Nirr62n36xUN/Vn3tvng3\\\n",
       "BQAQJ3bF7z9f3KkvPLZBkjTIfXZhkNPtlixJlssvSXK5AsHPsgLf68zgsVXbVsW45egrRgfAtLQ0\\\n",
       "5eXlOY/c3Nx4Nynq3v7jbh3/1K+3/7g73k0BAMTJpFFDleqSGk+d1r5jzfr332/XBYPSQ87JKFgr\\\n",
       "l6td0tngZwfBtlMXyjo9pMtJH2zlltiMDoAffPCBCgoKNGbMGJWUlOhvf/tbl+f7/X41NjaGPPqb\\\n",
       "ibNHK2uYWxNnj453UwAAcWKv9dd+ppLXfLpd7+3zOa8PGFIXGPN3ptvX/mp/7xrwqU58+IAerRoS\\\n",
       "MeCxlVtiMzYAXnXVVfrFL36hF198Uc8884waGho0bdo0HTlyJOJ7li1bJo/H4zwKCwtj2OK+UXTt\\\n",
       "hfrGo19Q0bUXxrspAIAY6KwSt2j6WKW6Op6bUbBWgy99QO686pDQF87latWAIXU6XfCIlm5c1WkI\\\n",
       "ZCu3xMYyMGc0NTVp7Nixuu+++7RkyZJOz/H7/fL7/c7zxsZGFRYWGj2NHACQ2MKXfLF9a+1W/e7d\\\n",
       "/SHnDr70Qblc544FliVZbZlKSWtWe8sQDTmyNOSzEx3LwBhcAQw3aNAgfe5zn9MHH3wQ8Ry3263s\\\n",
       "7OyQBwAAiSxSJe6tPUc7nNt+qkDnKgs54wEltbcMUcuR6VT5+iH2Aj7D7/drx44duuaaa+LdFAAA\\\n",
       "+kykPX8njRrq7PNrc6U2ddn1a7Msl1qbLpZ//x3yBC0fg/7D2Argd7/7XW3atEm7du3SG2+8odtv\\\n",
       "v12NjY2aM2dOvJsGAEDU1f71kPP95y/0KNUltTWPcpZ76YrLZSl14B55MgfoWPNp/eTN/9Ks52fp\\\n",
       "1zt/zezffsLYCuAnn3yiO+64Q4cPH1Zubq6mTJmiuro6jRrV8a8kAACSlUvSx5+eVJslZWTuCV3w\\\n",
       "2XJJLstZ/kWSrNNDJJd0aUaxPpI0JHOA0i/YpANNB7Vq2yo1fZjjzP7trPKIxGBsAKyqqop3EwAA\\\n",
       "6FP2nr6Lpo/tMnzZ1Tl7TWdf82lJUsuR6UrPfVEuSf5DX9TpY1M0YEid0i/YKFeKX660ZrlSXMo+\\\n",
       "5NX2Jr+aT5/WkMwB+vYVC7Vq2yrN/9x8tYwc67QBicvYAAgAQLIJXnsvUgD8Zd0ePVxdL0tSir3D\\\n",
       "h6TMAalqPjZFp49N6fR9rU0Xa7DnE7maZmjfsWZFGioYacwhEouxYwABAEg23Vl778mNH9k7uTkL\\\n",
       "QUvSDZeN0JDMAUoJS3bpF2xUSvoxXXDBAW2Zs1HfvnKOLhySqc+dGTd47cW5WrVtlQ40HWBruH6E\\\n",
       "AAgAQJL45ymj9OcHZnSowAVPzFg0fayGZA4IqeB9/kKP3tpzVMeaTzvHh2QOUKor0C3sah2qb1+x\\\n",
       "MOTfONLUojYrsJzM/M/NV/6g/C63hkNiYSHoXmAhSQBAf9DZYtC/rNuj8t/Wq82SUzV8cuNHmjRq\\\n",
       "qN7ac9SpIkYaU9jd8YaJiPs3AbBX+AECAPQHkcJafw5xvcH9m0kgAAAYiwkb5mIMIAAASS54djAg\\\n",
       "EQABAOjXurPzRndmB8MsjAHsBcYQAADirbMJHuga928qgAAA9GtU93A+qAD2An9BAADQ/3D/pgII\\\n",
       "AABgHAIgAABJoDuTQQAbARAAgCTAUi/oCQIgAABJIHwyCBVBdIVJIL3AIFIAQKKa/NMf6GRmjQY2\\\n",
       "36DN3/p+vJuTULh/sxUcAABJKf2CTTrVekzpAzfFuylIQHQBAwDQD52ri/fbVyxU/qB8ffuKhTFu\\\n",
       "GfoDuoB7gRIyACBe2AHk/HH/pgIIAEC/xA4g6A0qgL3AXxAAAPQ/3L+pAAIAABiHAAgAAGAYAiAA\\\n",
       "AP3B5tXS8qLAV6CXCIAAAPQHry6XfHsDX4FeIgACANAfXH2v5CkMfAV6iZ1AAADoDybPCzyAPkAF\\\n",
       "EAAAwDAEQAAAAMMQAAEAAAxDAAQAADAMARAAAMAwBEAAAADDEAABAAAMQwAEAAAwDAEQAADAMARA\\\n",
       "AAAAwxAAAQAADEMABAAAMAwBEAAAwDAEQAAAAMMQAAEAAAxjfAD82c9+pjFjxigjI0OTJk3SK6+8\\\n",
       "Eu8mAQAARJXRAfC5557T4sWL9b3vfU9bt27VNddcoxtvvFEff/xxvJsGAAAQNUYHwCeeeELz5s3T\\\n",
       "/PnzNX78eP34xz9WYWGhnnzyyXg3DQCQKDavlpYXBb4CScLYANjS0qK33npLs2bNCjk+a9Ysvfba\\\n",
       "a52+x+/3q7GxMeQBAEhyry6XfHsDX4EkYWwAPHz4sNra2jRixIiQ4yNGjFBDQ0On71m2bJk8Ho/z\\\n",
       "KCwsjEVTAQDxdPW9kqcw8BVIEsYGQJvL5Qp5bllWh2O2Bx98UD6fz3ns3bs3Fk0EAMTT5HnSvfWB\\\n",
       "r0CSSIt3A+IlJydHqampHap9Bw8e7FAVtLndbrnd7lg0DwAAIGqMrQCmp6dr0qRJqqmpCTleU1Oj\\\n",
       "adOmxalVAAAA0WdsBVCSlixZoq9//eu64oorNHXqVD399NP6+OOPdffdd8e7aQAAAFFjdAD86le/\\\n",
       "qiNHjugHP/iBDhw4oKKiIq1fv16jRo2Kd9MAAACixmVZlhXvRvRXjY2N8ng88vl8ys7OjndzAABA\\\n",
       "N3D/NngMIAAAgKkIgAAAAIYhAAIAABiGAAgAAGAYAiAAAIBhCIAAAACGIQCi27xeryorK7s8p7Ky\\\n",
       "Ul6vNzYNAgAA58XohaDRfV6vV0uXLnWel5aWdjinsrJSZWVlIe8BAACJhwogzik8/JWVlXWoBIaH\\\n",
       "v6VLlxIAAQBIUARAdCk8/NmCQ2B4+LMRAgEASExsBdcLyb6VTKTwF2z8+PHasWNHl+eUl5cTBAEA\\\n",
       "CSPZ79/dQQUQEeXm5kZ8rUhFkuSEP/t5Tz8HAADEHgEQEZWWlqqioqLD8TmaoxVaoRKVSJJKVKIV\\\n",
       "WqE5mtPh3IqKik4njAAAgPihC7gXTCkhB4/xK1KRVmiF85pPPnnkcZ7fo3tUr3pJhD8AQGIy5f7d\\\n",
       "FSqAOKfgSmC96rVSK53XgsPfSq0k/AEA0A8QANEtpaWlGj9+vCSpSlXyyRfyuk8+ValKUmBiCOEP\\\n",
       "QKJiUXuAhaDRTZWVlc6EjxKVhFT+pEAlsEQlqlKVduzYocrKSkIggITDovZAABVAnFP4GMCFWui8\\\n",
       "FlwJXKiFzmzgzhaLBoB4YlF74CwCILoU/suwXvVaozWSAmP+ilXsjAlcozXOGECJEAggcbCoPRCK\\\n",
       "WcC9kOyziCL9MpQClcDgsBf+PBgTQgDEE4vaI1yy37+7gwogIjp06FDE1+ywZ08MiRT+zvU5ABBt\\\n",
       "LGoPdEQARERer1fl5eURX6+oqND27ds7XSzaxl/MAOKNRe2BjugC7gVTSsjf/JclenLN8pBj4b8M\\\n",
       "O+suJvwBSCQsag+bKffvrlABxDlNyf+Sbpz0Ded5Z78Mw//CJvwBiJvNq6XlRYGvQVjUHjiLCmAv\\\n",
       "JMpfEPW1+/T2H3dr4uzRKrr2wqh9ft2B3+izV4zt8pdhZWWlDh06RPgDED/LiyTfXslTKN3bcXzy\\\n",
       "ZZdd5oz5q1Z1SPjzyadiFUsKjHHevn17TJqM2EqU+3c8sRB0Enj7j7t1/FO/3v7j7qgEwKJrL1TR\\\n",
       "tRfqG/rCOc/lL2UAcXf1vdKrywNfw7CoPRBAF3ASmDh7tLKGuTVx9uh4NwUA4m/yvEDlb/K8kMMs\\\n",
       "ag+cRQUwCdgVus4Edw9L6vT7aFQNASCRVN73v1X2//3KeW4vaj9Xc7VSK1WlKpWoRAu1sNNF7SV6\\\n",
       "OJBcGAPYC/1hDMEvHvqzjn/qV9YwtyR1+v3E2aMJgwDib/Pqs123YdW73mBRe4TrD/fvaKMLOMnl\\\n",
       "jR0iuaQmX4uaj5+We2CaJs4eHdJtHDyGEADi5tXlgckbry4/97ndcWY28KF3Xox4Covaw1QEwH6o\\\n",
       "vnaffvHQn1Vfu++cxxs+OiZZUnubpdbT7UrPSD07qePRL6jo2gsZQwggMVx9b2DmbieTNyRFXN4l\\\n",
       "ojOB0nvZ31jUHgjDGMB+KLxiZ3ffhh+vq/5Iba3tIe89ftSvVUtqlZ2bqUMfH1dKiksD3KmaUjyW\\\n",
       "7l8A8TV5Xtddv8EVwu50EQfNBvaeOT98T+Dgbl37K4vawwSMAeyFeI0hCJ7YYYc+u4JXV/2Rc57/\\\n",
       "ZGv3P9QlXXfHJYRAAImrD8YIer1eJwRGGtMXPGaQ8JecGANIAOyVRPgBCl8E2p70IZeUlpai1tZ2\\\n",
       "qZv/h90D05SekcpkEABJzev1Kjc3l0XtDZYI9+94IwD2QiL+ANXX7lNt1U5Z7ec+N5x7YJr8J1uV\\\n",
       "Ncytbzx67kWfAaBfiNLsYvRfiXj/jjXGACYRuxp40aQR+mDL37td+bMNyEhVy6nWwMxhAEgEweFN\\\n",
       "kl5+RHJJmvFw5DAX/p71/ypZbYGvEiEQEAEwKdjBr+VUm/wnW3Xi2N+VNiBFrS09KwOe+NQv6czM\\\n",
       "YQBIBOFLw5w6evb45HmdV/fC32O1nf3a3QkkQJJjGZgkYE8EkSRXimS1S6lpKXIP7Fm+T0l1sRwM\\\n",
       "gMSxebXkPyENGCg1HZFOHpHSBkqZQ0Mrgr69ga+24OVk7O+Lbu96iRnAMFQAk0DwTh5SIBDmjR2i\\\n",
       "D9/6e7c/wz0wrculYMInmwBA1L26PFDxc6WereLZIc6u7rX5Q78+P096f5302dvOVvqo+AEdUAFM\\\n",
       "AsGLOtvfN3x0rMcTQeqqP+qwuLSN3UIARF34Qs929e6zt0kZQ89W/oK7eNMCW1s6X99fFwiL76/r\\\n",
       "+cLRgEGYBdwLiTyLqL52n16p+qva23v4vzfCeoBUAAFE3fKiQLDzFEr3Rt6SLaTKN2paIAgWXiV9\\\n",
       "9HKgy7j9dKDbONUdqCCe6/NgnES+f8eKsRXA0aNHy+VyhTweeOCBeDerT9hhrcfhT5IsdajyEf4A\\\n",
       "xER3toL7j9FS/W8CVb7656XffycQ+uqfl5qPBsKfK1U6fTLQLexKDYRDACGMHgP4gx/8QAsWLHCe\\\n",
       "Dx48OI6t6b3w2cC23FFZ+sqDk7VqSa38J1vlckmWJQ0e5pZLUt7YIfr4/SNqO92u1AEpHSaBBHf/\\\n",
       "EgABRE13toJrPhp20Do7Mzj4mFxnvm2T9r7Rh40EkoPRATArK0t5eXnxbkafsYOae2CaMxs4a5hb\\\n",
       "X3lwsjO2z54Z7D/ZKpfUrQWfwyeZAEBcFF4l+T7RORc5tQdAp7qlgRcEKoosBg2EMHYM4OjRo+X3\\\n",
       "+9XS0qLCwkJ9+ctf1r/+678qPT2925+RSGMI6mv3OfsATykeK+nsbOCGj445VUF7mZfg1+jaBZDw\\\n",
       "np4u7d/as/dkDj27YHR3xxfCCIl0/44XYyuA3/72tzVx4kQNHTpUb775ph588EHt2rVLq1ativge\\\n",
       "v98vv9/vPG9sbIxFU7vl7T/udgKeHeaC9wZ2D0xzwp89W9juEv7z//mAMX4AEkd4tW7z6p6HP7kC\\\n",
       "3cUv/dvZSSIS6wACZyTVJBCv19thYkf4Y8uWLZKke++9V9ddd50+//nPa/78+Xrqqae0evVqHTly\\\n",
       "JOLnL1u2TB6Px3kUFhbG6j/tnCbOHt3pIs728SnFY52lYsK1traHLPFSX7tPv3jozxGXhAGAqArf\\\n",
       "ycP+2iNnOrdOnwx81ocvByp/dP8CkpKsC/jw4cM6fPhwl+eMHj1aGRkZHY7v27dPI0eOVF1dna66\\\n",
       "qvMZY51VAAsLC/ttCdmeNBLeFWxXDbOGubs1RhAA+lRnFcDfLzm/z0oZEJgZnDlUun93nzYT/Rdd\\\n",
       "wEnWBZyTk6OcnJzzeu/WrYHuhfz8/IjnuN1uud3u8/r8RGR3BYdj0geAuAqfDTx5nvTiv0mtJ3v+\\\n",
       "WakDpKw8un6BMEkVALvr9ddfV11dna6//np5PB5t3rxZ9957r/7xH/9Rn/nMZ+LdvLhizT8AMdWd\\\n",
       "2bmbVwd2+nBJaj2lbm1zNGBgoPs31c2kD6ATSTUGsLvcbreee+45TZ8+XZdddpm+//3va8GCBVq7\\\n",
       "dm28mxZ3bPkGIKbCx/tFOufU0UCYy75QKrpdzjp/kbSd6faV2AoO6ISRFcCJEyeqrq4u3s1IOPW1\\\n",
       "+9Ryqk3ugWl0/wKIDXtv3666aO1zWk4EwqL/hDQgM1DhC2aP95Ok9jOL4Z86Km14hMkfQBgjK4Do\\\n",
       "nL2UTHpGKt2/AGJj8rxzz861zxk7U5JLOnWsY/iTzoY+SSr4f86uF500Ux2BvkMAhCPSUjIAkBD2\\\n",
       "vqFAmjuT6FIGBCZ5yBX4PjjpNR2WZj4cWPh55sOxbyuQ4JJqGZhYYxo5AMTQ5tXSy48EKoCyAuFO\\\n",
       "CnQLyxU4ljpAam+XPnubdPvq0PfaC0LvfYMt4QzH/ZsKIACgv5g8T3pgt3TzjwLh7+p7Aw9PoVT0\\\n",
       "pcDXAYMlq+1MtTCIPdnk/XXnnnQCGIAACADoXzobNzhqWuCY3e0bPqnEDoqfva3z1wHD0AXcC5SQ\\\n",
       "ASCONq+W1v9roOLnKWS9P3Qb928qgACA/urlRwLhTy4qekAPEQABAP2TvRZ05pDQ7uDNq6XlRSwA\\\n",
       "DXSBAAgA6J9mnBnvNyNsmZfu7C4CGM7InUAAAElg8rzOl3Lpzu4igOEIgACA/s9e589e3481/oAu\\\n",
       "0QUMAOj/6PYFeoQACADo/+x1/uj2BbqFLmAAQP9Hty/QI1QAAQAADEMABAAAMAwBEAAAwDAEQAAA\\\n",
       "AMMQAAEAAAxDAAQAADAMARAAAMAwBEAAAADDEAABAAAMQwAEAAAwDAEQAADAMARAAAAAwxAAAQAA\\\n",
       "DJMW7wb0Z5ZlSZIaGxvj3BIAANBd9n3bvo+biADYC8ePH5ckFRYWxrklAACgp44fPy6PxxPvZsSF\\\n",
       "yzI5/vZSe3u79u/fr6ysLLlcrojnNTY2qrCwUHv37lV2dnYMW2gurnnscc1jj2see1zz2IrW9bYs\\\n",
       "S8ePH1dBQYFSUswcDUcFsBdSUlI0cuTIbp+fnZ3NL4wY45rHHtc89rjmscc1j61oXG9TK382M2Mv\\\n",
       "AACAwQiAAAAAhiEAxoDb7VZ5ebncbne8m2IMrnnscc1jj2see1zz2OJ6Rw+TQAAAAAxDBRAAAMAw\\\n",
       "BEAAAADDEAABAAAMQwAEAAAwDAEwSnbv3q158+ZpzJgxyszM1NixY1VeXq6WlpaQ8z7++GPdcsst\\\n",
       "GjRokHJycvStb32rwznovn//93/XtGnTNHDgQA0ZMqTTc7jmfe9nP/uZxowZo4yMDE2aNEmvvPJK\\\n",
       "vJuUNGpra3XLLbeooKBALpdL1dXVIa9bliWv16uCggJlZmZq+vTpev/99+PT2CSxbNkyTZ48WVlZ\\\n",
       "WRo+fLiKi4u1c+fOkHO47n3rySef1Oc//3lnweepU6fqD3/4g/M617vvEQCj5C9/+Yva29u1cuVK\\\n",
       "vf/++1q+fLmeeuopPfTQQ845bW1tuvnmm9XU1KRXX31VVVVV+s1vfqPvfOc7cWx5/9bS0qIvf/nL\\\n",
       "WrRoUaevc8373nPPPafFixfre9/7nrZu3aprrrlGN954oz7++ON4Ny0pNDU16fLLL1dFRUWnrz/+\\\n",
       "+ON64oknVFFRoc2bNysvL0833HCDs1c5em7Tpk0qLS1VXV2dampq1NraqlmzZqmpqck5h+vet0aO\\\n",
       "HKnHHntMW7Zs0ZYtWzRjxgzdeuutTsjjekeBhZh5/PHHrTFjxjjP169fb6WkpFj79u1zjq1du9Zy\\\n",
       "u92Wz+eLRxOTxrPPPmt5PJ4Ox7nmfe/KK6+07r777pBjl156qfXAAw/EqUXJS5K1bt0653l7e7uV\\\n",
       "l5dnPfbYY86xU6dOWR6Px3rqqafi0MLkdPDgQUuStWnTJsuyuO6xMnToUGvVqlVc7yihAhhDPp9P\\\n",
       "w4YNc56//vrrKioqUkFBgXPsi1/8ovx+v9566614NDHpcc37VktLi9566y3NmjUr5PisWbP02muv\\\n",
       "xalV5ti1a5caGhpCrr/b7dZ1113H9e9DPp9Pkpzf31z36Gpra1NVVZWampo0depUrneUEABj5KOP\\\n",
       "PtKKFSt09913O8caGho0YsSIkPOGDh2q9PR0NTQ0xLqJRuCa963Dhw+rra2twzUdMWIE1zMG7GvM\\\n",
       "9Y8ey7K0ZMkSXX311SoqKpLEdY+Wbdu2afDgwXK73br77ru1bt06XXbZZVzvKCEA9pDX65XL5ery\\\n",
       "sWXLlpD37N+/X7Nnz9aXv/xlzZ8/P+Q1l8vV4d+wLKvT46Y6n2veFa553wu/dlzP2OL6R09ZWZne\\\n",
       "e+89rV27tsNrXPe+dckll+idd95RXV2dFi1apDlz5mj79u3O61zvvpUW7wb0N2VlZSopKenynNGj\\\n",
       "Rzvf79+/X9dff72mTp2qp59+OuS8vLw8vfHGGyHHjh49qtOnT3f4S8dkPb3mXeGa962cnBylpqZ2\\\n",
       "+Cv84MGDXM8YyMvLkxSoSOXn5zvHuf5945577tHvfvc71dbWauTIkc5xrnt0pKen66KLLpIkXXHF\\\n",
       "Fdq8ebN+8pOf6P7775fE9e5rVAB7KCcnR5deemmXj4yMDEnSvn37NH36dE2cOFHPPvusUlJCL/fU\\\n",
       "qVNVX1+vAwcOOMdeeuklud1uTZo0Kab/XYmsJ9f8XLjmfSs9PV2TJk1STU1NyPGamhpNmzYtTq0y\\\n",
       "x5gxY5SXlxdy/VtaWrRp0yaufy9YlqWysjK98MIL2rBhg8aMGRPyOtc9NizLkt/v53pHS9ymnyS5\\\n",
       "ffv2WRdddJE1Y8YM65NPPrEOHDjgPGytra1WUVGRNXPmTOvtt9+2/ud//scaOXKkVVZWFseW9297\\\n",
       "9uyxtm7dai1dutQaPHiwtXXrVmvr1q3W8ePHLcvimkdDVVWVNWDAAGv16tXW9u3brcWLF1uDBg2y\\\n",
       "du/eHe+mJYXjx487P8eSrCeeeMLaunWrtWfPHsuyLOuxxx6zPB6P9cILL1jbtm2z7rjjDis/P99q\\\n",
       "bGyMc8v7r0WLFlkej8fauHFjyO/ukydPOudw3fvWgw8+aNXW1lq7du2y3nvvPeuhhx6yUlJSrJde\\\n",
       "esmyLK53NBAAo+TZZ5+1JHX6CLZnzx7r5ptvtjIzM61hw4ZZZWVl1qlTp+LU6v5vzpw5nV7zP/3p\\\n",
       "T845XPO+V1lZaY0aNcpKT0+3Jk6c6CyXgd7705/+1OnP9Jw5cyzLCixJUl5ebuXl5Vlut9u69tpr\\\n",
       "rW3btsW30f1cpN/dzz77rHMO171v3Xnnnc7vkNzcXGvmzJlO+LMsrnc0uCzLsmJYcAQAAECcMQYQ\\\n",
       "AADAMARAAAAAwxAAAQAADEMABAAAMAwBEAAAwDAEQAAAAMMQAAEAAAxDAAQAADAMARAAAMAwBEAA\\\n",
       "AADDEAABAAAMQwAEAAAwDAEQAADAMARAAAAAwxAAAQAADEMABAAAMAwBEAAAwDAEQAAAAMMQAAEA\\\n",
       "AAxDAAQAADAMARAAAMAwBEAAAADDEAABAAAMQwAEAAAwDAEQAADAMARAAAAAwxAAAQAADEMABAAA\\\n",
       "MAwBEAAAwDAEQAAAAMMQAAEAAAzz/wNoChC2lpDgaAAAAABJRU5ErkJggg==\\\n",
       "\"\n",
       "  frames[2] = \"data:image/png;base64,iVBORw0KGgoAAAANSUhEUgAAAoAAAAHgCAYAAAA10dzkAAAAOXRFWHRTb2Z0d2FyZQBNYXRwbG90\\\n",
       "bGliIHZlcnNpb24zLjYuMSwgaHR0cHM6Ly9tYXRwbG90bGliLm9yZy/av/WaAAAACXBIWXMAAA9h\\\n",
       "AAAPYQGoP6dpAAAlsUlEQVR4nO3dfZDV9X3w/c9RxyPG3VMJC8terMgkmEC3seNDVe74lNzSMF40\\\n",
       "JL0ybp1xlrsTB5NdWkIdDfHOzdk0gcTO5d0OuzFk0pFkOopzXY0kc8W00kkEeymtMDqKMFbvYqBR\\\n",
       "Cho9i4xZqv7uP+ie7COC+/A7nO/rlTkjv4ez85Wf4bz5/h5OIcuyLAAASMYZeQ8AAICpJQABABIj\\\n",
       "AAEAEiMAAQASIwABABIjAAEAEiMAAQASIwABABIjAAEAEiMAAQASIwABABIjAAEAEiMAAQASIwAB\\\n",
       "ABIjAAEAEiMAAQASIwABABIjAAEAEiMAAQASIwABABIjAAEAEiMAAQASIwABABIjAAEAEiMAAQAS\\\n",
       "IwABABIjAAEAEiMAAQASIwABABIjAAEAEiMAAQASIwABABIjAAEAEiMAAQASIwABABIjAAEAEiMA\\\n",
       "AQASIwABABIjAAEAEiMAAQASIwABABIjAAEAEiMAAQASIwABABIjAAEAEiMAAQASIwABABIjAAEA\\\n",
       "EiMAAQASIwABABIjAAEAEiMAAQASIwABABIjAAEAEiMAAQASIwABABJzVt4DOJ29++678fLLL0dD\\\n",
       "Q0MUCoW8hwMAnIQsy+LIkSPR0tISZ5yR5lyYAByHl19+OVpbW/MeBgDwPhw4cCDmzJmT9zByIQDH\\\n",
       "oaGhISKO/wfU2NiY82gAgJPR19cXra2t1c/xFAnAcRg47dvY2CgAAeA0k/LlW2me+AYASJgABABI\\\n",
       "jAAEAEiMAAQASIwA5KSUy+Xo7e094T69vb1RLpenZkAAwPvmLmDeU7lcju7u7upyZ2fniH16e3uj\\\n",
       "q6tryHsAgNpkBpATGh5/XV1dI2YCh8dfd3e3AASAGiYAGdPw+BswOAKHx98AEQgAtauQZVmW9yBO\\\n",
       "V319fVEqlaJSqdTdg6DHir/BFixYEHv37j3hPmvXrhWCANSUev78PllmABlVU1PTmNvaoi0iohp/\\\n",
       "A8un+nMAgHwIQEbV2dkZPT09I9Z3REdsiA3RHu0REdEe7bEhNkRHdIzYt6enZ9QbRgCAfNVtAK5f\\\n",
       "vz4uv/zyaGhoiJkzZ8ayZcvi+eefH7LP8uXLo1AoDHldeeWVOY249gyPwLZoi+WxPCIiVsSK2BJb\\\n",
       "YkWsiIiI5bF8yEyg+AOA2lW3Abht27bo7OyMHTt2xNatW+Ptt9+OxYsXx9GjR4fs96lPfSpeeeWV\\\n",
       "6uvhhx/OacS1aXAE7o7dsTE2VreVolT99cbYGLtjd0SIPwCodcncBHL48OGYOXNmbNu2La655pqI\\\n",
       "OD4D+MYbb8SWLVve189M6SLShQsXVq/52xJbhsRfJSqxLJZFxPEbQ/bs2ZPHEAHgpKT0+T2Wup0B\\\n",
       "HK5SqURExPTp04esf/TRR2PmzJlx0UUXxa233hqHDh3KY3g1rbe3txp/7dE+JP4ijs8EDlwTuHfv\\\n",
       "3vf8xhAAIF9JzABmWRaf/vSn4/XXX4/HHnusuv7BBx+M8847L+bOnRv79u2Lr371q/H222/Hrl27\\\n",
       "olgsjvg5/f390d/fX13u6+uL1tbWuv4bxODn/LVFW2yIDdVtlagMicGVsdJpYABqnhnARGYAu7q6\\\n",
       "4plnnokHHnhgyPqbbropbrzxxmhra4ulS5fGT3/60/iXf/mX+MlPfjLqz1m/fn2USqXqq7W1dSqG\\\n",
       "n5vhD3neHbtjU2yKiOPX/C2LZdVrAjfFpmr8RYz+jSEAQG2o+xnAlStXxpYtW2L79u0xb96899x/\\\n",
       "/vz58fnPfz7uvPPOEdtSmgEc6xs+Io7PBA6OveHLg5kJBKDWmAGMOCvvAUyWLMti5cqV8dBDD8Wj\\\n",
       "jz56UvH32muvxYEDB2L27Nmjbi8Wi6OeGq5Hhw8fHnPbQOwNfBPIWPH3Xj8HAMhH3Z4C7uzsjL/5\\\n",
       "m7+J+++/PxoaGuLgwYNx8ODBeOuttyIi4s0334zbb789nnjiiXjppZfi0UcfjaVLl8aMGTPiM5/5\\\n",
       "TM6jz1+5XI61a9eOub2npyf27Nkz6sOiB/gaOACoTXV7CrhQKIy6/r777ovly5fHW2+9FcuWLYun\\\n",
       "nnoq3njjjZg9e3Zcf/318ed//ucnfW1fClPIo30n8PDTuqOdLhZ/ANSqFD6/30tdnwI+kWnTpsXf\\\n",
       "//3fT9FoTl8DETcQgaNd0zewPBCB4g8AalvdBiATZyDmmpqaxryhY2D94cOHxR8A1Li6PQU8FUwh\\\n",
       "A8Dpx+d3Hd8EAgDA6AQgAEBiBCAAQGIEIABAYgQgAEBiBCAAQGIEIABAYgQgAEBiBCAAQGIEIABA\\\n",
       "YnwXcJ377zf91yHLf/bg/8ppJABArTADCACQGAEIAJAYAVjn/s/PfzHvIQAANaaQZVmW9yBOV319\\\n",
       "fVEqlaJSqURjY2PewwEAToLPbzOAAADJEYAAAIkRgAAAiRGAAACJEYAAAIkRgAAAiRGAAACJEYAA\\\n",
       "AIkRgAAAiRGAAACJEYAAAIkRgAAAiRGAAACJEYAAAIkRgAAAiRGAAACJEYAAAIkRgAAAiRGAAACJ\\\n",
       "EYAAAIkRgAAAiRGAAACJEYAAAIkRgAAAiRGAAACJEYAAAIkRgAAAiRGAAACJqdsAXL9+fVx++eXR\\\n",
       "0NAQM2fOjGXLlsXzzz8/ZJ8sy6JcLkdLS0tMmzYtrrvuunjuuedyGjEAwNSo2wDctm1bdHZ2xo4d\\\n",
       "O2Lr1q3x9ttvx+LFi+Po0aPVfe6+++645557oqenJ5588slobm6OG264IY4cOZLjyAEAJlchy7Is\\\n",
       "70FMhcOHD8fMmTNj27Ztcc0110SWZdHS0hKrVq2KO++8MyIi+vv7Y9asWfGtb30rVqxY8Z4/s6+v\\\n",
       "L0qlUlQqlWhsbJzsfwUAYAL4/K7jGcDhKpVKRERMnz49IiL27dsXBw8ejMWLF1f3KRaLce2118bj\\\n",
       "jz8+6s/o7++Pvr6+IS8AgNNNEgGYZVmsXr06Pv7xj0dbW1tERBw8eDAiImbNmjVk31mzZlW3Dbd+\\\n",
       "/foolUrVV2tr6+QOHABgEiQRgF1dXfHMM8/EAw88MGJboVAYspxl2Yh1A9asWROVSqX6OnDgwKSM\\\n",
       "FwBgMp2V9wAm28qVK+PHP/5xbN++PebMmVNd39zcHBHHZwJnz55dXX/o0KERs4IDisViFIvFyR0w\\\n",
       "AMAkq9sZwCzLoqurK374wx/Gz372s5g3b96Q7fPmzYvm5ubYunVrdd2xY8di27ZtsWjRoqkeLgDA\\\n",
       "lKnbGcDOzs64//7740c/+lE0NDRUr+srlUoxbdq0KBQKsWrVqli3bl3Mnz8/5s+fH+vWrYtzzz03\\\n",
       "br755pxHDwAweeo2AO+9996IiLjuuuuGrL/vvvti+fLlERFxxx13xFtvvRVf/OIX4/XXX48rrrgi\\\n",
       "HnnkkWhoaJji0QIATJ1kngM4GTxHCABOPz6/6/gaQAAARicAAQASIwABABIjAAEAEiMAAQASIwAB\\\n",
       "ABIjAAEAEiMAAQASIwABABIjAAEAEiMAAQASIwABABIjAAEAEiMAAQASIwABABIjAAEAEiMAAQAS\\\n",
       "IwABABIjAAEAEiMAAQASIwABABIjAAEAEiMAAQASIwABABIjAAEAEiMAAQASIwABABIjAAEAEiMA\\\n",
       "AQASIwABABIjAAEAEiMAAQASIwABABIjAAEAEiMAAQASIwABABIjAAEAEiMAAQASIwABABIjAAEA\\\n",
       "EiMAAQASIwABABIjAAEAEiMAAQASU7cBuH379li6dGm0tLREoVCILVu2DNm+fPnyKBQKQ15XXnll\\\n",
       "PoMFAJhCdRuAR48ejYsvvjh6enrG3OdTn/pUvPLKK9XXww8/PIUjBADIx1l5D2CyLFmyJJYsWXLC\\\n",
       "fYrFYjQ3N0/RiAAAakPdzgCejEcffTRmzpwZF110Udx6661x6NChvIcEADDp6nYG8L0sWbIkPve5\\\n",
       "z8XcuXNj37598dWvfjU+8YlPxK5du6JYLI76nv7+/ujv768u9/X1TdVwAQAmTLIBeNNNN1V/3dbW\\\n",
       "FpdddlnMnTs3fvKTn8RnP/vZUd+zfv366O7unqohAgBMiqRPAQ82e/bsmDt3brzwwgtj7rNmzZqo\\\n",
       "VCrV14EDB6ZwhAAAEyPZGcDhXnvttThw4EDMnj17zH2KxeKYp4cBAE4XdRuAb775Zrz44ovV5X37\\\n",
       "9sXTTz8d06dPj+nTp0e5XI4//MM/jNmzZ8dLL70UX/nKV2LGjBnxmc98JsdRAwBMvroNwJ07d8b1\\\n",
       "119fXV69enVERHR0dMS9994bzz77bPzgBz+IN954I2bPnh3XX399PPjgg9HQ0JDXkAEApkQhy7Is\\\n",
       "70Gcrvr6+qJUKkWlUonGxsa8hwMAnASf324CAQBIjgAEAEiMAAQASIwABABIjAAEAEiMAAQASIwA\\\n",
       "BABIjAAEAEiMAAQASIwABABIjAAEAEiMAAQASIwABABIjAAEAEiMAAQASIwABABIjAAEAEiMAAQA\\\n",
       "SIwABABIjAAEAEiMAAQASIwABABIjAAEAEiMAAQASIwABABIjAAEAEiMAAQASIwABABIjAAEAEiM\\\n",
       "AAQASIwArEPlcjl6e3tPuE9vb2+Uy+WpGRAAUFPOynsATKxyuRzd3d3V5c7OzhH79Pb2RldX15D3\\\n",
       "AADpMANYR4bHX1dX14iZwOHx193dLQABIDECsE4Mj78BgyNwePwNEIEAkJZClmVZ3oM4XfX19UWp\\\n",
       "VIpKpRKNjY25jWOs+BtswYIFsXfv3hPus3btWiEIQN2rlc/vPJkBrANNTU1jbmuLtoiIavwNLJ/q\\\n",
       "zwEA6ocArAOdnZ3R09MzYn1HdMSG2BDt0R4REe3RHhtiQ3REx4h9e3p6Rr1hBACoP04Bj0OtTSEP\\\n",
       "vsavLdpiQ2yobqtEJUpRqi6vjJWxO3ZHhPgDIC219vmdBzOAdWTwTODu2B0bY2N12+D42xgbxR8A\\\n",
       "JMwM4DjU6t8gFi5cWL3mb0tsGRJ/lajEslgWEcdvDNmzZ08eQwSA3NTq5/dUMgNYZ3p7e6vx1x7t\\\n",
       "Q+Iv4vhM4MA1gXv37n3PbwwBAOqPAKwjw68BXBErqtsqUan+ekWsqN4NPNrDogGA+iYA68Twhzzv\\\n",
       "jt2xKTZFxPFr/pbFsuo1gZtiU/UawAgRCACpcQ3gONTKNQRjfcNHxPGZwMGxN3x5MDeEAJCCWvn8\\\n",
       "zpMZwDpw+PDhMbcNxN6CBQuGLJ/qzwEA6kfdBuD27dtj6dKl0dLSEoVCIbZs2TJke5ZlUS6Xo6Wl\\\n",
       "JaZNmxbXXXddPPfcc/kMdpzK5XKsXbt2zO09PT2xZ8+eUR8WPcDXwAFAOuo2AI8ePRoXX3zxmNFz\\\n",
       "9913xz333BM9PT3x5JNPRnNzc9xwww1x5MiRKR7pxBgrAgef1h3rG0PEHwCk5ay8BzBZlixZEkuW\\\n",
       "LBl1W5Zl8Zd/+Zdx1113xWc/+9mIiPj+978fs2bNivvvvz9WrFgx6vtq3UDEdXd3R8To1/QNLA9c\\\n",
       "Myj+ACA9dRuAJ7Jv3744ePBgLF68uLquWCzGtddeG48//viYAdjf3x/9/f3V5b6+vkkf66kaiLmm\\\n",
       "pqYxb+gYWH/48GHxBwAJSjIADx48GBERs2bNGrJ+1qxZ8Ytf/GLM961fv746u1bLTibq3O0LAOmq\\\n",
       "22sAT0ahUBiynGXZiHWDrVmzJiqVSvV14MCByR4iAMCES3IGsLm5OSKOzwTOnj27uv7QoUMjZgUH\\\n",
       "KxaLUSwWJ318AACTKckZwHnz5kVzc3Ns3bq1uu7YsWOxbdu2WLRoUY4jAwCYfHU7A/jmm2/Giy++\\\n",
       "WF3et29fPP300zF9+vS44IILYtWqVbFu3bqYP39+zJ8/P9atWxfnnntu3HzzzTmOGgBg8tVtAO7c\\\n",
       "uTOuv/766vLq1asjIqKjoyM2bdoUd9xxR7z11lvxxS9+MV5//fW44oor4pFHHomGhoa8hgwAMCV8\\\n",
       "F/A4+C5BADj9+PxO9BpAAICUCUAAgMQIwBr2+ubN8cInPhmvb96c91AAgDpStzeBnO72/bfPxa93\\\n",
       "746IiH//1t1xfnt7ziMCAOqFGcAa9f/96rfif1/5tfhly8cje+utvIcDANQRAVijXrpgcfSf88F4\\\n",
       "6YLFeQ8FAKgzArBGXbj/kSj++rW4cP8jEWc5Uw8ATBwBWKM+NP2N+D92/D/xoelvxILdz+Y9HACg\\\n",
       "jphaqlHz/uf/yHsIAECdMgMIAJAYAQgAkBgBCACQGAEIAJAYAQgAkBgBCACQGAEIAJAYAQgA5K5c\\\n",
       "Lkdvb+8J9+nt7Y1yuTw1A6pzHgQNAOSqXC5Hd3d3dbmzs3PEPr29vdHV1TXkPbx/ZgABgNwMj7+u\\\n",
       "rq4RM4HD46+7u1sAjpMABAByMTz+BgyOwOHxN0AEjk8hy7Is70Gcrvr6+qJUKkWlUonGxsa8hwMA\\\n",
       "NaVcLkdTU9Oop3THir/BFixYEHv37j3hPmvXrj3lEPT57RpAAGASvNd1fU1NTWO+ty3aYnfsrsbf\\\n",
       "wPJoTvRzGJtTwADAhDqZ6/rG0hEdsSE2RHu0R0REe7THhtgQHdExYt+enp5RZxd5b04Bj4MpZAAY\\\n",
       "6kSndgeCbazr+tqiLTbEhupyJSpRilJ1eWWsrM4Ejif+fH4LwHHxHxAA/MZEXNfXHu2xIlaMWL8x\\\n",
       "Nsbm2BwR45/58/ntFDAAMEHe67q+iBhyXd9oNsfmqERlyLpKVKrxt2DBAqd9J4AABAAmRGdnZ/T0\\\n",
       "9IxYfyrX9bVH+5DTvhERpShV37t3796Tvp6QsTkFPA6mkAFgpMHX+L3XdX03x83xSrxyUvu6BnDi\\\n",
       "mAEEACbU4JnA3bE7NsbG6rbBQXd73F6Nv4F9N8WmiDh+zd+yWFZ976bYNORRMKdyZzEjmQEcB3+D\\\n",
       "AICxLVy4sHrN35bYMiT+HogH4rvx3VHfN/y5fyd6DuD7mQn0+W0GEACYBL29vdX4G+26vv7oH/O9\\\n",
       "A7G3YMGCIcujOXz48HiHmiQBCABMqOHXAA5+rMvAHb7LY/moN4EM6OnpiT179ox6U8mA9/M1cBwn\\\n",
       "AAGACTP8Ic8nuq5vLINP6451Z7H4Gx/fBQwATIixvuHj+/H92BW7qqdyN8fm2P2f/zsZAzE48LPF\\\n",
       "3/gJQABgQpzoerzB1/Xt3bv3lK/rG4jAw4cPi78J4BQwADAhyuVyrF27dszt472ur7OzU/xNEAEI\\\n",
       "AEyYsSLQdX21RQACABNqeASO9qy+4REo/qaWawABgAk3EHNNTU1jPqjZdX358U0g4+BJ4gBw+vH5\\\n",
       "7RQwAEByBCAAQGIEIABAYgQgAEBikg3AcrkchUJhyKu5uTnvYQEATLqkHwPz27/92/EP//AP1eUz\\\n",
       "zzwzx9EAAEyNpAPwrLPOMusHACQn2VPAEREvvPBCtLS0xLx586K9vT3+9V//Ne8hAQBMumRnAK+4\\\n",
       "4or4wQ9+EBdddFH8+7//e3z961+PRYsWxXPPPRcf/OAHR31Pf39/9Pf3V5f7+vqmargAABPGN4H8\\\n",
       "p6NHj8aHPvShuOOOO2L16tWj7lMul6O7u3vE+pSfJA5Aei788k+i4SNfjihkEVkhnv2/ns17SKfE\\\n",
       "N4Ekfgp4sA984APxO7/zO/HCCy+Muc+aNWuiUqlUXwcOHJjCEQJADSlkEYXC8X9y2kn2FPBw/f39\\\n",
       "sXfv3rj66qvH3KdYLEaxWJzCUQFAjcoKEZH95z853SQbgLfffnssXbo0Lrjggjh06FB8/etfj76+\\\n",
       "vujo6Mh7aABQ01765o0RcWPew2Ackg3Af/u3f4s/+qM/ildffTWampriyiuvjB07dsTcuXPzHhoA\\\n",
       "wKRKNgA3b96c9xAAAHLhJhAAgMQIQACAxAhAAIDECEAAgMQIQACAxAhAAIDECEAAgMQIQACAxAhA\\\n",
       "AIDECEAAgMQIQACAxAhAAIDECEAAgMQIQACAxAhAAIDECEAAgMQIQACAxAhAAIDECEAAgMQIQACA\\\n",
       "xAhAAIDECEAAgMQIQACAxAhAAIDECEAAgMQIQACAxAhAAIDECEAAgMQIQACAxAhAAIDECEAAgMQI\\\n",
       "QACAxAhAAIDECEAAgMQIQACAxAhAAIDECEAAgMQIQACAxAhAAIDECEAAgMQIQACAxAhAAIDECEAA\\\n",
       "gMQIQACAxAhAAIDEJB+A3/72t2PevHlxzjnnxKWXXhqPPfZY3kMCAJhUSQfggw8+GKtWrYq77ror\\\n",
       "nnrqqbj66qtjyZIlsX///ryHBgAwaQpZlmV5DyIvV1xxRVxyySVx7733VtctWLAgli1bFuvXr3/P\\\n",
       "9/f19UWpVIpKpRKNjY2TOVQAYIL4/E54BvDYsWOxa9euWLx48ZD1ixcvjscff3zU9/T390dfX9+Q\\\n",
       "FwDA6SbZAHz11VfjnXfeiVmzZg1ZP2vWrDh48OCo71m/fn2USqXqq7W1dSqGCgAwoZINwAGFQmHI\\\n",
       "cpZlI9YNWLNmTVQqlerrwIEDUzFEAIAJdVbeA8jLjBkz4swzzxwx23fo0KERs4IDisViFIvFqRge\\\n",
       "AMCkSXYG8Oyzz45LL700tm7dOmT91q1bY9GiRTmNCgBg8iU7AxgRsXr16rjlllvisssui6uuuiq+\\\n",
       "+93vxv79++O2227Le2gAAJMm6QC86aab4rXXXouvfe1r8corr0RbW1s8/PDDMXfu3LyHBgAwaZJ+\\\n",
       "DuB4eY4QAJx+fH4nfA0gAECqBCAAQGIEIABAYgQgAEBiBCAAQGIEIABAYgQgAEBiBCAAQGIEYB0r\\\n",
       "l8vR29t7wn16e3ujXC5PzYAAgJqQ9FfB1bNyuRzd3d3V5c7OzhH79Pb2RldX15D3AAD1zwxgHRoe\\\n",
       "f11dXSNmAofHX3d3twAEgEQIwDozPP4GDI7A4fE3QAQCQBoKWZZleQ/idFVrXyY9VvwNtmDBgti7\\\n",
       "d+8J91m7dq0QBKBu1drndx7MANaRpqamMbe1RVtERDX+BpZP9ecAAKc/AVhHOjs7o6enZ8T6juiI\\\n",
       "DbEh2qM9IiLaoz02xIboiI4R+/b09Ix6wwgAUD+cAh6HWp1CHnyNX1u0xYbYUN1WiUqUolRdXhkr\\\n",
       "Y3fsjgjxB0AaavXzeyqZAaxDg2cCd8fu2Bgbq9sGx9/G2Cj+ACBBArBOdXZ2xoIFCyIiYnNsjkpU\\\n",
       "hmyvRCU2x+aIOH5jiPgDUuNh+aTMg6DrVG9vb/WGj/ZoHzLzF3F8JrA92mNzbI69e/dGb2+vCASS\\\n",
       "4WH5pM4MYB0afg3gilhR3TZ4JnBFrKjeDTzaw6IB6pGH5YMArDvD/9DaHbtjU2yKiOPX/C2LZdVr\\\n",
       "AjfFpuo1gBEiEKh/HpYPx7kLeBxq7S6isf7Qijg+Ezg49oYvD+aGEKAeeVg+A2rt8zsPZgDryOHD\\\n",
       "h8fcNhB7AzeGjBV/7/VzAE5XHpYPvyEA60i5XI61a9eOub2npyf27Nkz6sOiB/ibLVCvPCwffsMp\\\n",
       "4HGo1Snk0U5zDP9Da7TTxeIPSIGH5VOrn99TyQxgHRo+EzjaH1rD/yYs/oBUeFg+mAEcl1r/G0S5\\\n",
       "XI6mpqYT/qHV29sbhw8fFn9AchYuXFi95m9LbBkSf5WoxLJYFhHHr53es2dPHkNkktT65/dUEIDj\\\n",
       "4D8ggNPT4NPA7dE+5HmpAzbGxuo3JpkBrC8+v50CBiAxHpYPAhCAhHhYPhznFPA4mEIGOH14WD4D\\\n",
       "fH6bAQQgER6WD78hAAFIgoflw28IQACSMVYEDj6tO9Y3hog/6okABCApHpYPEWflPQAAmGoDMXei\\\n",
       "h+UPrPewfOqRu4DHwV1EAHD68fntFDAAQHKcAq5Rvbf9rPrrzu98IseRAAD1xgwgAEBiBCAAQGIE\\\n",
       "YI269uaPRMP0Ylx780fyHgoAUGdcA1ij2q75L9F2zX/JexgAQB0yAwgAkJhkA/DCCy+MQqEw5PXl\\\n",
       "L38572EBAEy6pE8Bf+1rX4tbb721unzeeeflOBoAgKmR7AxgRERDQ0M0NzdXXwIQ4DT05F9H/L9t\\\n",
       "x/8JnJSkA/Bb3/pWfPCDH4zf/d3fjW984xtx7NixvIcEwKn62Z9HVA4c/ydwUpI9Bfynf/qncckl\\\n",
       "l8T5558f//zP/xxr1qyJffv2xfe+970x39Pf3x/9/f3V5b6+vqkYKgBjKZd+8+u3Xs9vHHCaqasZ\\\n",
       "wHK5POLGjuGvnTt3RkTEl770pbj22mvjYx/7WHz+85+P73znO/HXf/3X8dprr43589evXx+lUqn6\\\n",
       "am1tnap/NQCACVPIsizLexAT5dVXX41XX331hPtceOGFcc4554xY/8tf/jLmzJkTO3bsiCuuuGLU\\\n",
       "9442A9ja2hqVSiUaGxvHN3gATt3gGcCzzo34v1/JbyycNvr6+qJUKiX9+V1Xp4BnzJgRM2bMeF/v\\\n",
       "feqppyIiYvbs2WPuUywWo1gsvq+fD8AkKFfyHgGcluoqAE/WE088ETt27Ijrr78+SqVSPPnkk/Gl\\\n",
       "L30p/uAP/iAuuOCCvIcHADCpkgzAYrEYDz74YHR3d0d/f3/MnTs3br311rjjjjvyHhoAwKRLMgAv\\\n",
       "ueSS2LFjR97DAADIRV3dBQwAwHsTgAAAiRGAAACJEYAAAIkRgAAAiRGAAACJEYAAAIkRgAAAiRGA\\\n",
       "AACJEYAAAIlJ8qvgJkqWZRER0dfXl/NIAICTNfC5PfA5niIBOA5HjhyJiIjW1tacRwIAnKojR45E\\\n",
       "qVTKexi5KGQp5+84vfvuu/Hyyy9HQ0NDFAqFvIdTF/r6+qK1tTUOHDgQjY2NeQ8naY5FbXE8aovj\\\n",
       "UVtO9XhkWRZHjhyJlpaWOOOMNK+GMwM4DmeccUbMmTMn72HUpcbGRn+o1gjHorY4HrXF8agtp3I8\\\n",
       "Up35G5Bm9gIAJEwAAgAkRgBSU4rFYqxduzaKxWLeQ0meY1FbHI/a4njUFsfj1LkJBAAgMWYAAQAS\\\n",
       "IwABABIjAAEAEiMAAQASIwCpGd/4xjdi0aJFce6558Zv/dZvjbrP/v37Y+nSpfGBD3wgZsyYEX/y\\\n",
       "J38Sx44dm9qBJuLb3/52zJs3L84555y49NJL47HHHst7SEnYvn17LF26NFpaWqJQKMSWLVuGbM+y\\\n",
       "LMrlcrS0tMS0adPiuuuui+eeey6fwda59evXx+WXXx4NDQ0xc+bMWLZsWTz//PND9nE8ps69994b\\\n",
       "H/vYx6oPe77qqqvipz/9aXW7Y3FqBCA149ixY/G5z30uvvCFL4y6/Z133okbb7wxjh49Gv/4j/8Y\\\n",
       "mzdvjr/927+NP/uzP5vikda/Bx98MFatWhV33XVXPPXUU3H11VfHkiVLYv/+/XkPre4dPXo0Lr74\\\n",
       "4ujp6Rl1+9133x333HNP9PT0xJNPPhnNzc1xww03VL+bnImzbdu26OzsjB07dsTWrVvj7bffjsWL\\\n",
       "F8fRo0er+zgeU2fOnDnxzW9+M3bu3Bk7d+6MT3ziE/HpT3+6GnmOxSnKoMbcd999WalUGrH+4Ycf\\\n",
       "zs4444zsl7/8ZXXdAw88kBWLxaxSqUzhCOvf7/3e72W33XbbkHUf/ehHsy9/+cs5jShNEZE99NBD\\\n",
       "1eV33303a25uzr75zW9W1/3617/OSqVS9p3vfCeHEabl0KFDWURk27Zty7LM8agF559/fva9733P\\\n",
       "sXgfzABy2njiiSeira0tWlpaqut+//d/P/r7+2PXrl05jqy+HDt2LHbt2hWLFy8esn7x4sXx+OOP\\\n",
       "5zQqIiL27dsXBw8eHHJsisViXHvttY7NFKhUKhERMX369IhwPPL0zjvvxObNm+Po0aNx1VVXORbv\\\n",
       "gwDktHHw4MGYNWvWkHXnn39+nH322XHw4MGcRlV/Xn311XjnnXdG/F7PmjXL73POBn7/HZupl2VZ\\\n",
       "rF69Oj7+8Y9HW1tbRDgeeXj22WfjvPPOi2KxGLfddls89NBDsXDhQsfifRCATKpyuRyFQuGEr507\\\n",
       "d570zysUCiPWZVk26nrGZ/jvqd/n2uHYTL2urq545pln4oEHHhixzfGYOh/5yEfi6aefjh07dsQX\\\n",
       "vvCF6OjoiD179lS3OxYn76y8B0B96+rqivb29hPuc+GFF57Uz2pubo5/+qd/GrLu9ddfj//4j/8Y\\\n",
       "8bc+3r8ZM2bEmWeeOeJvzYcOHfL7nLPm5uaIOD7zNHv27Op6x2ZyrVy5Mn784x/H9u3bY86cOdX1\\\n",
       "jsfUO/vss+PDH/5wRERcdtll8eSTT8Zf/dVfxZ133hkRjsWpMAPIpJoxY0Z89KMfPeHrnHPOOamf\\\n",
       "ddVVV8Xu3bvjlVdeqa575JFHolgsxqWXXjpZ/wrJOfvss+PSSy+NrVu3Dlm/devWWLRoUU6jIiJi\\\n",
       "3rx50dzcPOTYHDt2LLZt2+bYTIIsy6Krqyt++MMfxs9+9rOYN2/ekO2OR/6yLIv+/n7H4n0wA0jN\\\n",
       "2L9/f/zqV7+K/fv3xzvvvBNPP/10RER8+MMfjvPOOy8WL14cCxcujFtuuSX+4i/+In71q1/F7bff\\\n",
       "Hrfeems0NjbmO/g6s3r16rjlllvisssui6uuuiq++93vxv79++O2227Le2h1780334wXX3yxurxv\\\n",
       "3754+umnY/r06XHBBRfEqlWrYt26dTF//vyYP39+rFu3Ls4999y4+eabcxx1fers7Iz7778/fvSj\\\n",
       "H0VDQ0N1VrxUKsW0adOiUCg4HlPoK1/5SixZsiRaW1vjyJEjsXnz5nj00Ufj7/7u7xyL9yO/G5Bh\\\n",
       "qI6OjiwiRrx+/vOfV/f5xS9+kd14443ZtGnTsunTp2ddXV3Zr3/96/wGXcd6e3uzuXPnZmeffXZ2\\\n",
       "ySWXVB99weT6+c9/Pur/Dzo6OrIsO/7okbVr12bNzc1ZsVjMrrnmmuzZZ5/Nd9B1arTjEBHZfffd\\\n",
       "V93H8Zg6f/zHf1z9M6mpqSn75Cc/mT3yyCPV7Y7FqSlkWZZNfXYCAJAX1wACACRGAAIAJEYAAgAk\\\n",
       "RgACACRGAAIAJEYAAgAkRgACACRGAAIAJEYAAgAkRgACACRGAAIAJEYAAgAkRgACACRGAAIAJEYA\\\n",
       "AgAkRgACACRGAAIAJEYAAgAkRgACACRGAAIAJEYAAgAkRgACACRGAAIAJEYAAgAkRgACACRGAAIA\\\n",
       "JEYAAgAkRgACACRGAAIAJEYAAgAkRgACACTm/wcbMsLiAzB4CAAAAABJRU5ErkJggg==\\\n",
       "\"\n",
       "  frames[3] = \"data:image/png;base64,iVBORw0KGgoAAAANSUhEUgAAAoAAAAHgCAYAAAA10dzkAAAAOXRFWHRTb2Z0d2FyZQBNYXRwbG90\\\n",
       "bGliIHZlcnNpb24zLjYuMSwgaHR0cHM6Ly9tYXRwbG90bGliLm9yZy/av/WaAAAACXBIWXMAAA9h\\\n",
       "AAAPYQGoP6dpAAAlJElEQVR4nO3df6zedWH//ddBwkWR0zNqf5w2lNLMMotHWQCHNCrgvnY23p3V\\\n",
       "hdCZmPZeJEXPYaudQasxveq0VZfbbN+eI9bbhc4sULJMqrnFjS5KcYFuQCBQ2jDIiu2E2oJ4Tmnw\\\n",
       "dOB1/9HvuTw/C+X0nOv0ej8eyRX6+XGdvOkHej37/vy4Wmq1Wi0AABTjrEYPAACAySUAAQAKIwAB\\\n",
       "AAojAAEACiMAAQAKIwABAAojAAEACiMAAQAKIwABAAojAAEACiMAAQAKIwABAAojAAEACiMAAQAK\\\n",
       "IwABAAojAAEACiMAAQAKIwABAAojAAEACiMAAQAKIwABAAojAAEACiMAAQAKIwABAAojAAEACiMA\\\n",
       "AQAKIwABAAojAAEACiMAAQAKIwABAAojAAEACiMAAQAKIwABAAojAAEACiMAAQAKIwABAAojAAEA\\\n",
       "CiMAAQAKIwABAAojAAEACiMAAQAKIwABAAojAAEACiMAAQAKIwABAAojAAEACiMAAQAKIwABAAoj\\\n",
       "AAEACiMAAQAKIwABAAojAAEACiMAAQAKIwABAAojAAEACiMAAQAKc3ajB3Am+81vfpNnn302ra2t\\\n",
       "aWlpafRwAIDXoVar5ejRo5k3b17OOqvMuTABOA7PPvts5s+f3+hhAABvwMGDB3PhhRc2ehgNIQDH\\\n",
       "obW1NcmJ/4CmT5/e4NEAAK9HX19f5s+fX/8cL5EAHIeB077Tp08XgABwhin58q0yT3wDABRMAAIA\\\n",
       "FEYAAgAURgACABRGAPKaqtVqenp6TrpPT09PqtXq5AwIABgXdwFzUtVqNRs3bqwvd3Z2jtinp6cn\\\n",
       "XV1dQ94DAExdZgAZ0/D46+rqGjETODz+Nm7cKAABYIoTgIxqePwNGByBw+NvgAgEgKmtpVar1Ro9\\\n",
       "iDNVX19f2tra0tvb21QPgh4r/gZbvHhx9u3bd9J9NmzYIAQBmHKa9fP7VJgBZIRZs2aNua0jHUlS\\\n",
       "j7+B5VP9OQBA4whARujs7Ex3d/eI9auyKluyJSuzMkmyMiuzJVuyKqtG7Nvd3T3qDSMAQOM1bQBu\\\n",
       "3rw573rXu9La2prZs2dnxYoVefLJJ4fss3r16rS0tAx5vfvd727QiKeW4RHYkY6szuokyZqsyY7s\\\n",
       "yJqsSZKszuohM4HiDwCmtqYNwF27dqWzszO7d+/Ozp0788orr2Tp0qU5duzYkP0++MEP5rnnnqu/\\\n",
       "7r777gaNeOoZHIF7sidbs7W+rS1t9V9vzdbsyZ4k4g8AzgTF3ARy5MiRzJ49O7t27cr73ve+JCdm\\\n",
       "AH/1q19lx44db+hnlnIR6aWXXlq/5m9HdgyJv970ZkVWJDlxY8jevXsbMUQAeN1K+fw+maadARyu\\\n",
       "t7c3STJjxowh6++9997Mnj07l1xySW688cYcPny4EcObsnp6eurxtzIrh8RfcmImcOCawH379r3m\\\n",
       "N4YAAI1XxAxgrVbLhz/84bz44ov56U9/Wl9/55135vzzz8+CBQuyf//+fPGLX8wrr7yShx9+OJVK\\\n",
       "ZcTP6e/vT39/f325r68v8+fPb9q/QQx+zl9HOrIlW+rbetM7JAZvzs1OAwNwRjADWMgMYFdXVx57\\\n",
       "7LHccccdQ9bfcMMN+dCHPpSOjo4sX748P/rRj/Kf//mf+eEPfzjqz9m8eXPa2trqr/nz50/G8Bti\\\n",
       "+EOe92RPtmVbkhPX/K3Iivo1gduyrR5/yejfGAIATB1NPwN48803Z8eOHbnvvvuycOHC19x/0aJF\\\n",
       "+cQnPpHPfvazI7aVMgM41jd8JCdmAgfH3vDlwcwEAjAVmQFMzm70ACZKrVbLzTffnLvuuiv33nvv\\\n",
       "64q/F154IQcPHszcuXNH3V6pVEY9Ndxsjhw5Mua2gdgb+CaQseLvtX4OANA4TXsKuLOzM//wD/+Q\\\n",
       "22+/Pa2trTl06FAOHTqUl19+OUny0ksv5TOf+UweeOCBPPPMM7n33nuzfPnyzJw5Mx/5yEcaPPrG\\\n",
       "qlar2bBhw5jbu7u7s3fv3lEfFj3A18ABwNTVtKeAW1paRl1/2223ZfXq1Xn55ZezYsWKPPLII/nV\\\n",
       "r36VuXPn5rrrrstf/dVfve5r+5p9Cnm07wQeflp3tNPF4g+AqazZP79fj6Y+BXwy06ZNy7/8y79M\\\n",
       "0mjOTAMRNxCBo13TN7A8EIHiDwCmvqYNQE6PgZibNWvWmDd0DKw/cuSI+AOAM0DTngKeDKaQAeDM\\\n",
       "4/O7iW8CAQBgdAIQAKAwAhAAoDACEACgMAIQAKAwAhAAoDACEACgMAIQAKAwAhAAoDACEACgML4L\\\n",
       "uMn9Pzf8X/Vf/+Wd/18DRwIATBVmAAEACiMAAQAK4xRwk3PaFwAYzgwgAEBhBCAAQGEEIABAYQQg\\\n",
       "AEBhBCAAQGEEIABAYQQgAEBhBCAAQGEEIABAYQQgAEBhBCAAQGEEIABAYQQgAEBhBCAAQGEEIABA\\\n",
       "YQQgAEBhBCAAQGEEIABAYQQgAEBhBCAAQGEEIABAYQQgAEBhBCAAQGEEIABAYQQgAEBhBCAAQGEE\\\n",
       "IABAYQQgAEBhBCAAQGGaNgA3b96cd73rXWltbc3s2bOzYsWKPPnkk0P2qdVqqVarmTdvXqZNm5Zr\\\n",
       "r702TzzxRINGDAAwOZo2AHft2pXOzs7s3r07O3fuzCuvvJKlS5fm2LFj9X2+/vWv5xvf+Ea6u7vz\\\n",
       "4IMPpr29PR/4wAdy9OjRBo4cAGBitdRqtVqjBzEZjhw5ktmzZ2fXrl153/vel1qtlnnz5mXt2rX5\\\n",
       "7Gc/myTp7+/PnDlz8rWvfS1r1qx5zZ/Z19eXtra29Pb2Zvr06RP9rwAAnAY+v5t4BnC43t7eJMmM\\\n",
       "GTOSJPv378+hQ4eydOnS+j6VSiXXXHNN7r///lF/Rn9/f/r6+oa8AADONEUEYK1Wy7p16/Ke97wn\\\n",
       "HR0dSZJDhw4lSebMmTNk3zlz5tS3Dbd58+a0tbXVX/Pnz5/YgQMATIAiArCrqyuPPfZY7rjjjhHb\\\n",
       "WlpahizXarUR6wasX78+vb299dfBgwcnZLwAABPp7EYPYKLdfPPN+cEPfpD77rsvF154YX19e3t7\\\n",
       "khMzgXPnzq2vP3z48IhZwQGVSiWVSmViBwwAMMGadgawVqulq6sr3/ve9/LjH/84CxcuHLJ94cKF\\\n",
       "aW9vz86dO+vrjh8/nl27dmXJkiWTPVwAgEnTtDOAnZ2duf322/P9738/ra2t9ev62traMm3atLS0\\\n",
       "tGTt2rXZtGlTFi1alEWLFmXTpk0577zz8rGPfazBowcAmDhNG4C33nprkuTaa68dsv62227L6tWr\\\n",
       "kyS33HJLXn755XzqU5/Kiy++mKuuuir33HNPWltbJ3m0AACTp5jnAE4EzxECgDOPz+8mvgYQAIDR\\\n",
       "CUAAgMIIQACAwghAAIDCCEAAgMIIQACAwghAAIDCCEAAgMIIQACAwghAAIDCCEAAgMIIQACAwghA\\\n",
       "AIDCCEAAgMIIQACAwghAAIDCCEAAgMIIQACAwghAAIDCCEAAgMIIQACAwghAAIDCCEAAgMIIQACA\\\n",
       "wghAAIDCCEAAgMIIQACAwghAAIDCCEAAgMIIQACAwghAAIDCCEAAgMIIQACAwghAAIDCCEAAgMII\\\n",
       "QACAwghAAIDCCEAAgMIIQACAwghAAIDCCEAAgMIIQACAwghAAIDCCEAAgMI0bQDed999Wb58eebN\\\n",
       "m5eWlpbs2LFjyPbVq1enpaVlyOvd7353YwYLADCJmjYAjx07lssuuyzd3d1j7vPBD34wzz33XP11\\\n",
       "9913T+IIAQAa4+xGD2CiLFu2LMuWLTvpPpVKJe3t7ZM0IgCAqaFpZwBfj3vvvTezZ8/OJZdckhtv\\\n",
       "vDGHDx9u9JAAACZc084AvpZly5bl+uuvz4IFC7J///588YtfzPvf//48/PDDqVQqo76nv78//f39\\\n",
       "9eW+vr7JGi4AwGlTbADecMMN9V93dHTkyiuvzIIFC/LDH/4wH/3oR0d9z+bNm7Nx48bJGiIAwIQo\\\n",
       "+hTwYHPnzs2CBQvy1FNPjbnP+vXr09vbW38dPHhwEkcIAHB6FDsDONwLL7yQgwcPZu7cuWPuU6lU\\\n",
       "xjw9DABwpmjaAHzppZfy9NNP15f379+fRx99NDNmzMiMGTNSrVbzJ3/yJ5k7d26eeeaZfP7zn8/M\\\n",
       "mTPzkY98pIGjBgCYeE0bgA899FCuu+66+vK6deuSJKtWrcqtt96axx9/PN/97nfzq1/9KnPnzs11\\\n",
       "112XO++8M62trY0aMgDApGip1Wq1Rg/iTNXX15e2trb09vZm+vTpjR4OAPA6+Px2EwgAQHEEIABA\\\n",
       "YQQgAEBhBCAAQGEEIABAYQQgAEBhBCAAQGEEIABAYQQgAEBhBCAAQGEEIABAYQQgAEBhBCAAQGEE\\\n",
       "IABAYQQgAEBhBCAAQGEEIABAYQQgAEBhBCAAQGEEIABAYQQgAEBhBCAAQGEEIABAYQQgAEBhBCAA\\\n",
       "QGEEIABAYQQgAEBhBCAAQGEEIABAYQQgAEBhBGCTqVar6enpOek+PT09qVarkzMgAGDKObvRA+D0\\\n",
       "qVar2bhxY325s7NzxD49PT3p6uoa8h4AoCxmAJvE8Pjr6uoaMRM4PP42btwoAAGgQAKwCQyPvwGD\\\n",
       "I3B4/A0QgQBQnpZarVZr9CDOVH19fWlra0tvb2+mT5/ekDGMFX+DLV68OPv27TvpPhs2bBCCABRh\\\n",
       "Knx+N5oZwDPcrFmzxtzWkY4kqcffwPKp/hwAoLkIwDNcZ2dnuru7R6xflVXZki1ZmZVJkpVZmS3Z\\\n",
       "klVZNWLf7u7uUW8YAQCak1PA4zCVppAHX+PXkY5syZb6tt70pi1t9eWbc3P2ZE8S8QdAeabS53ej\\\n",
       "mAFsEoNnAvdkT7Zma33b4Pjbmq3iDwAKZwZwHKbi3yAuvfTS+jV/O7JjSPz1pjcrsiLJiRtD9u7d\\\n",
       "24ghAkBDTcXP78lmBrCJ9PT01ONvZVYOib/kxEzgwDWB+/bte81vDAEAmpMAbBLDrwFckzX1bb3p\\\n",
       "rf96TdbU7wYe7WHRAEDzE4BNYPhDnvdkT7ZlW5IT1/ytyIr6NYHbsq1+DWAiAgGgRK4BHIepcA3B\\\n",
       "WN/wkZyYCRwce8OXB3NDCAClmAqf341mBvAMd+TIkTG3DcTe4sWLhyyf6s8BAJpL0wbgfffdl+XL\\\n",
       "l2fevHlpaWnJjh07hmyv1WqpVquZN29epk2blmuvvTZPPPFEYwY7DtVqNRs2bBhze3d3d/bu3Tvq\\\n",
       "w6IH+Bo4AChL0wbgsWPHctlll40ZPl//+tfzjW98I93d3XnwwQfT3t6eD3zgAzl69Ogkj3T8xorA\\\n",
       "wad1x/rGEPEHAOU5u9EDmCjLli3LsmXLRt1Wq9XyN3/zN/nCF76Qj370o0mSv//7v8+cOXNy++23\\\n",
       "Z82aNaO+byobiLiNGzcmGf2avoHlgWsGxR8AlKlpA/Bk9u/fn0OHDmXp0qX1dZVKJddcc03uv//+\\\n",
       "MQOwv78//f399eW+vr4JH+upGIi5WbNmjXlDx8D6I0eOiD8AKFSRAXjo0KEkyZw5c4asnzNnTn72\\\n",
       "s5+N+b7NmzfXZ9imqtcTde72BYCyNe01gK9HS0vLkOVarTZi3WDr169Pb29v/XXw4MGJHiIAwGlX\\\n",
       "5Axge3t7khMzgXPnzq2vP3z48IhZwcEqlUoqlcqEjw8AYCIVOQO4cOHCtLe3Z+fOnfV1x48fz65d\\\n",
       "u7JkyZIGjgwAYOI17QzgSy+9lKeffrq+vH///jz66KOZMWNGLrrooqxduzabNm3KokWLsmjRomza\\\n",
       "tCnnnXdePvaxjzVw1AAAE69pA/Chhx7KddddV19et25dkmTVqlXZtm1bbrnllrz88sv51Kc+lRdf\\\n",
       "fDFXXXVV7rnnnrS2tjZqyAAAk8J3AY+D7xIEgDOPz+9CrwEEACiZAAQAKIwABAAojAAEAChM094F\\\n",
       "fKb71/ffmGcuWpqLD9yT//Xj/7fRwwEAmogZwCnqmYuWpv/ct+SZi5Y2eigAQJMRgFPUxQfuSeXX\\\n",
       "L+TiA/c0eigAQJNxCniK+u1p3+sbOg4AoPmYAQQAKIwABAAojAAEACiMAAQAKIwABAAojAAEACiM\\\n",
       "AAQAKIwABAAojAAEABquWq2mp6fnpPv09PSkWq1OzoCanG8CAQAaqlqtZuPGjfXlzs7OEfv09PSk\\\n",
       "q6tryHt448wAAgANMzz+urq6RswEDo+/jRs3CsBxEoAAQEMMj78BgyNwePwNEIHj01Kr1WqNHsSZ\\\n",
       "qq+vL21tbent7c306dMbPRwAOGOMFX+DLV68OPv27TvpPhs2bDjlEPT5bQYQAJggJ7uxY9asWWO+\\\n",
       "ryMdSVKPv4HlU/05jE0AAgCn3cAM32jX9CUnbvS4/vrrR6xflVXZki1ZmZVJkpVZmS3ZklVZNWLf\\\n",
       "7u7uUW8Y4bW5CxgAOK1Gu7EjGXp3b09PT/7xH/9xyPs60pHVWZ0kWZM1WZmVaUtbkmR1VufhPJw9\\\n",
       "2ZNE/I2XGUAA4LQZz40de7InW7O1vjwQf0myNVvF32nkJpBxcBEpAPzW6bqxY0d2DIm/3vRmRVbU\\\n",
       "3793795xjdPntxlAAOA0OR03dgw+7TugLW31awL37dv3mt8YwmsTgADAadHZ2Znu7u4R61/vjR0d\\\n",
       "6ciarKkv96a3/us1WVOPxrFuLOH1E4AAwGkzPAKH39ixIzvqkTd8pm9P9mRbtiU5cc3fiqyoXxO4\\\n",
       "Ldvq1wAmInC8XAM4Dq4hAIDRDb7RY2VWDpnZS5K7clf+d/73qO/tSMeQ2Bu+PNgbuSHE57cZQABg\\\n",
       "AnR2dmbx4sVJku3ZPuR0bpL8Ir8Y870DsTfw/rHiL0mOHDky3qEWSQACAKddT09P/YaP0W7suCk3\\\n",
       "5e15+5jv7+7uzt69e0e9pnDAG/kaOE4QgADAaTX49O/JbuzoTndmZeSdw4NP6451Y4n4Gx8BCACc\\\n",
       "NsMf8vxaN3YcydBTuNdff/2Ia/qGR6D4Gz83gYyDi0gB4LfG+oaP5PTc2NHT05MjR46MO/58fvsu\\\n",
       "YADgNDnZDRmDb+zYt2/fG7qxw9e/nT5OAQMAp0W1Ws2GDRvG3O7GjqlDAAIAp81YEejGjqlFAAIA\\\n",
       "p9XwCBztmj43djSWawABgNNuIOZmzZo15rV7A+tPx40dnBp3AY+Du4gA4Mzj89spYACA4ghAAIDC\\\n",
       "CEAAgMIUG4DVajUtLS1DXu3t7Y0eFgDAhCv6LuC3v/3t+dd//df68pve9KYGjgYAYHIUHYBnn322\\\n",
       "WT8AoDjFngJOkqeeeirz5s3LwoULs3LlyvzXf/1Xo4cEADDhip0BvOqqq/Ld7343l1xySX7xi1/k\\\n",
       "y1/+cpYsWZInnngib3nLW0Z9T39/f/r7++vLfX19kzVcAIDTxoOg/49jx47ld3/3d3PLLbdk3bp1\\\n",
       "o+5TrVazcePGEetLfpAkAGV6x23vSFpqSa0lj//fjzd6OKfEg6ALPwU82Jvf/Oa84x3vyFNPPTXm\\\n",
       "PuvXr09vb2/9dfDgwUkcIQBMIS21pKXlxD854xR7Cni4/v7+7Nu3L+9973vH3KdSqaRSqUziqABg\\\n",
       "iqq1JKn9n39ypik2AD/zmc9k+fLlueiii3L48OF8+ctfTl9fX1atWtXooQHAlHemnfZlqGID8L//\\\n",
       "+7/zp3/6p3n++ecza9asvPvd787u3buzYMGCRg8NAGBCFRuA27dvb/QQAAAawk0gAACFEYAAAIUR\\\n",
       "gAAAhRGAAACFEYAAAIURgAAAhRGAAACFEYAAAIURgAAAhRGAAACFEYAAAIURgAAAhRGAAACFEYAA\\\n",
       "AIURgAAAhRGAAACFEYAAAIURgAAAhRGAAACFEYAAAIURgAAAhRGAAACFEYAAAIURgAAAhRGAAACF\\\n",
       "EYAAAIURgAAAhRGAAACFEYAAAIURgAAAhRGAAACFEYAAAIURgAAAhRGAAACFEYAAAIURgAAAhRGA\\\n",
       "AACFEYAAAIURgAAAhRGAAACFEYAAAIURgAAAhRGAAACFEYAAAIURgAAAhSk+AL/5zW9m4cKFOffc\\\n",
       "c3PFFVfkpz/9aaOHBAAwoYoOwDvvvDNr167NF77whTzyyCN573vfm2XLluXAgQONHhoAwIRpqdVq\\\n",
       "tUYPolGuuuqqXH755bn11lvr6xYvXpwVK1Zk8+bNr/n+vr6+tLW1pbe3N9OnT5/IoQIAp4nP74Jn\\\n",
       "AI8fP56HH344S5cuHbJ+6dKluf/++0d9T39/f/r6+oa8AADONMUG4PPPP59XX301c+bMGbJ+zpw5\\\n",
       "OXTo0Kjv2bx5c9ra2uqv+fPnT8ZQAQBOq2IDcEBLS8uQ5VqtNmLdgPXr16e3t7f+Onjw4GQMEQDg\\\n",
       "tDq70QNolJkzZ+ZNb3rTiNm+w4cPj5gVHFCpVFKpVCZjeAAAE6bYGcBzzjknV1xxRXbu3Dlk/c6d\\\n",
       "O7NkyZIGjQoAYOIVOwOYJOvWrcvHP/7xXHnllbn66qvz7W9/OwcOHMhNN93U6KEBAEyYogPwhhtu\\\n",
       "yAsvvJAvfelLee6559LR0ZG77747CxYsaPTQAAAmTNHPARwvzxECgDOPz++CrwEEACiVAAQAKIwA\\\n",
       "BAAojAAEACiMAAQAKIwABAAojAAEACiMAAQAKIwAbFLVajU9PT0n3aenpyfVanVyBgQATBlFfxVc\\\n",
       "s6pWq9m4cWN9ubOzc8Q+PT096erqGvIeAKAMZgCbzPD46+rqGjETODz+Nm7cKAABoCACsIkMj78B\\\n",
       "gyNwePwNEIEAUI6WWq1Wa/QgzlRT6cukx4q/wRYvXpx9+/addJ8NGzYIQQCa2lT6/G4UM4BNYtas\\\n",
       "WWNu60hHktTjb2D5VH8OANAcBGCT6OzsTHd394j1q7IqW7IlK7MySbIyK7MlW7Iqq0bs293dPeoN\\\n",
       "IwBAc3EKeBym4hTy4Gv8OtKRLdlS39ab3rSlrb58c27OnuxJIv4AKMdU/PyebGYAm8zgmcA92ZOt\\\n",
       "2VrfNjj+tmar+AOAQgnAJtTZ2ZnFixcnSbZne3rTO2R7b3qzPduTnLgxRPwBJfLAfErmQdBNqKen\\\n",
       "p37Dx8qsHDLzl5yYCVyZldme7dm3b196enpEIFAUD8yndGYAm8zwawDXZE192+CZwDVZU78beLSH\\\n",
       "RQM0Kw/MBwHYVIb/gbUne7It25KcuOZvRVbUrwnclm31awATEQiUwQPz4QR3AY/DVLqLaKw/sJIT\\\n",
       "M4GDY2/48mBuCAGalQfmM2AqfX43ihnAJnHkyJExtw3E3sCNIWPF32v9HIAzmQfmw28JwCZRrVaz\\\n",
       "YcOGMbd3d3dn7969oz4seoC/1QLNzAPz4becAh6HqTiFPNopjuF/YI12ulj8AaXwwHym4uf3ZDMD\\\n",
       "2GSGzwSO9gfW8L8Fiz+gJB6YD2YAx2Uq/w2iWq1m1qxZJ/0Dq6enJ0eOHBF/QJEuvfTS+jV/O7Jj\\\n",
       "SPz1pjcrsiLJieun9+7d24ghMkGm8uf3ZBGA4+A/IIAz0+DTwCuzcsgzUwdszdb6tyaZAWwuPr+d\\\n",
       "AgagMB6YDwIQgIJ4YD6c4BTwOJhCBjhzeGA+A3x+mwEEoBAemA+/JQABKIIH5sNvCUAAijFWBA4+\\\n",
       "rTvWN4aIP5qJAASgKB6YD8nZjR4AAEy2gZg72QPzB9Z7YD7NyF3A4+AuIgA48/j8dgoYAKA4TgFP\\\n",
       "UT03/bj+685vvb+BIwEAmo0ZQACAwghAAIDCOAU8RTntCwBMFDOAAACFEYAAAIUpNgAvvvjitLS0\\\n",
       "DHl97nOfa/SwAAAmXNHXAH7pS1/KjTfeWF8+//zzGzgaAIDJUXQAtra2pr29vdHDAACYVMWeAk6S\\\n",
       "r33ta3nLW96S3//9389XvvKVHD9+vNFDAgCYcMXOAP7FX/xFLr/88lxwwQX5j//4j6xfvz779+/P\\\n",
       "d77znTHf09/fn/7+/vpyX1/fZAwVgLFU2wb9urdx44AzTFPNAFar1RE3dgx/PfTQQ0mST3/607nm\\\n",
       "mmvyzne+M5/4xCfyrW99K3/3d3+XF154Ycyfv3nz5rS1tdVf8+fPn6x/NQCA06alVqvVGj2I0+X5\\\n",
       "55/P888/f9J9Lr744px77rkj1v/85z/PhRdemN27d+eqq64a9b2jzQDOnz8/vb29mT59+vgGD8Cp\\\n",
       "MwPIG9DX15e2traiP7+b6hTwzJkzM3PmzDf03kceeSRJMnfu3DH3qVQqqVQqb+jnAzABRB+8IU0V\\\n",
       "gK/XAw88kN27d+e6665LW1tbHnzwwXz605/OH//xH+eiiy5q9PAAACZUkQFYqVRy5513ZuPGjenv\\\n",
       "78+CBQty44035pZbbmn00AAAJlyRAXj55Zdn9+7djR4GAEBDNNVdwAAAvDYBCABQGAEIAFAYAQgA\\\n",
       "UBgBCABQGAEIAFAYAQgAUBgBCABQGAEIAFAYAQgAUJgivwrudKnVakmSvr6+Bo8EAHi9Bj63Bz7H\\\n",
       "SyQAx+Ho0aNJkvnz5zd4JADAqTp69Gja2toaPYyGaKmVnL/j9Jvf/CbPPvtsWltb09LS0ujhnPH6\\\n",
       "+voyf/78HDx4MNOnT2/0cIrneEwtjsfU4nhMLad6PGq1Wo4ePZp58+blrLPKvBrODOA4nHXWWbnw\\\n",
       "wgsbPYymM336dH+gTiGOx9TieEwtjsfUcirHo9SZvwFlZi8AQMEEIABAYQQgU0alUsmGDRtSqVQa\\\n",
       "PRTieEw1jsfU4nhMLY7HqXMTCABAYcwAAgAURgACABRGAAIAFEYAAgAURgAyJXzlK1/JkiVLct55\\\n",
       "5+V3fud3Rt3nwIEDWb58ed785jdn5syZ+fM///McP358cgdakG9+85tZuHBhzj333FxxxRX56U9/\\\n",
       "2ughFeG+++7L8uXLM2/evLS0tGTHjh1DttdqtVSr1cybNy/Tpk3LtddemyeeeKIxg21ymzdvzrve\\\n",
       "9a60trZm9uzZWbFiRZ588skh+zgek+fWW2/NO9/5zvrDnq+++ur86Ec/qm93LE6NAGRKOH78eK6/\\\n",
       "/vp88pOfHHX7q6++mg996EM5duxY/u3f/i3bt2/PP/3TP+Uv//IvJ3mkZbjzzjuzdu3afOELX8gj\\\n",
       "jzyS9773vVm2bFkOHDjQ6KE1vWPHjuWyyy5Ld3f3qNu//vWv5xvf+Ea6u7vz4IMPpr29PR/4wAfq\\\n",
       "303O6bNr1650dnZm9+7d2blzZ1555ZUsXbo0x44dq+/jeEyeCy+8MF/96lfz0EMP5aGHHsr73//+\\\n",
       "fPjDH65HnmNximowhdx22221tra2Eevvvvvu2llnnVX7+c9/Xl93xx131CqVSq23t3cSR1iGP/iD\\\n",
       "P6jddNNNQ9a97W1vq33uc59r0IjKlKR211131Zd/85vf1Nrb22tf/epX6+t+/etf19ra2mrf+ta3\\\n",
       "GjDCshw+fLiWpLZr165areZ4TAUXXHBB7Tvf+Y5j8QaYAeSM8MADD6SjoyPz5s2rr/ujP/qj9Pf3\\\n",
       "5+GHH27gyJrP8ePH8/DDD2fp0qVD1i9dujT3339/g0ZFkuzfvz+HDh0acmwqlUquueYax2YS9Pb2\\\n",
       "JklmzJiRxPFopFdffTXbt2/PsWPHcvXVVzsWb4AA5Ixw6NChzJkzZ8i6Cy64IOecc04OHTrUoFE1\\\n",
       "p+effz6vvvrqiN/vOXPm+L1usIHff8dm8tVqtaxbty7vec970tHRkcTxaITHH388559/fiqVSm66\\\n",
       "6abcddddufTSSx2LN0AAMmGq1WpaWlpO+nrooYde989raWkZsa5Wq426nvEb/vvq93rqcGwmX1dX\\\n",
       "Vx577LHccccdI7Y5HpPn937v9/Loo49m9+7d+eQnP5lVq1Zl79699e2Oxet3dqMHQPPq6urKypUr\\\n",
       "T7rPxRdf/Lp+Vnt7e/793/99yLoXX3wx//M//zPib3yMz8yZM/OmN71pxN+aDx8+7Pe6wdrb25Oc\\\n",
       "mHmaO3dufb1jM7Fuvvnm/OAHP8h9992XCy+8sL7e8Zh855xzTt761rcmSa688so8+OCD+du//dt8\\\n",
       "9rOfTeJYnAozgEyYmTNn5m1ve9tJX+eee+7r+llXX3119uzZk+eee66+7p577kmlUskVV1wxUf8K\\\n",
       "RTrnnHNyxRVXZOfOnUPW79y5M0uWLGnQqEiShQsXpr29fcixOX78eHbt2uXYTIBarZaurq5873vf\\\n",
       "y49//OMsXLhwyHbHo/FqtVr6+/sdizfADCBTwoEDB/LLX/4yBw4cyKuvvppHH300SfLWt741559/\\\n",
       "fpYuXZpLL700H//4x/PXf/3X+eUvf5nPfOYzufHGGzN9+vTGDr4JrVu3Lh//+Mdz5ZVX5uqrr863\\\n",
       "v/3tHDhwIDfddFOjh9b0XnrppTz99NP15f379+fRRx/NjBkzctFFF2Xt2rXZtGlTFi1alEWLFmXT\\\n",
       "pk0577zz8rGPfayBo25OnZ2duf322/P9738/ra2t9Vnxtra2TJs2LS0tLY7HJPr85z+fZcuWZf78\\\n",
       "+Tl69Gi2b9+ee++9N//8z//sWLwRjbsBGX5r1apVtSQjXj/5yU/q+/zsZz+rfehDH6pNmzatNmPG\\\n",
       "jFpXV1ft17/+deMG3eR6enpqCxYsqJ1zzjm1yy+/vP7oCybWT37yk1H/X1i1alWtVjvx6JENGzbU\\\n",
       "2tvba5VKpfa+972v9vjjjzd20E1qtOOQpHbbbbfV93E8Js+f/dmf1f9MmjVrVu0P//APa/fcc099\\\n",
       "u2NxalpqtVpt8rMTAIBGcQ0gAEBhBCAAQGEEIABAYQQgAEBhBCAAQGEEIABAYQQgAEBhBCAAQGEE\\\n",
       "IABAYQQgAEBhBCAAQGEEIABAYQQgAEBhBCAAQGEEIABAYQQgAEBhBCAAQGEEIABAYQQgAEBhBCAA\\\n",
       "QGEEIABAYQQgAEBhBCAAQGEEIABAYQQgAEBhBCAAQGEEIABAYQQgAEBhBCAAQGEEIABAYQQgAEBh\\\n",
       "/n8Gg4aSHc8PywAAAABJRU5ErkJggg==\\\n",
       "\"\n",
       "  frames[4] = \"data:image/png;base64,iVBORw0KGgoAAAANSUhEUgAAAoAAAAHgCAYAAAA10dzkAAAAOXRFWHRTb2Z0d2FyZQBNYXRwbG90\\\n",
       "bGliIHZlcnNpb24zLjYuMSwgaHR0cHM6Ly9tYXRwbG90bGliLm9yZy/av/WaAAAACXBIWXMAAA9h\\\n",
       "AAAPYQGoP6dpAAAlJElEQVR4nO3df6zedWH//ddBwkWR0zNqf5w2lNLMMotHWQCHNCrgvnY23p3V\\\n",
       "hdCZmPZeJEXPYaudQasxveq0VZfbbN+eI9bbhc4sULJMqrnFjS5KcYFuQCBQ2jDIiu2E2oJ4Tmnw\\\n",
       "dOB1/9HvuTw/C+X0nOv0ej8eyRX6+XGdvOkHej37/vy4Wmq1Wi0AABTjrEYPAACAySUAAQAKIwAB\\\n",
       "AAojAAEACiMAAQAKIwABAAojAAEACiMAAQAKIwABAAojAAEACiMAAQAKIwABAAojAAEACiMAAQAK\\\n",
       "IwABAAojAAEACiMAAQAKIwABAAojAAEACiMAAQAKIwABAAojAAEACiMAAQAKIwABAAojAAEACiMA\\\n",
       "AQAKIwABAAojAAEACiMAAQAKIwABAAojAAEACiMAAQAKIwABAAojAAEACiMAAQAKIwABAAojAAEA\\\n",
       "CiMAAQAKIwABAAojAAEACiMAAQAKIwABAAojAAEACiMAAQAKIwABAAojAAEACiMAAQAKIwABAAoj\\\n",
       "AAEACiMAAQAKIwABAAojAAEACiMAAQAKIwABAAojAAEACiMAAQAKc3ajB3Am+81vfpNnn302ra2t\\\n",
       "aWlpafRwAIDXoVar5ejRo5k3b17OOqvMuTABOA7PPvts5s+f3+hhAABvwMGDB3PhhRc2ehgNIQDH\\\n",
       "obW1NcmJ/4CmT5/e4NEAAK9HX19f5s+fX/8cL5EAHIeB077Tp08XgABwhin58q0yT3wDABRMAAIA\\\n",
       "FEYAAgAURgACABRGAPKaqtVqenp6TrpPT09PqtXq5AwIABgXdwFzUtVqNRs3bqwvd3Z2jtinp6cn\\\n",
       "XV1dQ94DAExdZgAZ0/D46+rqGjETODz+Nm7cKAABYIoTgIxqePwNGByBw+NvgAgEgKmtpVar1Ro9\\\n",
       "iDNVX19f2tra0tvb21QPgh4r/gZbvHhx9u3bd9J9NmzYIAQBmHKa9fP7VJgBZIRZs2aNua0jHUlS\\\n",
       "j7+B5VP9OQBA4whARujs7Ex3d/eI9auyKluyJSuzMkmyMiuzJVuyKqtG7Nvd3T3qDSMAQOM1bQBu\\\n",
       "3rw573rXu9La2prZs2dnxYoVefLJJ4fss3r16rS0tAx5vfvd727QiKeW4RHYkY6szuokyZqsyY7s\\\n",
       "yJqsSZKszuohM4HiDwCmtqYNwF27dqWzszO7d+/Ozp0788orr2Tp0qU5duzYkP0++MEP5rnnnqu/\\\n",
       "7r777gaNeOoZHIF7sidbs7W+rS1t9V9vzdbsyZ4k4g8AzgTF3ARy5MiRzJ49O7t27cr73ve+JCdm\\\n",
       "AH/1q19lx44db+hnlnIR6aWXXlq/5m9HdgyJv970ZkVWJDlxY8jevXsbMUQAeN1K+fw+maadARyu\\\n",
       "t7c3STJjxowh6++9997Mnj07l1xySW688cYcPny4EcObsnp6eurxtzIrh8RfcmImcOCawH379r3m\\\n",
       "N4YAAI1XxAxgrVbLhz/84bz44ov56U9/Wl9/55135vzzz8+CBQuyf//+fPGLX8wrr7yShx9+OJVK\\\n",
       "ZcTP6e/vT39/f325r68v8+fPb9q/QQx+zl9HOrIlW+rbetM7JAZvzs1OAwNwRjADWMgMYFdXVx57\\\n",
       "7LHccccdQ9bfcMMN+dCHPpSOjo4sX748P/rRj/Kf//mf+eEPfzjqz9m8eXPa2trqr/nz50/G8Bti\\\n",
       "+EOe92RPtmVbkhPX/K3Iivo1gduyrR5/yejfGAIATB1NPwN48803Z8eOHbnvvvuycOHC19x/0aJF\\\n",
       "+cQnPpHPfvazI7aVMgM41jd8JCdmAgfH3vDlwcwEAjAVmQFMzm70ACZKrVbLzTffnLvuuiv33nvv\\\n",
       "64q/F154IQcPHszcuXNH3V6pVEY9Ndxsjhw5Mua2gdgb+CaQseLvtX4OANA4TXsKuLOzM//wD/+Q\\\n",
       "22+/Pa2trTl06FAOHTqUl19+OUny0ksv5TOf+UweeOCBPPPMM7n33nuzfPnyzJw5Mx/5yEcaPPrG\\\n",
       "qlar2bBhw5jbu7u7s3fv3lEfFj3A18ABwNTVtKeAW1paRl1/2223ZfXq1Xn55ZezYsWKPPLII/nV\\\n",
       "r36VuXPn5rrrrstf/dVfve5r+5p9Cnm07wQeflp3tNPF4g+AqazZP79fj6Y+BXwy06ZNy7/8y79M\\\n",
       "0mjOTAMRNxCBo13TN7A8EIHiDwCmvqYNQE6PgZibNWvWmDd0DKw/cuSI+AOAM0DTngKeDKaQAeDM\\\n",
       "4/O7iW8CAQBgdAIQAKAwAhAAoDACEACgMAIQAKAwAhAAoDACEACgMAIQAKAwAhAAoDACEACgML4L\\\n",
       "uMn9Pzf8X/Vf/+Wd/18DRwIATBVmAAEACiMAAQAK4xRwk3PaFwAYzgwgAEBhBCAAQGEEIABAYQQg\\\n",
       "AEBhBCAAQGEEIABAYQQgAEBhBCAAQGEEIABAYQQgAEBhBCAAQGEEIABAYQQgAEBhBCAAQGEEIABA\\\n",
       "YQQgAEBhBCAAQGEEIABAYQQgAEBhBCAAQGEEIABAYQQgAEBhBCAAQGEEIABAYQQgAEBhBCAAQGEE\\\n",
       "IABAYQQgAEBhBCAAQGGaNgA3b96cd73rXWltbc3s2bOzYsWKPPnkk0P2qdVqqVarmTdvXqZNm5Zr\\\n",
       "r702TzzxRINGDAAwOZo2AHft2pXOzs7s3r07O3fuzCuvvJKlS5fm2LFj9X2+/vWv5xvf+Ea6u7vz\\\n",
       "4IMPpr29PR/4wAdy9OjRBo4cAGBitdRqtVqjBzEZjhw5ktmzZ2fXrl153/vel1qtlnnz5mXt2rX5\\\n",
       "7Gc/myTp7+/PnDlz8rWvfS1r1qx5zZ/Z19eXtra29Pb2Zvr06RP9rwAAnAY+v5t4BnC43t7eJMmM\\\n",
       "GTOSJPv378+hQ4eydOnS+j6VSiXXXHNN7r///lF/Rn9/f/r6+oa8AADONEUEYK1Wy7p16/Ke97wn\\\n",
       "HR0dSZJDhw4lSebMmTNk3zlz5tS3Dbd58+a0tbXVX/Pnz5/YgQMATIAiArCrqyuPPfZY7rjjjhHb\\\n",
       "WlpahizXarUR6wasX78+vb299dfBgwcnZLwAABPp7EYPYKLdfPPN+cEPfpD77rsvF154YX19e3t7\\\n",
       "khMzgXPnzq2vP3z48IhZwQGVSiWVSmViBwwAMMGadgawVqulq6sr3/ve9/LjH/84CxcuHLJ94cKF\\\n",
       "aW9vz86dO+vrjh8/nl27dmXJkiWTPVwAgEnTtDOAnZ2duf322/P9738/ra2t9ev62traMm3atLS0\\\n",
       "tGTt2rXZtGlTFi1alEWLFmXTpk0577zz8rGPfazBowcAmDhNG4C33nprkuTaa68dsv62227L6tWr\\\n",
       "kyS33HJLXn755XzqU5/Kiy++mKuuuir33HNPWltbJ3m0AACTp5jnAE4EzxECgDOPz+8mvgYQAIDR\\\n",
       "CUAAgMIIQACAwghAAIDCCEAAgMIIQACAwghAAIDCCEAAgMIIQACAwghAAIDCCEAAgMIIQACAwghA\\\n",
       "AIDCCEAAgMIIQACAwghAAIDCCEAAgMIIQACAwghAAIDCCEAAgMIIQACAwghAAIDCCEAAgMIIQACA\\\n",
       "wghAAIDCCEAAgMIIQACAwghAAIDCCEAAgMIIQACAwghAAIDCCEAAgMIIQACAwghAAIDCCEAAgMII\\\n",
       "QACAwghAAIDCCEAAgMIIQACAwghAAIDCCEAAgMIIQACAwghAAIDCCEAAgMI0bQDed999Wb58eebN\\\n",
       "m5eWlpbs2LFjyPbVq1enpaVlyOvd7353YwYLADCJmjYAjx07lssuuyzd3d1j7vPBD34wzz33XP11\\\n",
       "9913T+IIAQAa4+xGD2CiLFu2LMuWLTvpPpVKJe3t7ZM0IgCAqaFpZwBfj3vvvTezZ8/OJZdckhtv\\\n",
       "vDGHDx9u9JAAACZc084AvpZly5bl+uuvz4IFC7J///588YtfzPvf//48/PDDqVQqo76nv78//f39\\\n",
       "9eW+vr7JGi4AwGlTbADecMMN9V93dHTkyiuvzIIFC/LDH/4wH/3oR0d9z+bNm7Nx48bJGiIAwIQo\\\n",
       "+hTwYHPnzs2CBQvy1FNPjbnP+vXr09vbW38dPHhwEkcIAHB6FDsDONwLL7yQgwcPZu7cuWPuU6lU\\\n",
       "xjw9DABwpmjaAHzppZfy9NNP15f379+fRx99NDNmzMiMGTNSrVbzJ3/yJ5k7d26eeeaZfP7zn8/M\\\n",
       "mTPzkY98pIGjBgCYeE0bgA899FCuu+66+vK6deuSJKtWrcqtt96axx9/PN/97nfzq1/9KnPnzs11\\\n",
       "112XO++8M62trY0aMgDApGip1Wq1Rg/iTNXX15e2trb09vZm+vTpjR4OAPA6+Px2EwgAQHEEIABA\\\n",
       "YQQgAEBhBCAAQGEEIABAYQQgAEBhBCAAQGEEIABAYQQgAEBhBCAAQGEEIABAYQQgAEBhBCAAQGEE\\\n",
       "IABAYQQgAEBhBCAAQGEEIABAYQQgAEBhBCAAQGEEIABAYQQgAEBhBCAAQGEEIABAYQQgAEBhBCAA\\\n",
       "QGEEIABAYQQgAEBhBCAAQGEEIABAYQQgAEBhBGCTqVar6enpOek+PT09qVarkzMgAGDKObvRA+D0\\\n",
       "qVar2bhxY325s7NzxD49PT3p6uoa8h4AoCxmAJvE8Pjr6uoaMRM4PP42btwoAAGgQAKwCQyPvwGD\\\n",
       "I3B4/A0QgQBQnpZarVZr9CDOVH19fWlra0tvb2+mT5/ekDGMFX+DLV68OPv27TvpPhs2bBCCABRh\\\n",
       "Knx+N5oZwDPcrFmzxtzWkY4kqcffwPKp/hwAoLkIwDNcZ2dnuru7R6xflVXZki1ZmZVJkpVZmS3Z\\\n",
       "klVZNWLf7u7uUW8YAQCak1PA4zCVppAHX+PXkY5syZb6tt70pi1t9eWbc3P2ZE8S8QdAeabS53ej\\\n",
       "mAFsEoNnAvdkT7Zma33b4Pjbmq3iDwAKZwZwHKbi3yAuvfTS+jV/O7JjSPz1pjcrsiLJiRtD9u7d\\\n",
       "24ghAkBDTcXP78lmBrCJ9PT01ONvZVYOib/kxEzgwDWB+/bte81vDAEAmpMAbBLDrwFckzX1bb3p\\\n",
       "rf96TdbU7wYe7WHRAEDzE4BNYPhDnvdkT7ZlW5IT1/ytyIr6NYHbsq1+DWAiAgGgRK4BHIepcA3B\\\n",
       "WN/wkZyYCRwce8OXB3NDCAClmAqf341mBvAMd+TIkTG3DcTe4sWLhyyf6s8BAJpL0wbgfffdl+XL\\\n",
       "l2fevHlpaWnJjh07hmyv1WqpVquZN29epk2blmuvvTZPPPFEYwY7DtVqNRs2bBhze3d3d/bu3Tvq\\\n",
       "w6IH+Bo4AChL0wbgsWPHctlll40ZPl//+tfzjW98I93d3XnwwQfT3t6eD3zgAzl69Ogkj3T8xorA\\\n",
       "wad1x/rGEPEHAOU5u9EDmCjLli3LsmXLRt1Wq9XyN3/zN/nCF76Qj370o0mSv//7v8+cOXNy++23\\\n",
       "Z82aNaO+byobiLiNGzcmGf2avoHlgWsGxR8AlKlpA/Bk9u/fn0OHDmXp0qX1dZVKJddcc03uv//+\\\n",
       "MQOwv78//f399eW+vr4JH+upGIi5WbNmjXlDx8D6I0eOiD8AKFSRAXjo0KEkyZw5c4asnzNnTn72\\\n",
       "s5+N+b7NmzfXZ9imqtcTde72BYCyNe01gK9HS0vLkOVarTZi3WDr169Pb29v/XXw4MGJHiIAwGlX\\\n",
       "5Axge3t7khMzgXPnzq2vP3z48IhZwcEqlUoqlcqEjw8AYCIVOQO4cOHCtLe3Z+fOnfV1x48fz65d\\\n",
       "u7JkyZIGjgwAYOI17QzgSy+9lKeffrq+vH///jz66KOZMWNGLrrooqxduzabNm3KokWLsmjRomza\\\n",
       "tCnnnXdePvaxjzVw1AAAE69pA/Chhx7KddddV19et25dkmTVqlXZtm1bbrnllrz88sv51Kc+lRdf\\\n",
       "fDFXXXVV7rnnnrS2tjZqyAAAk8J3AY+D7xIEgDOPz+9CrwEEACiZAAQAKIwABAAojAAEAChM094F\\\n",
       "fKb71/ffmGcuWpqLD9yT//Xj/7fRwwEAmogZwCnqmYuWpv/ct+SZi5Y2eigAQJMRgFPUxQfuSeXX\\\n",
       "L+TiA/c0eigAQJNxCniK+u1p3+sbOg4AoPmYAQQAKIwABAAojAAEACiMAAQAKIwABAAojAAEACiM\\\n",
       "AAQAKIwABAAojAAEABquWq2mp6fnpPv09PSkWq1OzoCanG8CAQAaqlqtZuPGjfXlzs7OEfv09PSk\\\n",
       "q6tryHt448wAAgANMzz+urq6RswEDo+/jRs3CsBxEoAAQEMMj78BgyNwePwNEIHj01Kr1WqNHsSZ\\\n",
       "qq+vL21tbent7c306dMbPRwAOGOMFX+DLV68OPv27TvpPhs2bDjlEPT5bQYQAJggJ7uxY9asWWO+\\\n",
       "ryMdSVKPv4HlU/05jE0AAgCn3cAM32jX9CUnbvS4/vrrR6xflVXZki1ZmZVJkpVZmS3ZklVZNWLf\\\n",
       "7u7uUW8Y4bW5CxgAOK1Gu7EjGXp3b09PT/7xH/9xyPs60pHVWZ0kWZM1WZmVaUtbkmR1VufhPJw9\\\n",
       "2ZNE/I2XGUAA4LQZz40de7InW7O1vjwQf0myNVvF32nkJpBxcBEpAPzW6bqxY0d2DIm/3vRmRVbU\\\n",
       "3793795xjdPntxlAAOA0OR03dgw+7TugLW31awL37dv3mt8YwmsTgADAadHZ2Znu7u4R61/vjR0d\\\n",
       "6ciarKkv96a3/us1WVOPxrFuLOH1E4AAwGkzPAKH39ixIzvqkTd8pm9P9mRbtiU5cc3fiqyoXxO4\\\n",
       "Ldvq1wAmInC8XAM4Dq4hAIDRDb7RY2VWDpnZS5K7clf+d/73qO/tSMeQ2Bu+PNgbuSHE57cZQABg\\\n",
       "AnR2dmbx4sVJku3ZPuR0bpL8Ir8Y870DsTfw/rHiL0mOHDky3qEWSQACAKddT09P/YaP0W7suCk3\\\n",
       "5e15+5jv7+7uzt69e0e9pnDAG/kaOE4QgADAaTX49O/JbuzoTndmZeSdw4NP6451Y4n4Gx8BCACc\\\n",
       "NsMf8vxaN3YcydBTuNdff/2Ia/qGR6D4Gz83gYyDi0gB4LfG+oaP5PTc2NHT05MjR46MO/58fvsu\\\n",
       "YADgNDnZDRmDb+zYt2/fG7qxw9e/nT5OAQMAp0W1Ws2GDRvG3O7GjqlDAAIAp81YEejGjqlFAAIA\\\n",
       "p9XwCBztmj43djSWawABgNNuIOZmzZo15rV7A+tPx40dnBp3AY+Du4gA4Mzj89spYACA4ghAAIDC\\\n",
       "CEAAgMIUG4DVajUtLS1DXu3t7Y0eFgDAhCv6LuC3v/3t+dd//df68pve9KYGjgYAYHIUHYBnn322\\\n",
       "WT8AoDjFngJOkqeeeirz5s3LwoULs3LlyvzXf/1Xo4cEADDhip0BvOqqq/Ld7343l1xySX7xi1/k\\\n",
       "y1/+cpYsWZInnngib3nLW0Z9T39/f/r7++vLfX19kzVcAIDTxoOg/49jx47ld3/3d3PLLbdk3bp1\\\n",
       "o+5TrVazcePGEetLfpAkAGV6x23vSFpqSa0lj//fjzd6OKfEg6ALPwU82Jvf/Oa84x3vyFNPPTXm\\\n",
       "PuvXr09vb2/9dfDgwUkcIQBMIS21pKXlxD854xR7Cni4/v7+7Nu3L+9973vH3KdSqaRSqUziqABg\\\n",
       "iqq1JKn9n39ypik2AD/zmc9k+fLlueiii3L48OF8+ctfTl9fX1atWtXooQHAlHemnfZlqGID8L//\\\n",
       "+7/zp3/6p3n++ecza9asvPvd787u3buzYMGCRg8NAGBCFRuA27dvb/QQAAAawk0gAACFEYAAAIUR\\\n",
       "gAAAhRGAAACFEYAAAIURgAAAhRGAAACFEYAAAIURgAAAhRGAAACFEYAAAIURgAAAhRGAAACFEYAA\\\n",
       "AIURgAAAhRGAAACFEYAAAIURgAAAhRGAAACFEYAAAIURgAAAhRGAAACFEYAAAIURgAAAhRGAAACF\\\n",
       "EYAAAIURgAAAhRGAAACFEYAAAIURgAAAhRGAAACFEYAAAIURgAAAhRGAAACFEYAAAIURgAAAhRGA\\\n",
       "AACFEYAAAIURgAAAhRGAAACFEYAAAIURgAAAhRGAAACFEYAAAIURgAAAhSk+AL/5zW9m4cKFOffc\\\n",
       "c3PFFVfkpz/9aaOHBAAwoYoOwDvvvDNr167NF77whTzyyCN573vfm2XLluXAgQONHhoAwIRpqdVq\\\n",
       "tUYPolGuuuqqXH755bn11lvr6xYvXpwVK1Zk8+bNr/n+vr6+tLW1pbe3N9OnT5/IoQIAp4nP74Jn\\\n",
       "AI8fP56HH344S5cuHbJ+6dKluf/++0d9T39/f/r6+oa8AADONMUG4PPPP59XX301c+bMGbJ+zpw5\\\n",
       "OXTo0Kjv2bx5c9ra2uqv+fPnT8ZQAQBOq2IDcEBLS8uQ5VqtNmLdgPXr16e3t7f+Onjw4GQMEQDg\\\n",
       "tDq70QNolJkzZ+ZNb3rTiNm+w4cPj5gVHFCpVFKpVCZjeAAAE6bYGcBzzjknV1xxRXbu3Dlk/c6d\\\n",
       "O7NkyZIGjQoAYOIVOwOYJOvWrcvHP/7xXHnllbn66qvz7W9/OwcOHMhNN93U6KEBAEyYogPwhhtu\\\n",
       "yAsvvJAvfelLee6559LR0ZG77747CxYsaPTQAAAmTNHPARwvzxECgDOPz++CrwEEACiVAAQAKIwA\\\n",
       "BAAojAAEACiMAAQAKIwABAAojAAEACiMAAQAKIwAbFLVajU9PT0n3aenpyfVanVyBgQATBlFfxVc\\\n",
       "s6pWq9m4cWN9ubOzc8Q+PT096erqGvIeAKAMZgCbzPD46+rqGjETODz+Nm7cKAABoCACsIkMj78B\\\n",
       "gyNwePwNEIEAUI6WWq1Wa/QgzlRT6cukx4q/wRYvXpx9+/addJ8NGzYIQQCa2lT6/G4UM4BNYtas\\\n",
       "WWNu60hHktTjb2D5VH8OANAcBGCT6OzsTHd394j1q7IqW7IlK7MySbIyK7MlW7Iqq0bs293dPeoN\\\n",
       "IwBAc3EKeBym4hTy4Gv8OtKRLdlS39ab3rSlrb58c27OnuxJIv4AKMdU/PyebGYAm8zgmcA92ZOt\\\n",
       "2VrfNjj+tmar+AOAQgnAJtTZ2ZnFixcnSbZne3rTO2R7b3qzPduTnLgxRPwBJfLAfErmQdBNqKen\\\n",
       "p37Dx8qsHDLzl5yYCVyZldme7dm3b196enpEIFAUD8yndGYAm8zwawDXZE192+CZwDVZU78beLSH\\\n",
       "RQM0Kw/MBwHYVIb/gbUne7It25KcuOZvRVbUrwnclm31awATEQiUwQPz4QR3AY/DVLqLaKw/sJIT\\\n",
       "M4GDY2/48mBuCAGalQfmM2AqfX43ihnAJnHkyJExtw3E3sCNIWPF32v9HIAzmQfmw28JwCZRrVaz\\\n",
       "YcOGMbd3d3dn7969oz4seoC/1QLNzAPz4becAh6HqTiFPNopjuF/YI12ulj8AaXwwHym4uf3ZDMD\\\n",
       "2GSGzwSO9gfW8L8Fiz+gJB6YD2YAx2Uq/w2iWq1m1qxZJ/0Dq6enJ0eOHBF/QJEuvfTS+jV/O7Jj\\\n",
       "SPz1pjcrsiLJieun9+7d24ghMkGm8uf3ZBGA4+A/IIAz0+DTwCuzcsgzUwdszdb6tyaZAWwuPr+d\\\n",
       "AgagMB6YDwIQgIJ4YD6c4BTwOJhCBjhzeGA+A3x+mwEEoBAemA+/JQABKIIH5sNvCUAAijFWBA4+\\\n",
       "rTvWN4aIP5qJAASgKB6YD8nZjR4AAEy2gZg72QPzB9Z7YD7NyF3A4+AuIgA48/j8dgoYAKA4TgFP\\\n",
       "UT03/bj+685vvb+BIwEAmo0ZQACAwghAAIDCOAU8RTntCwBMFDOAAACFEYAAAIUpNgAvvvjitLS0\\\n",
       "DHl97nOfa/SwAAAmXNHXAH7pS1/KjTfeWF8+//zzGzgaAIDJUXQAtra2pr29vdHDAACYVMWeAk6S\\\n",
       "r33ta3nLW96S3//9389XvvKVHD9+vNFDAgCYcMXOAP7FX/xFLr/88lxwwQX5j//4j6xfvz779+/P\\\n",
       "d77znTHf09/fn/7+/vpyX1/fZAwVgLFU2wb9urdx44AzTFPNAFar1RE3dgx/PfTQQ0mST3/607nm\\\n",
       "mmvyzne+M5/4xCfyrW99K3/3d3+XF154Ycyfv3nz5rS1tdVf8+fPn6x/NQCA06alVqvVGj2I0+X5\\\n",
       "55/P888/f9J9Lr744px77rkj1v/85z/PhRdemN27d+eqq64a9b2jzQDOnz8/vb29mT59+vgGD8Cp\\\n",
       "MwPIG9DX15e2traiP7+b6hTwzJkzM3PmzDf03kceeSRJMnfu3DH3qVQqqVQqb+jnAzABRB+8IU0V\\\n",
       "gK/XAw88kN27d+e6665LW1tbHnzwwXz605/OH//xH+eiiy5q9PAAACZUkQFYqVRy5513ZuPGjenv\\\n",
       "78+CBQty44035pZbbmn00AAAJlyRAXj55Zdn9+7djR4GAEBDNNVdwAAAvDYBCABQGAEIAFAYAQgA\\\n",
       "UBgBCABQGAEIAFAYAQgAUBgBCABQGAEIAFAYAQgAUJgivwrudKnVakmSvr6+Bo8EAHi9Bj63Bz7H\\\n",
       "SyQAx+Ho0aNJkvnz5zd4JADAqTp69Gja2toaPYyGaKmVnL/j9Jvf/CbPPvtsWltb09LS0ujhnPH6\\\n",
       "+voyf/78HDx4MNOnT2/0cIrneEwtjsfU4nhMLad6PGq1Wo4ePZp58+blrLPKvBrODOA4nHXWWbnw\\\n",
       "wgsbPYymM336dH+gTiGOx9TieEwtjsfUcirHo9SZvwFlZi8AQMEEIABAYQQgU0alUsmGDRtSqVQa\\\n",
       "PRTieEw1jsfU4nhMLY7HqXMTCABAYcwAAgAURgACABRGAAIAFEYAAgAURgAyJXzlK1/JkiVLct55\\\n",
       "5+V3fud3Rt3nwIEDWb58ed785jdn5syZ+fM///McP358cgdakG9+85tZuHBhzj333FxxxRX56U9/\\\n",
       "2ughFeG+++7L8uXLM2/evLS0tGTHjh1DttdqtVSr1cybNy/Tpk3LtddemyeeeKIxg21ymzdvzrve\\\n",
       "9a60trZm9uzZWbFiRZ588skh+zgek+fWW2/NO9/5zvrDnq+++ur86Ec/qm93LE6NAGRKOH78eK6/\\\n",
       "/vp88pOfHHX7q6++mg996EM5duxY/u3f/i3bt2/PP/3TP+Uv//IvJ3mkZbjzzjuzdu3afOELX8gj\\\n",
       "jzyS9773vVm2bFkOHDjQ6KE1vWPHjuWyyy5Ld3f3qNu//vWv5xvf+Ea6u7vz4IMPpr29PR/4wAfq\\\n",
       "303O6bNr1650dnZm9+7d2blzZ1555ZUsXbo0x44dq+/jeEyeCy+8MF/96lfz0EMP5aGHHsr73//+\\\n",
       "fPjDH65HnmNximowhdx22221tra2Eevvvvvu2llnnVX7+c9/Xl93xx131CqVSq23t3cSR1iGP/iD\\\n",
       "P6jddNNNQ9a97W1vq33uc59r0IjKlKR211131Zd/85vf1Nrb22tf/epX6+t+/etf19ra2mrf+ta3\\\n",
       "GjDCshw+fLiWpLZr165areZ4TAUXXHBB7Tvf+Y5j8QaYAeSM8MADD6SjoyPz5s2rr/ujP/qj9Pf3\\\n",
       "5+GHH27gyJrP8ePH8/DDD2fp0qVD1i9dujT3339/g0ZFkuzfvz+HDh0acmwqlUquueYax2YS9Pb2\\\n",
       "JklmzJiRxPFopFdffTXbt2/PsWPHcvXVVzsWb4AA5Ixw6NChzJkzZ8i6Cy64IOecc04OHTrUoFE1\\\n",
       "p+effz6vvvrqiN/vOXPm+L1usIHff8dm8tVqtaxbty7vec970tHRkcTxaITHH388559/fiqVSm66\\\n",
       "6abcddddufTSSx2LN0AAMmGq1WpaWlpO+nrooYde989raWkZsa5Wq426nvEb/vvq93rqcGwmX1dX\\\n",
       "Vx577LHccccdI7Y5HpPn937v9/Loo49m9+7d+eQnP5lVq1Zl79699e2Oxet3dqMHQPPq6urKypUr\\\n",
       "T7rPxRdf/Lp+Vnt7e/793/99yLoXX3wx//M//zPib3yMz8yZM/OmN71pxN+aDx8+7Pe6wdrb25Oc\\\n",
       "mHmaO3dufb1jM7Fuvvnm/OAHP8h9992XCy+8sL7e8Zh855xzTt761rcmSa688so8+OCD+du//dt8\\\n",
       "9rOfTeJYnAozgEyYmTNn5m1ve9tJX+eee+7r+llXX3119uzZk+eee66+7p577kmlUskVV1wxUf8K\\\n",
       "RTrnnHNyxRVXZOfOnUPW79y5M0uWLGnQqEiShQsXpr29fcixOX78eHbt2uXYTIBarZaurq5873vf\\\n",
       "y49//OMsXLhwyHbHo/FqtVr6+/sdizfADCBTwoEDB/LLX/4yBw4cyKuvvppHH300SfLWt741559/\\\n",
       "fpYuXZpLL700H//4x/PXf/3X+eUvf5nPfOYzufHGGzN9+vTGDr4JrVu3Lh//+Mdz5ZVX5uqrr863\\\n",
       "v/3tHDhwIDfddFOjh9b0XnrppTz99NP15f379+fRRx/NjBkzctFFF2Xt2rXZtGlTFi1alEWLFmXT\\\n",
       "pk0577zz8rGPfayBo25OnZ2duf322/P9738/ra2t9Vnxtra2TJs2LS0tLY7HJPr85z+fZcuWZf78\\\n",
       "+Tl69Gi2b9+ee++9N//8z//sWLwRjbsBGX5r1apVtSQjXj/5yU/q+/zsZz+rfehDH6pNmzatNmPG\\\n",
       "jFpXV1ft17/+deMG3eR6enpqCxYsqJ1zzjm1yy+/vP7oCybWT37yk1H/X1i1alWtVjvx6JENGzbU\\\n",
       "2tvba5VKpfa+972v9vjjjzd20E1qtOOQpHbbbbfV93E8Js+f/dmf1f9MmjVrVu0P//APa/fcc099\\\n",
       "u2NxalpqtVpt8rMTAIBGcQ0gAEBhBCAAQGEEIABAYQQgAEBhBCAAQGEEIABAYQQgAEBhBCAAQGEE\\\n",
       "IABAYQQgAEBhBCAAQGEEIABAYQQgAEBhBCAAQGEEIABAYQQgAEBhBCAAQGEEIABAYQQgAEBhBCAA\\\n",
       "QGEEIABAYQQgAEBhBCAAQGEEIABAYQQgAEBhBCAAQGEEIABAYQQgAEBhBCAAQGEEIABAYQQgAEBh\\\n",
       "/n8Gg4aSHc8PywAAAABJRU5ErkJggg==\\\n",
       "\"\n",
       "\n",
       "\n",
       "    /* set a timeout to make sure all the above elements are created before\n",
       "       the object is initialized. */\n",
       "    setTimeout(function() {\n",
       "        anim1963989bdce249f3ac80f3d4a0a08ecc = new Animation(frames, img_id, slider_id, 500.0,\n",
       "                                 loop_select_id);\n",
       "    }, 0);\n",
       "  })()\n",
       "</script>\n"
      ],
      "text/plain": [
       "<IPython.core.display.HTML object>"
      ]
     },
     "execution_count": 51,
     "metadata": {},
     "output_type": "execute_result"
    }
   ],
   "source": [
    "# create your own animation\n",
    "X = data.clone()\n",
    "fig,ax = plt.subplots()\n",
    "ani = FuncAnimation(fig, do_one, frames=5, interval=500, repeat=False)\n",
    "plt.close()\n",
    "HTML(ani.to_jshtml())"
   ]
  },
  {
   "cell_type": "markdown",
   "metadata": {},
   "source": [
    "You could now use the same logic and play around with some stable diffusion animations as well. See the `matplotlib.animation` docs for more details:  \n",
    "*Homework: Create your own animation - could be for some stable diffusion play of yours!*"
   ]
  },
  {
   "cell_type": "markdown",
   "metadata": {
    "tags": []
   },
   "source": [
    "## GPU batched algorithm"
   ]
  },
  {
   "cell_type": "markdown",
   "metadata": {},
   "source": [
    "That took one minute to run. Fairly slow, given the size of our data. We can do GPU accleratiom. That's the good news.  \n",
    "(*To truly accelerate the algorithm, we need to be performing updates on a batch of points per iteration, instead of just one as we were doing.*)"
   ]
  },
  {
   "cell_type": "markdown",
   "metadata": {},
   "source": [
    "The bad news is that the GPU acceleration is a bit tough to do - because of the `for i, x in enumerate(X):` line. Looping through a code 1500 times on GPU using Python is not a good idea, because of the communication overhead involved. Now, we could avoid those loops by using broadcasting. Roll up your sleeves and get to that!"
   ]
  },
  {
   "cell_type": "markdown",
   "metadata": {},
   "source": [
    "Generally, we do broadcasting using GPU using batches."
   ]
  },
  {
   "cell_type": "code",
   "execution_count": 52,
   "metadata": {},
   "outputs": [
    {
     "data": {
      "text/plain": [
       "(torch.Size([5, 2]), torch.Size([1500, 2]))"
      ]
     },
     "execution_count": 52,
     "metadata": {},
     "output_type": "execute_result"
    }
   ],
   "source": [
    "bs=5 #create batch size\n",
    "X = data.clone()\n",
    "x = X[:bs]\n",
    "x.shape, X.shape"
   ]
  },
  {
   "cell_type": "markdown",
   "metadata": {},
   "source": [
    "This `x` is our mini-batch, the first 5 items. We now need a function to calculate 'distance':"
   ]
  },
  {
   "cell_type": "code",
   "execution_count": 59,
   "metadata": {},
   "outputs": [],
   "source": [
    "def dist_b(a,b): return (((a[None]-b[:,None])**2).sum(2)).sqrt()"
   ]
  },
  {
   "cell_type": "code",
   "execution_count": 60,
   "metadata": {},
   "outputs": [
    {
     "data": {
      "text/plain": [
       "tensor([[ 0.000,  2.813,  3.713,  ..., 45.739, 45.099, 45.383],\n",
       "        [ 2.813,  0.000,  1.421,  ..., 43.035, 42.511, 42.732],\n",
       "        [ 3.713,  1.421,  0.000,  ..., 42.036, 41.391, 41.670],\n",
       "        [ 6.068,  4.204,  2.783,  ..., 40.177, 39.276, 39.679],\n",
       "        [ 1.624,  1.483,  2.097,  ..., 44.132, 43.475, 43.765]])"
      ]
     },
     "execution_count": 60,
     "metadata": {},
     "output_type": "execute_result"
    }
   ],
   "source": [
    "dist_b(X, x)"
   ]
  },
  {
   "cell_type": "code",
   "execution_count": 61,
   "metadata": {},
   "outputs": [
    {
     "data": {
      "text/plain": [
       "torch.Size([5, 1500])"
      ]
     },
     "execution_count": 61,
     "metadata": {},
     "output_type": "execute_result"
    }
   ],
   "source": [
    "dist_b(X, x).shape"
   ]
  },
  {
   "cell_type": "markdown",
   "metadata": {},
   "source": [
    "Now let's take a deeper look into how that was possible. Can we do `X-x`? No we can't:"
   ]
  },
  {
   "cell_type": "code",
   "execution_count": 62,
   "metadata": {},
   "outputs": [
    {
     "ename": "RuntimeError",
     "evalue": "The size of tensor a (1500) must match the size of tensor b (5) at non-singleton dimension 0",
     "output_type": "error",
     "traceback": [
      "\u001b[0;31m---------------------------------------------------------------------------\u001b[0m",
      "\u001b[0;31mRuntimeError\u001b[0m                              Traceback (most recent call last)",
      "Cell \u001b[0;32mIn [62], line 1\u001b[0m\n\u001b[0;32m----> 1\u001b[0m X\u001b[38;5;241m-\u001b[39mx\n",
      "\u001b[0;31mRuntimeError\u001b[0m: The size of tensor a (1500) must match the size of tensor b (5) at non-singleton dimension 0"
     ]
    }
   ],
   "source": [
    "X-x"
   ]
  },
  {
   "cell_type": "markdown",
   "metadata": {},
   "source": [
    "Now what if we add a axis to `X` at the start, an axis to `x` in the middle, and try again?"
   ]
  },
  {
   "cell_type": "code",
   "execution_count": 63,
   "metadata": {},
   "outputs": [
    {
     "data": {
      "text/plain": [
       "(torch.Size([1, 1500, 2]), torch.Size([5, 1, 2]), torch.Size([5, 1500, 2]))"
      ]
     },
     "execution_count": 63,
     "metadata": {},
     "output_type": "execute_result"
    }
   ],
   "source": [
    "X[None,:].shape, x[:,None].shape, (X[None,:]-x[:,None]).shape"
   ]
  },
  {
   "cell_type": "markdown",
   "metadata": {},
   "source": [
    "Now see how the `dist_b()` function makes sense?  \n",
    "The `2` dimensions match; the `1` dimension is compatible because one is `1500` and the other is `1`; and the `0` dimension also matches."
   ]
  },
  {
   "cell_type": "markdown",
   "metadata": {},
   "source": [
    "Now how do we get the weights? The `gaussian` kernel doesn't have to be changed!! "
   ]
  },
  {
   "cell_type": "code",
   "execution_count": 64,
   "metadata": {},
   "outputs": [
    {
     "data": {
      "text/plain": [
       "\u001b[0;31mSignature:\u001b[0m \u001b[0mgaussian\u001b[0m\u001b[0;34m(\u001b[0m\u001b[0md\u001b[0m\u001b[0;34m,\u001b[0m \u001b[0mbw\u001b[0m\u001b[0;34m)\u001b[0m\u001b[0;34m\u001b[0m\u001b[0;34m\u001b[0m\u001b[0m\n",
       "\u001b[0;31mDocstring:\u001b[0m <no docstring>\n",
       "\u001b[0;31mSource:\u001b[0m    \u001b[0;32mdef\u001b[0m \u001b[0mgaussian\u001b[0m\u001b[0;34m(\u001b[0m\u001b[0md\u001b[0m\u001b[0;34m,\u001b[0m \u001b[0mbw\u001b[0m\u001b[0;34m)\u001b[0m\u001b[0;34m:\u001b[0m \u001b[0;32mreturn\u001b[0m \u001b[0mtorch\u001b[0m\u001b[0;34m.\u001b[0m\u001b[0mexp\u001b[0m\u001b[0;34m(\u001b[0m\u001b[0;34m-\u001b[0m\u001b[0;36m0.5\u001b[0m\u001b[0;34m*\u001b[0m\u001b[0;34m(\u001b[0m\u001b[0;34m(\u001b[0m\u001b[0md\u001b[0m\u001b[0;34m/\u001b[0m\u001b[0mbw\u001b[0m\u001b[0;34m)\u001b[0m\u001b[0;34m)\u001b[0m\u001b[0;34m**\u001b[0m\u001b[0;36m2\u001b[0m\u001b[0;34m)\u001b[0m \u001b[0;34m/\u001b[0m \u001b[0;34m(\u001b[0m\u001b[0mbw\u001b[0m\u001b[0;34m*\u001b[0m\u001b[0mmath\u001b[0m\u001b[0;34m.\u001b[0m\u001b[0msqrt\u001b[0m\u001b[0;34m(\u001b[0m\u001b[0;36m2\u001b[0m\u001b[0;34m*\u001b[0m\u001b[0mmath\u001b[0m\u001b[0;34m.\u001b[0m\u001b[0mpi\u001b[0m\u001b[0;34m)\u001b[0m\u001b[0;34m)\u001b[0m\u001b[0;34m\u001b[0m\u001b[0;34m\u001b[0m\u001b[0m\n",
       "\u001b[0;31mFile:\u001b[0m      /tmp/ipykernel_255/1178221795.py\n",
       "\u001b[0;31mType:\u001b[0m      function\n"
      ]
     },
     "metadata": {},
     "output_type": "display_data"
    }
   ],
   "source": [
    "gaussian??"
   ]
  },
  {
   "cell_type": "markdown",
   "metadata": {},
   "source": [
    "Since it's all scalars involved in the function, they get broadcast across. It'll work without any messing around."
   ]
  },
  {
   "cell_type": "code",
   "execution_count": 65,
   "metadata": {},
   "outputs": [
    {
     "data": {
      "text/plain": [
       "tensor([[0.199, 0.074, 0.036,  ..., 0.000, 0.000, 0.000],\n",
       "        [0.074, 0.199, 0.155,  ..., 0.000, 0.000, 0.000],\n",
       "        [0.036, 0.155, 0.199,  ..., 0.000, 0.000, 0.000],\n",
       "        [0.002, 0.022, 0.076,  ..., 0.000, 0.000, 0.000],\n",
       "        [0.143, 0.152, 0.115,  ..., 0.000, 0.000, 0.000]])"
      ]
     },
     "execution_count": 65,
     "metadata": {},
     "output_type": "execute_result"
    }
   ],
   "source": [
    "weight = gaussian(dist_b(X,x), 2)\n",
    "weight"
   ]
  },
  {
   "cell_type": "code",
   "execution_count": 66,
   "metadata": {},
   "outputs": [
    {
     "data": {
      "text/plain": [
       "(torch.Size([5, 1500]), torch.Size([1500, 2]))"
      ]
     },
     "execution_count": 66,
     "metadata": {},
     "output_type": "execute_result"
    }
   ],
   "source": [
    "weight.shape,X.shape"
   ]
  },
  {
   "cell_type": "markdown",
   "metadata": {},
   "source": [
    "Now we wanna apply, each of these weights to each of these columns."
   ]
  },
  {
   "cell_type": "code",
   "execution_count": 69,
   "metadata": {},
   "outputs": [
    {
     "data": {
      "text/plain": [
       "(torch.Size([5, 1500, 1]), torch.Size([1, 1500, 2]))"
      ]
     },
     "execution_count": 69,
     "metadata": {},
     "output_type": "execute_result"
    }
   ],
   "source": [
    "weight[...,None].shape, X[None].shape"
   ]
  },
  {
   "cell_type": "markdown",
   "metadata": {},
   "source": [
    "*Note*: `weight[...,None]` is a nice way to say \"Add an axis to the end\"."
   ]
  },
  {
   "cell_type": "markdown",
   "metadata": {},
   "source": [
    "Now, multiply the weights, sum across the 1500 points, and get the 5 new datapoints:"
   ]
  },
  {
   "cell_type": "code",
   "execution_count": 72,
   "metadata": {},
   "outputs": [
    {
     "data": {
      "text/plain": [
       "torch.Size([5, 2])"
      ]
     },
     "execution_count": 72,
     "metadata": {},
     "output_type": "execute_result"
    }
   ],
   "source": [
    "num = (weight[...,None]*X[None]).sum(1)\n",
    "num.shape"
   ]
  },
  {
   "cell_type": "code",
   "execution_count": 73,
   "metadata": {},
   "outputs": [
    {
     "data": {
      "text/plain": [
       "tensor([[1046.464,  159.542],\n",
       "        [1009.779,  198.138],\n",
       "        [ 693.898,  135.470],\n",
       "        [ 172.245,   32.679],\n",
       "        [1047.922,  177.017]])"
      ]
     },
     "execution_count": 73,
     "metadata": {},
     "output_type": "execute_result"
    }
   ],
   "source": [
    "num"
   ]
  },
  {
   "cell_type": "markdown",
   "metadata": {},
   "source": [
    "See how `num = (weight[...,None]*X[None]).sum(1)` has a product and a sum? So we can use `einsum`!!"
   ]
  },
  {
   "cell_type": "code",
   "execution_count": 74,
   "metadata": {},
   "outputs": [
    {
     "data": {
      "text/plain": [
       "tensor([[1046.463,  159.542],\n",
       "        [1009.779,  198.138],\n",
       "        [ 693.897,  135.470],\n",
       "        [ 172.245,   32.679],\n",
       "        [1047.922,  177.017]])"
      ]
     },
     "execution_count": 74,
     "metadata": {},
     "output_type": "execute_result"
    }
   ],
   "source": [
    "torch.einsum('ij,jk->ik', weight, X)"
   ]
  },
  {
   "cell_type": "markdown",
   "metadata": {},
   "source": [
    "Well, that was the same formula we used for matrix multiplication, didn't we? Guess we just reinvented matrix multiplication at the `(weight[...,None]*X[None]).sum(1)` step!"
   ]
  },
  {
   "cell_type": "code",
   "execution_count": 75,
   "metadata": {},
   "outputs": [
    {
     "data": {
      "text/plain": [
       "tensor([[1046.463,  159.542],\n",
       "        [1009.779,  198.138],\n",
       "        [ 693.897,  135.470],\n",
       "        [ 172.245,   32.679],\n",
       "        [1047.922,  177.017]])"
      ]
     },
     "execution_count": 75,
     "metadata": {},
     "output_type": "execute_result"
    }
   ],
   "source": [
    "weight@X"
   ]
  },
  {
   "cell_type": "markdown",
   "metadata": {},
   "source": [
    "Now, figure out the divisor (sum of weights):"
   ]
  },
  {
   "cell_type": "code",
   "execution_count": 76,
   "metadata": {},
   "outputs": [
    {
     "data": {
      "text/plain": [
       "torch.Size([5, 1])"
      ]
     },
     "execution_count": 76,
     "metadata": {},
     "output_type": "execute_result"
    }
   ],
   "source": [
    "div = weight.sum(1, keepdim=True)\n",
    "div.shape"
   ]
  },
  {
   "cell_type": "code",
   "execution_count": 77,
   "metadata": {},
   "outputs": [
    {
     "data": {
      "text/plain": [
       "tensor([[26.525,  4.044],\n",
       "        [25.491,  5.002],\n",
       "        [24.738,  4.830],\n",
       "        [23.174,  4.397],\n",
       "        [25.702,  4.342]])"
      ]
     },
     "execution_count": 77,
     "metadata": {},
     "output_type": "execute_result"
    }
   ],
   "source": [
    "num/div"
   ]
  },
  {
   "cell_type": "markdown",
   "metadata": {},
   "source": [
    "Now that we have all the steps ready, put them all together to write a function!  \n",
    "*(don't try to write a function like this from scratch. Play with the components and put them together):*"
   ]
  },
  {
   "cell_type": "code",
   "execution_count": 78,
   "metadata": {},
   "outputs": [],
   "source": [
    "def meanshift(data, bs=500):\n",
    "    n = len(data)\n",
    "    X = data.clone()\n",
    "    for it in range(5):\n",
    "        for i in range(0, n, bs):\n",
    "            s = slice(i, min(i+bs,n))\n",
    "            weight = gaussian(dist_b(X, X[s]), 2.5)\n",
    "#             weight = tri(dist_b(X, X[s]), 8)\n",
    "            div = weight.sum(1, keepdim=True)\n",
    "            X[s] = weight@X/div\n",
    "    return X"
   ]
  },
  {
   "cell_type": "markdown",
   "metadata": {},
   "source": [
    "The `slice` you see here is what Python uses when you use `:` in tensors. Super useful."
   ]
  },
  {
   "cell_type": "markdown",
   "metadata": {},
   "source": [
    "Although each iteration still has to launch a new cuda kernel, there are now fewer iterations, and the acceleration from updating a batch of points more than makes up for it."
   ]
  },
  {
   "cell_type": "markdown",
   "metadata": {},
   "source": [
    "Pop the data onto the GPU:"
   ]
  },
  {
   "cell_type": "code",
   "execution_count": 80,
   "metadata": {},
   "outputs": [],
   "source": [
    "data = data.cuda()"
   ]
  },
  {
   "cell_type": "markdown",
   "metadata": {},
   "source": [
    "Run `meanshift()`, and pull the data back to the cpu."
   ]
  },
  {
   "cell_type": "code",
   "execution_count": 100,
   "metadata": {},
   "outputs": [],
   "source": [
    "X = meanshift(data).cpu()"
   ]
  },
  {
   "cell_type": "code",
   "execution_count": 102,
   "metadata": {},
   "outputs": [
    {
     "name": "stdout",
     "output_type": "stream",
     "text": [
      "1.67 s ± 38.7 ms per loop (mean ± std. dev. of 7 runs, 5 loops each)\n"
     ]
    }
   ],
   "source": [
    "%timeit -n 5 _=meanshift(data, 1).cpu()"
   ]
  },
  {
   "cell_type": "code",
   "execution_count": 103,
   "metadata": {},
   "outputs": [
    {
     "name": "stdout",
     "output_type": "stream",
     "text": [
      "The slowest run took 4.26 times longer than the fastest. This could mean that an intermediate result is being cached.\n",
      "15.7 ms ± 11.9 ms per loop (mean ± std. dev. of 7 runs, 5 loops each)\n"
     ]
    }
   ],
   "source": [
    "%timeit -n 5 _=meanshift(data, 500).cpu()"
   ]
  },
  {
   "cell_type": "markdown",
   "metadata": {},
   "source": [
    "See the difference between those two runs? Batch size matters!!"
   ]
  },
  {
   "cell_type": "code",
   "execution_count": 83,
   "metadata": {},
   "outputs": [
    {
     "data": {
      "image/png": "[encoded data removed]",
      "text/plain": [
       "<Figure size 640x480 with 1 Axes>"
      ]
     },
     "metadata": {},
     "output_type": "display_data"
    }
   ],
   "source": [
    "plot_data(centroids+2, X, n_samples)"
   ]
  },
  {
   "cell_type": "markdown",
   "metadata": {},
   "source": [
    "**Homework:** implement k-means clustering, dbscan, locality sensitive hashing, or some other clustering, fast nearest neighbors, or similar algorithm of your choice, on the GPU. Check if your version is faster than a pure python or CPU version.\n",
    "\n",
    "Bonus: Implement it in APL too!\n",
    "\n",
    "Super bonus: Invent a new meanshift algorithm which picks only the closest points, to avoid quadratic time.\n",
    "\n",
    "Super super bonus: Publish a paper that describes it :D"
   ]
  },
  {
   "cell_type": "code",
   "execution_count": null,
   "metadata": {},
   "outputs": [],
   "source": []
  }
 ],
 "metadata": {
  "kernelspec": {
   "display_name": "Python 3 (ipykernel)",
   "language": "python",
   "name": "python3"
  },
  "language_info": {
   "codemirror_mode": {
    "name": "ipython",
    "version": 3
   },
   "file_extension": ".py",
   "mimetype": "text/x-python",
   "name": "python",
   "nbconvert_exporter": "python",
   "pygments_lexer": "ipython3",
   "version": "3.9.16"
  }
 },
 "nbformat": 4,
 "nbformat_minor": 4
}
