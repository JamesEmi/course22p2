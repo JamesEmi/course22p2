{
 "cells": [
  {
   "cell_type": "markdown",
   "id": "057b1991-2df5-4dea-9451-02d4d866d068",
   "metadata": {},
   "source": [
    "## Randn Play"
   ]
  },
  {
   "cell_type": "code",
   "execution_count": 1,
   "id": "f2d21afd-0a05-4c90-89ae-3efff5abeef1",
   "metadata": {},
   "outputs": [
    {
     "name": "stdout",
     "output_type": "stream",
     "text": [
      "tensor([[1, 2, 3],\n",
      "        [4, 5, 6]])\n",
      "tensor([[1, 2],\n",
      "        [3, 4],\n",
      "        [5, 6]])\n"
     ]
    }
   ],
   "source": [
    "import torch\n",
    "\n",
    "# Create a tensor of shape (2, 3)\n",
    "tensor = torch.tensor([[1, 2, 3], [4, 5, 6]])\n",
    "print(tensor)\n",
    "\n",
    "# Use view() to reshape the tensor to shape (3, 2)\n",
    "reshaped_tensor = tensor.view(3, 2)\n",
    "print(reshaped_tensor)"
   ]
  },
  {
   "cell_type": "code",
   "execution_count": 2,
   "id": "ccd2a746-2f6b-4a8a-8636-8a3c9a3352d7",
   "metadata": {},
   "outputs": [
    {
     "name": "stdout",
     "output_type": "stream",
     "text": [
      "tensor([1, 2, 3, 4, 5, 6])\n"
     ]
    }
   ],
   "source": [
    "reshaped_tensor = tensor.view(-1)\n",
    "print(reshaped_tensor)"
   ]
  },
  {
   "cell_type": "code",
   "execution_count": 3,
   "id": "d8a6cd1f-67e1-4f61-8980-78463577d8fd",
   "metadata": {},
   "outputs": [
    {
     "ename": "RuntimeError",
     "evalue": "shape '[1]' is invalid for input of size 6",
     "output_type": "error",
     "traceback": [
      "\u001b[0;31m---------------------------------------------------------------------------\u001b[0m",
      "\u001b[0;31mRuntimeError\u001b[0m                              Traceback (most recent call last)",
      "Cell \u001b[0;32mIn [3], line 1\u001b[0m\n\u001b[0;32m----> 1\u001b[0m reshaped_tensor \u001b[38;5;241m=\u001b[39m tensor\u001b[38;5;241m.\u001b[39mview(\u001b[38;5;241m1\u001b[39m)\n\u001b[1;32m      2\u001b[0m \u001b[38;5;28mprint\u001b[39m(reshaped_tensor)\n",
      "\u001b[0;31mRuntimeError\u001b[0m: shape '[1]' is invalid for input of size 6"
     ]
    }
   ],
   "source": [
    "reshaped_tensor = tensor.view(1)\n",
    "print(reshaped_tensor)"
   ]
  },
  {
   "cell_type": "markdown",
   "id": "230f31b1-3a1a-4543-8040-b1b28d8283b6",
   "metadata": {},
   "source": [
    "When you use `tensor.view(-1)`, you're asking PyTorch to give you a tensor that has the same total number of elements `(6)`, but with a single dimension. The result will be a tensor of shape `(6,)`.\n",
    "\n",
    "However, when you use `tensor.view(1)`, you're asking PyTorch to reshape the tensor to have a size of `1` along the first dimension."
   ]
  },
  {
   "cell_type": "code",
   "execution_count": 5,
   "id": "70303b3d-34d7-4631-a84d-a20f6ac0d598",
   "metadata": {},
   "outputs": [
    {
     "name": "stdout",
     "output_type": "stream",
     "text": [
      "tensor([[1, 2, 3, 4, 5, 6]])\n"
     ]
    }
   ],
   "source": [
    "reshaped_tensor = tensor.view(1, 6)\n",
    "print(reshaped_tensor)"
   ]
  },
  {
   "cell_type": "code",
   "execution_count": null,
   "id": "0368615d-9e6d-4268-8edf-f7df44cd89d6",
   "metadata": {},
   "outputs": [],
   "source": []
  }
 ],
 "metadata": {
  "kernelspec": {
   "display_name": "Python 3 (ipykernel)",
   "language": "python",
   "name": "python3"
  },
  "language_info": {
   "codemirror_mode": {
    "name": "ipython",
    "version": 3
   },
   "file_extension": ".py",
   "mimetype": "text/x-python",
   "name": "python",
   "nbconvert_exporter": "python",
   "pygments_lexer": "ipython3",
   "version": "3.9.16"
  }
 },
 "nbformat": 4,
 "nbformat_minor": 5
}
